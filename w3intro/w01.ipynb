{
 "cells": [
  {
   "cell_type": "code",
   "execution_count": 1,
   "metadata": {},
   "outputs": [
    {
     "name": "stdout",
     "output_type": "stream",
     "text": [
      "89.76923076923077 87.0 ModeResult(mode=86, count=3)\n",
      "9.258292301032677\n"
     ]
    }
   ],
   "source": [
    "#mean,median.mode\n",
    "import numpy as np\n",
    "from scipy import stats\n",
    "\n",
    "speed = [99,86,87,88,111,86,103,87,94,78,77,85,86]\n",
    "\n",
    "mean = np.mean(speed)\n",
    "median = np.median(speed)\n",
    "mode = stats.mode(speed,keepdims=False)\n",
    "\n",
    "print(mean,median,mode)\n",
    "\n",
    "#Standard deviation is a number that describes how spread out the values are. A low standard deviation means that most of the numbers are close to the mean (average) value.\n",
    "std = np.std(speed)\n",
    "print(std)\n"
   ]
  },
  {
   "cell_type": "code",
   "execution_count": 13,
   "metadata": {},
   "outputs": [
    {
     "name": "stdout",
     "output_type": "stream",
     "text": [
      "92.85897435897435 9.636336148089395\n"
     ]
    }
   ],
   "source": [
    "#variance step by step\n",
    "import numpy as np\n",
    "speed = [99,86,87,88,111,86,103,87,94,78,77,85,86]\n",
    "#find the mean by dividing sum by len, dont use np.mean\n",
    "mean = np.sum(speed)/len(speed)\n",
    "#for each value in speed, find the difference from the mean in a for loop\n",
    "diff = []\n",
    "for i in speed:\n",
    "    diff.append(i-mean)\n",
    "    #print(diff)\n",
    "diffsq = []\n",
    "for i in diff:\n",
    "    diffsq.append(i**2)\n",
    "    #print(diffsq)\n",
    "var = np.sum(diffsq)/(len(diffsq)-1)\n",
    "std = np.sqrt(var)\n",
    "\n",
    "print(var,std)\n",
    "\n",
    "\n"
   ]
  }
 ],
 "metadata": {
  "kernelspec": {
   "display_name": ".venv",
   "language": "python",
   "name": "python3"
  },
  "language_info": {
   "codemirror_mode": {
    "name": "ipython",
    "version": 3
   },
   "file_extension": ".py",
   "mimetype": "text/x-python",
   "name": "python",
   "nbconvert_exporter": "python",
   "pygments_lexer": "ipython3",
   "version": "3.11.3"
  }
 },
 "nbformat": 4,
 "nbformat_minor": 2
}
