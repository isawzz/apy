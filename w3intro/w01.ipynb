{
 "cells": [
  {
   "cell_type": "code",
   "execution_count": 17,
   "metadata": {},
   "outputs": [
    {
     "name": "stdout",
     "output_type": "stream",
     "text": [
      "89.76923076923077 87.0 ModeResult(mode=86, count=3)\n",
      "85.71597633136093 9.258292301032677\n"
     ]
    }
   ],
   "source": [
    "#mean,median.mode\n",
    "import numpy as np\n",
    "from scipy import stats\n",
    "\n",
    "speed = [99,86,87,88,111,86,103,87,94,78,77,85,86]\n",
    "\n",
    "mean = np.mean(speed)\n",
    "median = np.median(speed)\n",
    "mode = stats.mode(speed,keepdims=False)\n",
    "\n",
    "print(mean,median,mode)\n",
    "\n",
    "#Standard deviation is a number that describes how spread out the values are. A low standard deviation means that most of the numbers are close to the mean (average) value.\n",
    "std = np.std(speed)\n",
    "var = np.var(speed)\n",
    "print(var,std)\n"
   ]
  },
  {
   "cell_type": "code",
   "execution_count": null,
   "metadata": {},
   "outputs": [],
   "source": [
    "#variance step by step\n",
    "import numpy as np\n",
    "speed = [99,86,87,88,111,86,103,87,94,78,77,85,86]\n",
    "mean = np.sum(speed)/len(speed)\n",
    "diff = [i-mean for i in speed] #for i in speed: diff.append(i-mean)\n",
    "diffsq = [i**2 for i in diff]\n",
    "var = np.sum(diffsq)/(len(diffsq)-1)\n",
    "std = np.sqrt(var)\n",
    "print(var,std)"
   ]
  },
  {
   "cell_type": "code",
   "execution_count": 2,
   "metadata": {},
   "outputs": [
    {
     "name": "stdout",
     "output_type": "stream",
     "text": [
      "[0, 1, 3, 6, 10, 15]\n"
     ]
    }
   ],
   "source": [
    "def prefix_sum(arr):\n",
    "    n = len(arr)\n",
    "    prefix = [0] * (n + 1)\n",
    "    for i in range(1, n + 1):\n",
    "        prefix[i] = prefix[i - 1] + arr[i - 1]\n",
    "    return prefix\n",
    "\n",
    "print(prefix_sum([1,2,3,4,5]))"
   ]
  },
  {
   "cell_type": "code",
   "execution_count": 4,
   "metadata": {},
   "outputs": [
    {
     "name": "stdout",
     "output_type": "stream",
     "text": [
      "[1 0 0 1 1 0 0 1 0 0 0 0 0 0 1 1 1 0 0 0]\n"
     ]
    }
   ],
   "source": [
    "#array of length 20 with elements {0,1}\n",
    "import numpy as np\n",
    "a=np.random.randint(0,2,20)\n",
    "print(a)\n",
    "n=len(a)\n",
    "conti=[0]*(n+1)\n",
    "a1=a[0]\n",
    "cnt=0\n",
    "for i in range(1,n+1):\n",
    "    if a[i]==0:\n",
    "        conti[i+1]=conti[i]+1\n",
    "    else:\n",
    "        conti[i+1]=conti[i]"
   ]
  }
 ],
 "metadata": {
  "kernelspec": {
   "display_name": ".venv",
   "language": "python",
   "name": "python3"
  },
  "language_info": {
   "codemirror_mode": {
    "name": "ipython",
    "version": 3
   },
   "file_extension": ".py",
   "mimetype": "text/x-python",
   "name": "python",
   "nbconvert_exporter": "python",
   "pygments_lexer": "ipython3",
   "version": "3.11.4"
  }
 },
 "nbformat": 4,
 "nbformat_minor": 2
}
