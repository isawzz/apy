{
 "cells": [
  {
   "cell_type": "code",
   "execution_count": 7,
   "metadata": {},
   "outputs": [
    {
     "name": "stdout",
     "output_type": "stream",
     "text": [
      "hallo\n"
     ]
    }
   ],
   "source": [
    "import numpy as np"
   ]
  },
  {
   "cell_type": "code",
   "execution_count": null,
   "metadata": {},
   "outputs": [],
   "source": [
    "def f1(a,b):\n",
    "  return a+b\n",
    "\n",
    "def f2():\n",
    "  print('das ist mit ein raetsel warum das nicht geht!!!')\n",
    "  if (True):\n",
    "    print('true')\n",
    "  elif (23 == 23):\n",
    "    print('false')\n",
    "  else:\n",
    "    print('neither!!!')\n",
    "\n",
    "\n",
    "print('hallo')\n",
    "print(f1(12,13))"
   ]
  },
  {
   "cell_type": "code",
   "execution_count": 2,
   "metadata": {},
   "outputs": [
    {
     "name": "stdout",
     "output_type": "stream",
     "text": [
      "hallo\n",
      "25\n"
     ]
    }
   ],
   "source": [
    "a = 23\n",
    "\n",
    "def f1(a,b):\n",
    "  return a+b\n",
    "\n",
    "def f2():\n",
    "  print('das ist mit ein raetsel warum das nicht geht!!!')\n",
    "  if (True):\n",
    "    print('true')\n",
    "  elif (23 == 23):\n",
    "    print('false')\n",
    "  else:\n",
    "    print('neither!!!')\n",
    "\n",
    "\n",
    "print('hallo')\n",
    "print(f1(12,13))"
   ]
  },
  {
   "cell_type": "code",
   "execution_count": 3,
   "metadata": {},
   "outputs": [
    {
     "name": "stdout",
     "output_type": "stream",
     "text": [
      "hallo\n",
      "25\n"
     ]
    }
   ],
   "source": [
    "a = 23\n",
    "\n",
    "def f1(a,b):\n",
    "  return a+b\n",
    "\n",
    "def f2():\n",
    "  print('das ist mit ein raetsel warum das nicht geht!!!')\n",
    "  if (True):\n",
    "    print('true')\n",
    "  elif (23 == 23):\n",
    "    print('false')\n",
    "  else:\n",
    "    print('neither!!!')\n",
    "\n",
    "\n",
    "print('hallo')\n",
    "print(f1(12,13))"
   ]
  },
  {
   "cell_type": "code",
   "execution_count": 4,
   "metadata": {},
   "outputs": [
    {
     "name": "stdout",
     "output_type": "stream",
     "text": [
      "hallo\n",
      "25\n"
     ]
    }
   ],
   "source": [
    "a = 23\n",
    "\n",
    "def f1(a,b):\n",
    "  return a+b\n",
    "\n",
    "def f2():\n",
    "  print('das ist mit ein raetsel warum das nicht geht!!!')\n",
    "  if (True):\n",
    "    print('true')\n",
    "  elif (23 == 23):\n",
    "    print('false')\n",
    "  else:\n",
    "    print('neither!!!')\n",
    "\n",
    "\n",
    "print('hallo')\n",
    "print(f1(12,13))"
   ]
  },
  {
   "cell_type": "code",
   "execution_count": 5,
   "metadata": {},
   "outputs": [
    {
     "name": "stdout",
     "output_type": "stream",
     "text": [
      "hallo\n",
      "25\n"
     ]
    }
   ],
   "source": [
    "a = 23\n",
    "\n",
    "def f1(a,b):\n",
    "  return a+b\n",
    "\n",
    "def f2():\n",
    "  print('das ist mit ein raetsel warum das nicht geht!!!')\n",
    "  if (True):\n",
    "    print('true')\n",
    "  elif (23 == 23):\n",
    "    print('false')\n",
    "  else:\n",
    "    print('neither!!!')\n",
    "\n",
    "\n",
    "print('hallo')\n",
    "print(f1(12,13))"
   ]
  },
  {
   "cell_type": "code",
   "execution_count": 6,
   "metadata": {},
   "outputs": [
    {
     "name": "stdout",
     "output_type": "stream",
     "text": [
      "hallo\n",
      "25\n"
     ]
    }
   ],
   "source": [
    "a = 23\n",
    "\n",
    "def f1(a,b):\n",
    "  return a+b\n",
    "\n",
    "def f2():\n",
    "  print('das ist mit ein raetsel warum das nicht geht!!!')\n",
    "  if (True):\n",
    "    print('true')\n",
    "  elif (23 == 23):\n",
    "    print('false')\n",
    "  else:\n",
    "    print('neither!!!')\n",
    "\n",
    "\n",
    "print('hallo')\n",
    "print(f1(12,13))"
   ]
  }
 ],
 "metadata": {
  "kernelspec": {
   "display_name": "Python 3",
   "language": "python",
   "name": "python3"
  },
  "language_info": {
   "codemirror_mode": {
    "name": "ipython",
    "version": 3
   },
   "file_extension": ".py",
   "mimetype": "text/x-python",
   "name": "python",
   "nbconvert_exporter": "python",
   "pygments_lexer": "ipython3",
   "version": "3.10.11"
  },
  "orig_nbformat": 4
 },
 "nbformat": 4,
 "nbformat_minor": 2
}
