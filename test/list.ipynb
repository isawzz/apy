{
 "cells": [
  {
   "cell_type": "code",
   "execution_count": 21,
   "metadata": {},
   "outputs": [
    {
     "name": "stdout",
     "output_type": "stream",
     "text": [
      "[1, 2, 3, [4]]\n",
      "x 1\n",
      "1\n"
     ]
    },
    {
     "data": {
      "text/plain": [
       "['hallo', 'das', 'ist', 'komisch']"
      ]
     },
     "execution_count": 21,
     "metadata": {},
     "output_type": "execute_result"
    }
   ],
   "source": [
    "l1 = [1,2,3]\n",
    "l2 = [4]\n",
    "l1.append(l2) \n",
    "print(l1) # l1 ist jetzt [1,2,3,[4]]\n",
    "sh = l1[:]\n",
    "#sh[3].append(l2) #sehr interessant was da rauskommt! l2 [4, [...]] =>endlos recursion!\n",
    "#sh[3].append(l2[:]) #hier wird shallow copy von l2 appended, l2 [4, [4]]\n",
    "#sh[3].append(l1[:]) #endlos rec?! JA! l2 [4, [1, 2, 3, [...]]]\n",
    "import copy\n",
    "dp = copy.deepcopy(l1)\n",
    "#dp[3].append(l2) #jetzt sind l2 und dp[3] entkoppelt!\n",
    "#dp[3].append(l2[:]) #same\n",
    "dp[3].append(l1[:]) #sollte sein [1,2,3,[4,[1,2,3,[4]]]] #!!! achtung!\n",
    "dp\n",
    "\n",
    "(x,y)=(2,3)\n",
    "x,y,z=1,2,3 #x is now 1\n",
    "print('x',x)\n",
    "[a,b,c]=[1,2,3]\n",
    "print(a)\n",
    "\n",
    "x='hallo das ist\\r\\n\\f\\tkomisch'.split()\n",
    "x"
   ]
  },
  {
   "cell_type": "code",
   "execution_count": 25,
   "metadata": {},
   "outputs": [
    {
     "data": {
      "text/plain": [
       "'python'"
      ]
     },
     "execution_count": 25,
     "metadata": {},
     "output_type": "execute_result"
    }
   ],
   "source": [
    "'www.python.org'.strip(\".gorw\") # 'python'\n",
    "#'www.python.org'.strip(['org','wa']) # geht nicht! nur None or str arg!\n"
   ]
  }
 ],
 "metadata": {
  "kernelspec": {
   "display_name": ".venv",
   "language": "python",
   "name": "python3"
  },
  "language_info": {
   "codemirror_mode": {
    "name": "ipython",
    "version": 3
   },
   "file_extension": ".py",
   "mimetype": "text/x-python",
   "name": "python",
   "nbconvert_exporter": "python",
   "pygments_lexer": "ipython3",
   "version": "3.11.3"
  },
  "orig_nbformat": 4
 },
 "nbformat": 4,
 "nbformat_minor": 2
}
