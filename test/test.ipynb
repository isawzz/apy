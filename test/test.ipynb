{
 "cells": [
  {
   "cell_type": "code",
   "execution_count": 2,
   "metadata": {},
   "outputs": [],
   "source": [
    "import numpy as np\n",
    "import matplotlib.pyplot as plt\n",
    "import pandas as pd"
   ]
  },
  {
   "cell_type": "code",
   "execution_count": 8,
   "metadata": {},
   "outputs": [
    {
     "name": "stdout",
     "output_type": "stream",
     "text": [
      "10 [ 0.87944251  1.93145807  1.48714143  0.16412158  0.01863009 -0.07661837\n",
      " -1.50045953 -1.24534405  0.16419658 -0.1658529 ]\n"
     ]
    }
   ],
   "source": [
    "plt.close('all')\n",
    "arr = np.random.randn(10)\n",
    "print(len(arr),arr)\n",
    "#ts = pd.Series()"
   ]
  },
  {
   "cell_type": "code",
   "execution_count": 12,
   "metadata": {},
   "outputs": [
    {
     "name": "stdout",
     "output_type": "stream",
     "text": [
      "[3 4 4 9 3 4 2 5 4 9]\n",
      "0    3\n",
      "1    4\n",
      "2    4\n",
      "3    9\n",
      "4    3\n",
      "5    4\n",
      "6    2\n",
      "7    5\n",
      "8    4\n",
      "9    9\n",
      "dtype: int32\n"
     ]
    }
   ],
   "source": [
    "plt.close('all')\n",
    "arr = np.random.randint(low=1, high=10, size=(10,)) #size macht die dims!\n",
    "print(arr)\n",
    "ts = pd.Series(arr)\n",
    "print(ts)"
   ]
  },
  {
   "cell_type": "code",
   "execution_count": 5,
   "metadata": {},
   "outputs": [],
   "source": [
    "import numpy as np\n",
    "import matplotlib.pyplot as plt\n",
    "import pandas as pd"
   ]
  },
  {
   "cell_type": "code",
   "execution_count": 6,
   "metadata": {},
   "outputs": [
    {
     "name": "stdout",
     "output_type": "stream",
     "text": [
      "2\n"
     ]
    }
   ],
   "source": [
    "plt.close('all')\n",
    "arr = np.random.randint(10)\n",
    "print(arr)\n",
    "#ts = pd.Series()"
   ]
  },
  {
   "cell_type": "code",
   "execution_count": 7,
   "metadata": {},
   "outputs": [
    {
     "name": "stdout",
     "output_type": "stream",
     "text": [
      "hallo\n",
      "25\n"
     ]
    }
   ],
   "source": [
    "a = 23\n",
    "\n",
    "\n",
    "def f1(a,b):\n",
    "  return a+b\n",
    "\n",
    "def f2():\n",
    "  print('das ist mit ein raetsel warum das nicht geht!!!')\n",
    "  if (a == 23):\n",
    "    print('true')\n",
    "  elif (a < 23):\n",
    "    print('false')\n",
    "  else:\n",
    "    print('neither!!!')\n",
    "\n",
    "\n",
    "print('hallo')\n",
    "print(f1(12,13))"
   ]
  }
 ],
 "metadata": {
  "kernelspec": {
   "display_name": ".venv",
   "language": "python",
   "name": "python3"
  },
  "language_info": {
   "codemirror_mode": {
    "name": "ipython",
    "version": 3
   },
   "file_extension": ".py",
   "mimetype": "text/x-python",
   "name": "python",
   "nbconvert_exporter": "python",
   "pygments_lexer": "ipython3",
   "version": "3.11.3"
  },
  "orig_nbformat": 4
 },
 "nbformat": 4,
 "nbformat_minor": 2
}
