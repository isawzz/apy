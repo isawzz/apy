{
 "cells": [
  {
   "cell_type": "markdown",
   "id": "011eea2e",
   "metadata": {
    "papermill": {
     "duration": 0.021814,
     "end_time": "2023-07-31T10:36:24.858597",
     "exception": false,
     "start_time": "2023-07-31T10:36:24.836783",
     "status": "completed"
    },
    "tags": []
   },
   "source": [
    "**If you like my notebook, please don't forget to upvote! You can also make a copy of my notebook and edit to run your additional analysis.**"
   ]
  },
  {
   "cell_type": "code",
   "execution_count": 1,
   "id": "21a92497",
   "metadata": {
    "_cell_guid": "b1076dfc-b9ad-4769-8c92-a6c4dae69d19",
    "_uuid": "8f2839f25d086af736a60e9eeb907d3b93b6e0e5",
    "execution": {
     "iopub.execute_input": "2023-07-31T10:36:24.904108Z",
     "iopub.status.busy": "2023-07-31T10:36:24.903117Z",
     "iopub.status.idle": "2023-07-31T10:36:24.923258Z",
     "shell.execute_reply": "2023-07-31T10:36:24.922102Z"
    },
    "papermill": {
     "duration": 0.045946,
     "end_time": "2023-07-31T10:36:24.925852",
     "exception": false,
     "start_time": "2023-07-31T10:36:24.879906",
     "status": "completed"
    },
    "tags": []
   },
   "outputs": [
    {
     "name": "stdout",
     "output_type": "stream",
     "text": [
      "/kaggle/input/sleep-health-and-lifestyle-dataset/Sleep_health_and_lifestyle_dataset.csv\n"
     ]
    }
   ],
   "source": [
    "# This Python 3 environment comes with many helpful analytics libraries installed\n",
    "# It is defined by the kaggle/python Docker image: https://github.com/kaggle/docker-python\n",
    "# For example, here's several helpful packages to load\n",
    "\n",
    "import numpy as np # linear algebra\n",
    "import pandas as pd # data processing, CSV file I/O (e.g. pd.read_csv)\n",
    "\n",
    "# Input data files are available in the read-only \"../input/\" directory\n",
    "# For example, running this (by clicking run or pressing Shift+Enter) will list all files under the input directory\n",
    "\n",
    "import os\n",
    "for dirname, _, filenames in os.walk('/kaggle/input'):\n",
    "    for filename in filenames:\n",
    "        print(os.path.join(dirname, filename))\n",
    "\n",
    "# You can write up to 20GB to the current directory (/kaggle/working/) that gets preserved as output when you create a version using \"Save & Run All\" \n",
    "# You can also write temporary files to /kaggle/temp/, but they won't be saved outside of the current session"
   ]
  },
  {
   "cell_type": "code",
   "execution_count": 2,
   "id": "7fe90083",
   "metadata": {
    "execution": {
     "iopub.execute_input": "2023-07-31T10:36:24.972000Z",
     "iopub.status.busy": "2023-07-31T10:36:24.971639Z",
     "iopub.status.idle": "2023-07-31T10:36:26.401444Z",
     "shell.execute_reply": "2023-07-31T10:36:26.400328Z"
    },
    "papermill": {
     "duration": 1.456457,
     "end_time": "2023-07-31T10:36:26.404426",
     "exception": false,
     "start_time": "2023-07-31T10:36:24.947969",
     "status": "completed"
    },
    "tags": []
   },
   "outputs": [
    {
     "name": "stderr",
     "output_type": "stream",
     "text": [
      "/opt/conda/lib/python3.10/site-packages/scipy/__init__.py:146: UserWarning: A NumPy version >=1.16.5 and <1.23.0 is required for this version of SciPy (detected version 1.23.5\n",
      "  warnings.warn(f\"A NumPy version >={np_minversion} and <{np_maxversion}\"\n"
     ]
    }
   ],
   "source": [
    "import seaborn as sns\n",
    "sns.set()\n",
    "import matplotlib.pyplot as plt"
   ]
  },
  {
   "cell_type": "markdown",
   "id": "8250dc65",
   "metadata": {
    "papermill": {
     "duration": 0.021112,
     "end_time": "2023-07-31T10:36:26.452975",
     "exception": false,
     "start_time": "2023-07-31T10:36:26.431863",
     "status": "completed"
    },
    "tags": []
   },
   "source": [
    "# Importing the Raw data"
   ]
  },
  {
   "cell_type": "code",
   "execution_count": 3,
   "id": "d0f28af7",
   "metadata": {
    "execution": {
     "iopub.execute_input": "2023-07-31T10:36:26.497341Z",
     "iopub.status.busy": "2023-07-31T10:36:26.496978Z",
     "iopub.status.idle": "2023-07-31T10:36:26.536382Z",
     "shell.execute_reply": "2023-07-31T10:36:26.535347Z"
    },
    "papermill": {
     "duration": 0.064282,
     "end_time": "2023-07-31T10:36:26.538905",
     "exception": false,
     "start_time": "2023-07-31T10:36:26.474623",
     "status": "completed"
    },
    "tags": []
   },
   "outputs": [
    {
     "data": {
      "text/html": [
       "<div>\n",
       "<style scoped>\n",
       "    .dataframe tbody tr th:only-of-type {\n",
       "        vertical-align: middle;\n",
       "    }\n",
       "\n",
       "    .dataframe tbody tr th {\n",
       "        vertical-align: top;\n",
       "    }\n",
       "\n",
       "    .dataframe thead th {\n",
       "        text-align: right;\n",
       "    }\n",
       "</style>\n",
       "<table border=\"1\" class=\"dataframe\">\n",
       "  <thead>\n",
       "    <tr style=\"text-align: right;\">\n",
       "      <th></th>\n",
       "      <th>Person ID</th>\n",
       "      <th>Gender</th>\n",
       "      <th>Age</th>\n",
       "      <th>Occupation</th>\n",
       "      <th>Sleep Duration</th>\n",
       "      <th>Quality of Sleep</th>\n",
       "      <th>Physical Activity Level</th>\n",
       "      <th>Stress Level</th>\n",
       "      <th>BMI Category</th>\n",
       "      <th>Blood Pressure</th>\n",
       "      <th>Heart Rate</th>\n",
       "      <th>Daily Steps</th>\n",
       "      <th>Sleep Disorder</th>\n",
       "    </tr>\n",
       "  </thead>\n",
       "  <tbody>\n",
       "    <tr>\n",
       "      <th>0</th>\n",
       "      <td>1</td>\n",
       "      <td>Male</td>\n",
       "      <td>27</td>\n",
       "      <td>Software Engineer</td>\n",
       "      <td>6.1</td>\n",
       "      <td>6</td>\n",
       "      <td>42</td>\n",
       "      <td>6</td>\n",
       "      <td>Overweight</td>\n",
       "      <td>126/83</td>\n",
       "      <td>77</td>\n",
       "      <td>4200</td>\n",
       "      <td>None</td>\n",
       "    </tr>\n",
       "    <tr>\n",
       "      <th>1</th>\n",
       "      <td>2</td>\n",
       "      <td>Male</td>\n",
       "      <td>28</td>\n",
       "      <td>Doctor</td>\n",
       "      <td>6.2</td>\n",
       "      <td>6</td>\n",
       "      <td>60</td>\n",
       "      <td>8</td>\n",
       "      <td>Normal</td>\n",
       "      <td>125/80</td>\n",
       "      <td>75</td>\n",
       "      <td>10000</td>\n",
       "      <td>None</td>\n",
       "    </tr>\n",
       "    <tr>\n",
       "      <th>2</th>\n",
       "      <td>3</td>\n",
       "      <td>Male</td>\n",
       "      <td>28</td>\n",
       "      <td>Doctor</td>\n",
       "      <td>6.2</td>\n",
       "      <td>6</td>\n",
       "      <td>60</td>\n",
       "      <td>8</td>\n",
       "      <td>Normal</td>\n",
       "      <td>125/80</td>\n",
       "      <td>75</td>\n",
       "      <td>10000</td>\n",
       "      <td>None</td>\n",
       "    </tr>\n",
       "    <tr>\n",
       "      <th>3</th>\n",
       "      <td>4</td>\n",
       "      <td>Male</td>\n",
       "      <td>28</td>\n",
       "      <td>Sales Representative</td>\n",
       "      <td>5.9</td>\n",
       "      <td>4</td>\n",
       "      <td>30</td>\n",
       "      <td>8</td>\n",
       "      <td>Obese</td>\n",
       "      <td>140/90</td>\n",
       "      <td>85</td>\n",
       "      <td>3000</td>\n",
       "      <td>Sleep Apnea</td>\n",
       "    </tr>\n",
       "    <tr>\n",
       "      <th>4</th>\n",
       "      <td>5</td>\n",
       "      <td>Male</td>\n",
       "      <td>28</td>\n",
       "      <td>Sales Representative</td>\n",
       "      <td>5.9</td>\n",
       "      <td>4</td>\n",
       "      <td>30</td>\n",
       "      <td>8</td>\n",
       "      <td>Obese</td>\n",
       "      <td>140/90</td>\n",
       "      <td>85</td>\n",
       "      <td>3000</td>\n",
       "      <td>Sleep Apnea</td>\n",
       "    </tr>\n",
       "  </tbody>\n",
       "</table>\n",
       "</div>"
      ],
      "text/plain": [
       "   Person ID Gender  Age            Occupation  Sleep Duration  \\\n",
       "0          1   Male   27     Software Engineer             6.1   \n",
       "1          2   Male   28                Doctor             6.2   \n",
       "2          3   Male   28                Doctor             6.2   \n",
       "3          4   Male   28  Sales Representative             5.9   \n",
       "4          5   Male   28  Sales Representative             5.9   \n",
       "\n",
       "   Quality of Sleep  Physical Activity Level  Stress Level BMI Category  \\\n",
       "0                 6                       42             6   Overweight   \n",
       "1                 6                       60             8       Normal   \n",
       "2                 6                       60             8       Normal   \n",
       "3                 4                       30             8        Obese   \n",
       "4                 4                       30             8        Obese   \n",
       "\n",
       "  Blood Pressure  Heart Rate  Daily Steps Sleep Disorder  \n",
       "0         126/83          77         4200           None  \n",
       "1         125/80          75        10000           None  \n",
       "2         125/80          75        10000           None  \n",
       "3         140/90          85         3000    Sleep Apnea  \n",
       "4         140/90          85         3000    Sleep Apnea  "
      ]
     },
     "execution_count": 3,
     "metadata": {},
     "output_type": "execute_result"
    }
   ],
   "source": [
    "raw_data = pd.read_csv('/kaggle/input/sleep-health-and-lifestyle-dataset/Sleep_health_and_lifestyle_dataset.csv')\n",
    "raw_data.head()"
   ]
  },
  {
   "cell_type": "markdown",
   "id": "d4adf59b",
   "metadata": {
    "papermill": {
     "duration": 0.021126,
     "end_time": "2023-07-31T10:36:26.581653",
     "exception": false,
     "start_time": "2023-07-31T10:36:26.560527",
     "status": "completed"
    },
    "tags": []
   },
   "source": [
    "Let's make a copy of the raw data for further processing and run to see if the data is matching."
   ]
  },
  {
   "cell_type": "code",
   "execution_count": 4,
   "id": "59a9e034",
   "metadata": {
    "execution": {
     "iopub.execute_input": "2023-07-31T10:36:26.627059Z",
     "iopub.status.busy": "2023-07-31T10:36:26.626298Z",
     "iopub.status.idle": "2023-07-31T10:36:26.641792Z",
     "shell.execute_reply": "2023-07-31T10:36:26.640791Z"
    },
    "papermill": {
     "duration": 0.040648,
     "end_time": "2023-07-31T10:36:26.643714",
     "exception": false,
     "start_time": "2023-07-31T10:36:26.603066",
     "status": "completed"
    },
    "tags": []
   },
   "outputs": [
    {
     "data": {
      "text/html": [
       "<div>\n",
       "<style scoped>\n",
       "    .dataframe tbody tr th:only-of-type {\n",
       "        vertical-align: middle;\n",
       "    }\n",
       "\n",
       "    .dataframe tbody tr th {\n",
       "        vertical-align: top;\n",
       "    }\n",
       "\n",
       "    .dataframe thead th {\n",
       "        text-align: right;\n",
       "    }\n",
       "</style>\n",
       "<table border=\"1\" class=\"dataframe\">\n",
       "  <thead>\n",
       "    <tr style=\"text-align: right;\">\n",
       "      <th></th>\n",
       "      <th>Person ID</th>\n",
       "      <th>Gender</th>\n",
       "      <th>Age</th>\n",
       "      <th>Occupation</th>\n",
       "      <th>Sleep Duration</th>\n",
       "      <th>Quality of Sleep</th>\n",
       "      <th>Physical Activity Level</th>\n",
       "      <th>Stress Level</th>\n",
       "      <th>BMI Category</th>\n",
       "      <th>Blood Pressure</th>\n",
       "      <th>Heart Rate</th>\n",
       "      <th>Daily Steps</th>\n",
       "      <th>Sleep Disorder</th>\n",
       "    </tr>\n",
       "  </thead>\n",
       "  <tbody>\n",
       "    <tr>\n",
       "      <th>0</th>\n",
       "      <td>1</td>\n",
       "      <td>Male</td>\n",
       "      <td>27</td>\n",
       "      <td>Software Engineer</td>\n",
       "      <td>6.1</td>\n",
       "      <td>6</td>\n",
       "      <td>42</td>\n",
       "      <td>6</td>\n",
       "      <td>Overweight</td>\n",
       "      <td>126/83</td>\n",
       "      <td>77</td>\n",
       "      <td>4200</td>\n",
       "      <td>None</td>\n",
       "    </tr>\n",
       "    <tr>\n",
       "      <th>1</th>\n",
       "      <td>2</td>\n",
       "      <td>Male</td>\n",
       "      <td>28</td>\n",
       "      <td>Doctor</td>\n",
       "      <td>6.2</td>\n",
       "      <td>6</td>\n",
       "      <td>60</td>\n",
       "      <td>8</td>\n",
       "      <td>Normal</td>\n",
       "      <td>125/80</td>\n",
       "      <td>75</td>\n",
       "      <td>10000</td>\n",
       "      <td>None</td>\n",
       "    </tr>\n",
       "    <tr>\n",
       "      <th>2</th>\n",
       "      <td>3</td>\n",
       "      <td>Male</td>\n",
       "      <td>28</td>\n",
       "      <td>Doctor</td>\n",
       "      <td>6.2</td>\n",
       "      <td>6</td>\n",
       "      <td>60</td>\n",
       "      <td>8</td>\n",
       "      <td>Normal</td>\n",
       "      <td>125/80</td>\n",
       "      <td>75</td>\n",
       "      <td>10000</td>\n",
       "      <td>None</td>\n",
       "    </tr>\n",
       "    <tr>\n",
       "      <th>3</th>\n",
       "      <td>4</td>\n",
       "      <td>Male</td>\n",
       "      <td>28</td>\n",
       "      <td>Sales Representative</td>\n",
       "      <td>5.9</td>\n",
       "      <td>4</td>\n",
       "      <td>30</td>\n",
       "      <td>8</td>\n",
       "      <td>Obese</td>\n",
       "      <td>140/90</td>\n",
       "      <td>85</td>\n",
       "      <td>3000</td>\n",
       "      <td>Sleep Apnea</td>\n",
       "    </tr>\n",
       "    <tr>\n",
       "      <th>4</th>\n",
       "      <td>5</td>\n",
       "      <td>Male</td>\n",
       "      <td>28</td>\n",
       "      <td>Sales Representative</td>\n",
       "      <td>5.9</td>\n",
       "      <td>4</td>\n",
       "      <td>30</td>\n",
       "      <td>8</td>\n",
       "      <td>Obese</td>\n",
       "      <td>140/90</td>\n",
       "      <td>85</td>\n",
       "      <td>3000</td>\n",
       "      <td>Sleep Apnea</td>\n",
       "    </tr>\n",
       "  </tbody>\n",
       "</table>\n",
       "</div>"
      ],
      "text/plain": [
       "   Person ID Gender  Age            Occupation  Sleep Duration  \\\n",
       "0          1   Male   27     Software Engineer             6.1   \n",
       "1          2   Male   28                Doctor             6.2   \n",
       "2          3   Male   28                Doctor             6.2   \n",
       "3          4   Male   28  Sales Representative             5.9   \n",
       "4          5   Male   28  Sales Representative             5.9   \n",
       "\n",
       "   Quality of Sleep  Physical Activity Level  Stress Level BMI Category  \\\n",
       "0                 6                       42             6   Overweight   \n",
       "1                 6                       60             8       Normal   \n",
       "2                 6                       60             8       Normal   \n",
       "3                 4                       30             8        Obese   \n",
       "4                 4                       30             8        Obese   \n",
       "\n",
       "  Blood Pressure  Heart Rate  Daily Steps Sleep Disorder  \n",
       "0         126/83          77         4200           None  \n",
       "1         125/80          75        10000           None  \n",
       "2         125/80          75        10000           None  \n",
       "3         140/90          85         3000    Sleep Apnea  \n",
       "4         140/90          85         3000    Sleep Apnea  "
      ]
     },
     "execution_count": 4,
     "metadata": {},
     "output_type": "execute_result"
    }
   ],
   "source": [
    "# copying data\n",
    "\n",
    "df = raw_data.copy()\n",
    "df.head()"
   ]
  },
  {
   "cell_type": "code",
   "execution_count": 5,
   "id": "27ba96fe",
   "metadata": {
    "execution": {
     "iopub.execute_input": "2023-07-31T10:36:26.688629Z",
     "iopub.status.busy": "2023-07-31T10:36:26.688245Z",
     "iopub.status.idle": "2023-07-31T10:36:26.694324Z",
     "shell.execute_reply": "2023-07-31T10:36:26.693373Z"
    },
    "papermill": {
     "duration": 0.031229,
     "end_time": "2023-07-31T10:36:26.696470",
     "exception": false,
     "start_time": "2023-07-31T10:36:26.665241",
     "status": "completed"
    },
    "tags": []
   },
   "outputs": [
    {
     "data": {
      "text/plain": [
       "(374, 13)"
      ]
     },
     "execution_count": 5,
     "metadata": {},
     "output_type": "execute_result"
    }
   ],
   "source": [
    "df.shape"
   ]
  },
  {
   "cell_type": "markdown",
   "id": "e1b2f759",
   "metadata": {
    "papermill": {
     "duration": 0.021573,
     "end_time": "2023-07-31T10:36:26.739901",
     "exception": false,
     "start_time": "2023-07-31T10:36:26.718328",
     "status": "completed"
    },
    "tags": []
   },
   "source": [
    "The dataframe has 374 rows and 13 columns."
   ]
  },
  {
   "cell_type": "code",
   "execution_count": 6,
   "id": "c9166525",
   "metadata": {
    "execution": {
     "iopub.execute_input": "2023-07-31T10:36:26.785643Z",
     "iopub.status.busy": "2023-07-31T10:36:26.785234Z",
     "iopub.status.idle": "2023-07-31T10:36:26.810294Z",
     "shell.execute_reply": "2023-07-31T10:36:26.808365Z"
    },
    "papermill": {
     "duration": 0.052158,
     "end_time": "2023-07-31T10:36:26.814058",
     "exception": false,
     "start_time": "2023-07-31T10:36:26.761900",
     "status": "completed"
    },
    "tags": []
   },
   "outputs": [
    {
     "name": "stdout",
     "output_type": "stream",
     "text": [
      "<class 'pandas.core.frame.DataFrame'>\n",
      "RangeIndex: 374 entries, 0 to 373\n",
      "Data columns (total 13 columns):\n",
      " #   Column                   Non-Null Count  Dtype  \n",
      "---  ------                   --------------  -----  \n",
      " 0   Person ID                374 non-null    int64  \n",
      " 1   Gender                   374 non-null    object \n",
      " 2   Age                      374 non-null    int64  \n",
      " 3   Occupation               374 non-null    object \n",
      " 4   Sleep Duration           374 non-null    float64\n",
      " 5   Quality of Sleep         374 non-null    int64  \n",
      " 6   Physical Activity Level  374 non-null    int64  \n",
      " 7   Stress Level             374 non-null    int64  \n",
      " 8   BMI Category             374 non-null    object \n",
      " 9   Blood Pressure           374 non-null    object \n",
      " 10  Heart Rate               374 non-null    int64  \n",
      " 11  Daily Steps              374 non-null    int64  \n",
      " 12  Sleep Disorder           374 non-null    object \n",
      "dtypes: float64(1), int64(7), object(5)\n",
      "memory usage: 38.1+ KB\n"
     ]
    }
   ],
   "source": [
    "df.info()"
   ]
  },
  {
   "cell_type": "markdown",
   "id": "b8a26010",
   "metadata": {
    "papermill": {
     "duration": 0.024185,
     "end_time": "2023-07-31T10:36:26.865106",
     "exception": false,
     "start_time": "2023-07-31T10:36:26.840921",
     "status": "completed"
    },
    "tags": []
   },
   "source": [
    "Let's check the descriptive statisticts summary table."
   ]
  },
  {
   "cell_type": "code",
   "execution_count": 7,
   "id": "9a0cd278",
   "metadata": {
    "execution": {
     "iopub.execute_input": "2023-07-31T10:36:26.916439Z",
     "iopub.status.busy": "2023-07-31T10:36:26.915279Z",
     "iopub.status.idle": "2023-07-31T10:36:26.950881Z",
     "shell.execute_reply": "2023-07-31T10:36:26.950014Z"
    },
    "papermill": {
     "duration": 0.062644,
     "end_time": "2023-07-31T10:36:26.953189",
     "exception": false,
     "start_time": "2023-07-31T10:36:26.890545",
     "status": "completed"
    },
    "tags": []
   },
   "outputs": [
    {
     "data": {
      "text/html": [
       "<div>\n",
       "<style scoped>\n",
       "    .dataframe tbody tr th:only-of-type {\n",
       "        vertical-align: middle;\n",
       "    }\n",
       "\n",
       "    .dataframe tbody tr th {\n",
       "        vertical-align: top;\n",
       "    }\n",
       "\n",
       "    .dataframe thead th {\n",
       "        text-align: right;\n",
       "    }\n",
       "</style>\n",
       "<table border=\"1\" class=\"dataframe\">\n",
       "  <thead>\n",
       "    <tr style=\"text-align: right;\">\n",
       "      <th></th>\n",
       "      <th>Person ID</th>\n",
       "      <th>Age</th>\n",
       "      <th>Sleep Duration</th>\n",
       "      <th>Quality of Sleep</th>\n",
       "      <th>Physical Activity Level</th>\n",
       "      <th>Stress Level</th>\n",
       "      <th>Heart Rate</th>\n",
       "      <th>Daily Steps</th>\n",
       "    </tr>\n",
       "  </thead>\n",
       "  <tbody>\n",
       "    <tr>\n",
       "      <th>count</th>\n",
       "      <td>374.000000</td>\n",
       "      <td>374.000000</td>\n",
       "      <td>374.000000</td>\n",
       "      <td>374.000000</td>\n",
       "      <td>374.000000</td>\n",
       "      <td>374.000000</td>\n",
       "      <td>374.000000</td>\n",
       "      <td>374.000000</td>\n",
       "    </tr>\n",
       "    <tr>\n",
       "      <th>mean</th>\n",
       "      <td>187.500000</td>\n",
       "      <td>42.184492</td>\n",
       "      <td>7.132086</td>\n",
       "      <td>7.312834</td>\n",
       "      <td>59.171123</td>\n",
       "      <td>5.385027</td>\n",
       "      <td>70.165775</td>\n",
       "      <td>6816.844920</td>\n",
       "    </tr>\n",
       "    <tr>\n",
       "      <th>std</th>\n",
       "      <td>108.108742</td>\n",
       "      <td>8.673133</td>\n",
       "      <td>0.795657</td>\n",
       "      <td>1.196956</td>\n",
       "      <td>20.830804</td>\n",
       "      <td>1.774526</td>\n",
       "      <td>4.135676</td>\n",
       "      <td>1617.915679</td>\n",
       "    </tr>\n",
       "    <tr>\n",
       "      <th>min</th>\n",
       "      <td>1.000000</td>\n",
       "      <td>27.000000</td>\n",
       "      <td>5.800000</td>\n",
       "      <td>4.000000</td>\n",
       "      <td>30.000000</td>\n",
       "      <td>3.000000</td>\n",
       "      <td>65.000000</td>\n",
       "      <td>3000.000000</td>\n",
       "    </tr>\n",
       "    <tr>\n",
       "      <th>25%</th>\n",
       "      <td>94.250000</td>\n",
       "      <td>35.250000</td>\n",
       "      <td>6.400000</td>\n",
       "      <td>6.000000</td>\n",
       "      <td>45.000000</td>\n",
       "      <td>4.000000</td>\n",
       "      <td>68.000000</td>\n",
       "      <td>5600.000000</td>\n",
       "    </tr>\n",
       "    <tr>\n",
       "      <th>50%</th>\n",
       "      <td>187.500000</td>\n",
       "      <td>43.000000</td>\n",
       "      <td>7.200000</td>\n",
       "      <td>7.000000</td>\n",
       "      <td>60.000000</td>\n",
       "      <td>5.000000</td>\n",
       "      <td>70.000000</td>\n",
       "      <td>7000.000000</td>\n",
       "    </tr>\n",
       "    <tr>\n",
       "      <th>75%</th>\n",
       "      <td>280.750000</td>\n",
       "      <td>50.000000</td>\n",
       "      <td>7.800000</td>\n",
       "      <td>8.000000</td>\n",
       "      <td>75.000000</td>\n",
       "      <td>7.000000</td>\n",
       "      <td>72.000000</td>\n",
       "      <td>8000.000000</td>\n",
       "    </tr>\n",
       "    <tr>\n",
       "      <th>max</th>\n",
       "      <td>374.000000</td>\n",
       "      <td>59.000000</td>\n",
       "      <td>8.500000</td>\n",
       "      <td>9.000000</td>\n",
       "      <td>90.000000</td>\n",
       "      <td>8.000000</td>\n",
       "      <td>86.000000</td>\n",
       "      <td>10000.000000</td>\n",
       "    </tr>\n",
       "  </tbody>\n",
       "</table>\n",
       "</div>"
      ],
      "text/plain": [
       "        Person ID         Age  Sleep Duration  Quality of Sleep  \\\n",
       "count  374.000000  374.000000      374.000000        374.000000   \n",
       "mean   187.500000   42.184492        7.132086          7.312834   \n",
       "std    108.108742    8.673133        0.795657          1.196956   \n",
       "min      1.000000   27.000000        5.800000          4.000000   \n",
       "25%     94.250000   35.250000        6.400000          6.000000   \n",
       "50%    187.500000   43.000000        7.200000          7.000000   \n",
       "75%    280.750000   50.000000        7.800000          8.000000   \n",
       "max    374.000000   59.000000        8.500000          9.000000   \n",
       "\n",
       "       Physical Activity Level  Stress Level  Heart Rate   Daily Steps  \n",
       "count               374.000000    374.000000  374.000000    374.000000  \n",
       "mean                 59.171123      5.385027   70.165775   6816.844920  \n",
       "std                  20.830804      1.774526    4.135676   1617.915679  \n",
       "min                  30.000000      3.000000   65.000000   3000.000000  \n",
       "25%                  45.000000      4.000000   68.000000   5600.000000  \n",
       "50%                  60.000000      5.000000   70.000000   7000.000000  \n",
       "75%                  75.000000      7.000000   72.000000   8000.000000  \n",
       "max                  90.000000      8.000000   86.000000  10000.000000  "
      ]
     },
     "execution_count": 7,
     "metadata": {},
     "output_type": "execute_result"
    }
   ],
   "source": [
    "df.describe()"
   ]
  },
  {
   "cell_type": "markdown",
   "id": "270f423a",
   "metadata": {
    "papermill": {
     "duration": 0.022017,
     "end_time": "2023-07-31T10:36:26.997565",
     "exception": false,
     "start_time": "2023-07-31T10:36:26.975548",
     "status": "completed"
    },
    "tags": []
   },
   "source": [
    "Check for missing values:"
   ]
  },
  {
   "cell_type": "code",
   "execution_count": 8,
   "id": "f4e3412d",
   "metadata": {
    "execution": {
     "iopub.execute_input": "2023-07-31T10:36:27.044476Z",
     "iopub.status.busy": "2023-07-31T10:36:27.043831Z",
     "iopub.status.idle": "2023-07-31T10:36:27.052509Z",
     "shell.execute_reply": "2023-07-31T10:36:27.051535Z"
    },
    "papermill": {
     "duration": 0.03459,
     "end_time": "2023-07-31T10:36:27.054601",
     "exception": false,
     "start_time": "2023-07-31T10:36:27.020011",
     "status": "completed"
    },
    "tags": []
   },
   "outputs": [
    {
     "data": {
      "text/plain": [
       "Person ID                  0.0\n",
       "Gender                     0.0\n",
       "Age                        0.0\n",
       "Occupation                 0.0\n",
       "Sleep Duration             0.0\n",
       "Quality of Sleep           0.0\n",
       "Physical Activity Level    0.0\n",
       "Stress Level               0.0\n",
       "BMI Category               0.0\n",
       "Blood Pressure             0.0\n",
       "Heart Rate                 0.0\n",
       "Daily Steps                0.0\n",
       "Sleep Disorder             0.0\n",
       "dtype: float64"
      ]
     },
     "execution_count": 8,
     "metadata": {},
     "output_type": "execute_result"
    }
   ],
   "source": [
    "(df.isnull().sum()/len(df))"
   ]
  },
  {
   "cell_type": "markdown",
   "id": "afe2dbbe",
   "metadata": {
    "papermill": {
     "duration": 0.022832,
     "end_time": "2023-07-31T10:36:27.100732",
     "exception": false,
     "start_time": "2023-07-31T10:36:27.077900",
     "status": "completed"
    },
    "tags": []
   },
   "source": [
    "There are no missing values in the dataset."
   ]
  },
  {
   "cell_type": "markdown",
   "id": "e3735a80",
   "metadata": {
    "papermill": {
     "duration": 0.022147,
     "end_time": "2023-07-31T10:36:27.145346",
     "exception": false,
     "start_time": "2023-07-31T10:36:27.123199",
     "status": "completed"
    },
    "tags": []
   },
   "source": [
    "# EDA of Categorical Features"
   ]
  },
  {
   "cell_type": "markdown",
   "id": "803f2bf3",
   "metadata": {
    "papermill": {
     "duration": 0.022735,
     "end_time": "2023-07-31T10:36:27.190534",
     "exception": false,
     "start_time": "2023-07-31T10:36:27.167799",
     "status": "completed"
    },
    "tags": []
   },
   "source": [
    "Plotting some countplots for categorical variables.\n",
    "\n",
    "Target (Sleep Disorder):"
   ]
  },
  {
   "cell_type": "code",
   "execution_count": 9,
   "id": "b44069b5",
   "metadata": {
    "execution": {
     "iopub.execute_input": "2023-07-31T10:36:27.237348Z",
     "iopub.status.busy": "2023-07-31T10:36:27.236634Z",
     "iopub.status.idle": "2023-07-31T10:36:27.479466Z",
     "shell.execute_reply": "2023-07-31T10:36:27.478436Z"
    },
    "papermill": {
     "duration": 0.268937,
     "end_time": "2023-07-31T10:36:27.481864",
     "exception": false,
     "start_time": "2023-07-31T10:36:27.212927",
     "status": "completed"
    },
    "tags": []
   },
   "outputs": [
    {
     "data": {
      "image/png": "[encoded data removed]",
      "text/plain": [
       "<Figure size 640x480 with 1 Axes>"
      ]
     },
     "metadata": {},
     "output_type": "display_data"
    }
   ],
   "source": [
    "sns.countplot(x='Sleep Disorder', data = df)\n",
    "plt.show()"
   ]
  },
  {
   "cell_type": "markdown",
   "id": "c8e9e592",
   "metadata": {
    "papermill": {
     "duration": 0.02233,
     "end_time": "2023-07-31T10:36:27.526747",
     "exception": false,
     "start_time": "2023-07-31T10:36:27.504417",
     "status": "completed"
    },
    "tags": []
   },
   "source": [
    "The dataset contains slightly more samples with no sleep disorders. However, the number of samples of Sleep Apnea and Insomnia are almost equal. "
   ]
  },
  {
   "cell_type": "code",
   "execution_count": 10,
   "id": "bb3df48b",
   "metadata": {
    "execution": {
     "iopub.execute_input": "2023-07-31T10:36:27.574448Z",
     "iopub.status.busy": "2023-07-31T10:36:27.573253Z",
     "iopub.status.idle": "2023-07-31T10:36:27.840735Z",
     "shell.execute_reply": "2023-07-31T10:36:27.839465Z"
    },
    "papermill": {
     "duration": 0.293846,
     "end_time": "2023-07-31T10:36:27.843200",
     "exception": false,
     "start_time": "2023-07-31T10:36:27.549354",
     "status": "completed"
    },
    "tags": []
   },
   "outputs": [
    {
     "data": {
      "image/png": "[encoded data removed]",
      "text/plain": [
       "<Figure size 640x480 with 1 Axes>"
      ]
     },
     "metadata": {},
     "output_type": "display_data"
    }
   ],
   "source": [
    "sns.countplot(x='Gender', data = df, hue='Sleep Disorder')\n",
    "plt.show()"
   ]
  },
  {
   "cell_type": "markdown",
   "id": "4c5bbc45",
   "metadata": {
    "papermill": {
     "duration": 0.022774,
     "end_time": "2023-07-31T10:36:27.889075",
     "exception": false,
     "start_time": "2023-07-31T10:36:27.866301",
     "status": "completed"
    },
    "tags": []
   },
   "source": [
    "The Gender variable is well balanced. It can be observed that females tend to have higher cases of sleep disorders than males."
   ]
  },
  {
   "cell_type": "code",
   "execution_count": 11,
   "id": "dee430db",
   "metadata": {
    "execution": {
     "iopub.execute_input": "2023-07-31T10:36:27.937324Z",
     "iopub.status.busy": "2023-07-31T10:36:27.936948Z",
     "iopub.status.idle": "2023-07-31T10:36:28.293093Z",
     "shell.execute_reply": "2023-07-31T10:36:28.291953Z"
    },
    "papermill": {
     "duration": 0.383548,
     "end_time": "2023-07-31T10:36:28.295648",
     "exception": false,
     "start_time": "2023-07-31T10:36:27.912100",
     "status": "completed"
    },
    "tags": []
   },
   "outputs": [
    {
     "data": {
      "image/png": "[encoded data removed]",
      "text/plain": [
       "<Figure size 640x480 with 1 Axes>"
      ]
     },
     "metadata": {},
     "output_type": "display_data"
    }
   ],
   "source": [
    "sns.countplot(y='Occupation', data = df)\n",
    "plt.show()"
   ]
  },
  {
   "cell_type": "markdown",
   "id": "b5b50843",
   "metadata": {
    "papermill": {
     "duration": 0.023486,
     "end_time": "2023-07-31T10:36:28.343556",
     "exception": false,
     "start_time": "2023-07-31T10:36:28.320070",
     "status": "completed"
    },
    "tags": []
   },
   "source": [
    " It can be observed that few occupations have higher prominance than the other and hence the data imbalanced. Let's combine software engineer, sales rep, scientist and manager, and label them as 'other' to better balance the dataset."
   ]
  },
  {
   "cell_type": "code",
   "execution_count": 12,
   "id": "731010ab",
   "metadata": {
    "execution": {
     "iopub.execute_input": "2023-07-31T10:36:28.394638Z",
     "iopub.status.busy": "2023-07-31T10:36:28.394188Z",
     "iopub.status.idle": "2023-07-31T10:36:28.402075Z",
     "shell.execute_reply": "2023-07-31T10:36:28.400894Z"
    },
    "papermill": {
     "duration": 0.037405,
     "end_time": "2023-07-31T10:36:28.404728",
     "exception": false,
     "start_time": "2023-07-31T10:36:28.367323",
     "status": "completed"
    },
    "tags": []
   },
   "outputs": [],
   "source": [
    "to_combine = ['Software Engineer', 'Sales Representative', 'Scientist', 'Manager']\n",
    "df['Occupation'] = df['Occupation'].replace(to_combine, 'Other')"
   ]
  },
  {
   "cell_type": "code",
   "execution_count": 13,
   "id": "d48016ec",
   "metadata": {
    "execution": {
     "iopub.execute_input": "2023-07-31T10:36:28.455864Z",
     "iopub.status.busy": "2023-07-31T10:36:28.455454Z",
     "iopub.status.idle": "2023-07-31T10:36:28.462224Z",
     "shell.execute_reply": "2023-07-31T10:36:28.461375Z"
    },
    "papermill": {
     "duration": 0.034045,
     "end_time": "2023-07-31T10:36:28.464274",
     "exception": false,
     "start_time": "2023-07-31T10:36:28.430229",
     "status": "completed"
    },
    "tags": []
   },
   "outputs": [
    {
     "data": {
      "text/plain": [
       "array(['Other', 'Doctor', 'Teacher', 'Nurse', 'Engineer', 'Accountant',\n",
       "       'Lawyer', 'Salesperson'], dtype=object)"
      ]
     },
     "execution_count": 13,
     "metadata": {},
     "output_type": "execute_result"
    }
   ],
   "source": [
    "df['Occupation'].unique()"
   ]
  },
  {
   "cell_type": "code",
   "execution_count": 14,
   "id": "d86b4b4e",
   "metadata": {
    "execution": {
     "iopub.execute_input": "2023-07-31T10:36:28.515525Z",
     "iopub.status.busy": "2023-07-31T10:36:28.514543Z",
     "iopub.status.idle": "2023-07-31T10:36:28.913403Z",
     "shell.execute_reply": "2023-07-31T10:36:28.912250Z"
    },
    "papermill": {
     "duration": 0.426982,
     "end_time": "2023-07-31T10:36:28.915784",
     "exception": false,
     "start_time": "2023-07-31T10:36:28.488802",
     "status": "completed"
    },
    "tags": []
   },
   "outputs": [
    {
     "data": {
      "image/png": "[encoded data removed]",
      "text/plain": [
       "<Figure size 640x480 with 1 Axes>"
      ]
     },
     "metadata": {},
     "output_type": "display_data"
    }
   ],
   "source": [
    "sns.countplot(y='Occupation', data = df, hue = 'Sleep Disorder')\n",
    "plt.show()"
   ]
  },
  {
   "cell_type": "markdown",
   "id": "b42f21e1",
   "metadata": {
    "papermill": {
     "duration": 0.024639,
     "end_time": "2023-07-31T10:36:28.965223",
     "exception": false,
     "start_time": "2023-07-31T10:36:28.940584",
     "status": "completed"
    },
    "tags": []
   },
   "source": [
    "Nurses have the highest sleep apnea whereas teachers and salespersons have highest insomnia."
   ]
  },
  {
   "cell_type": "code",
   "execution_count": 15,
   "id": "cc60d864",
   "metadata": {
    "execution": {
     "iopub.execute_input": "2023-07-31T10:36:29.015855Z",
     "iopub.status.busy": "2023-07-31T10:36:29.015478Z",
     "iopub.status.idle": "2023-07-31T10:36:29.023651Z",
     "shell.execute_reply": "2023-07-31T10:36:29.022428Z"
    },
    "papermill": {
     "duration": 0.03756,
     "end_time": "2023-07-31T10:36:29.027106",
     "exception": false,
     "start_time": "2023-07-31T10:36:28.989546",
     "status": "completed"
    },
    "tags": []
   },
   "outputs": [
    {
     "data": {
      "text/plain": [
       "array(['Overweight', 'Normal', 'Obese', 'Normal Weight'], dtype=object)"
      ]
     },
     "execution_count": 15,
     "metadata": {},
     "output_type": "execute_result"
    }
   ],
   "source": [
    "df['BMI Category'].unique()"
   ]
  },
  {
   "cell_type": "markdown",
   "id": "c87f4a4f",
   "metadata": {
    "papermill": {
     "duration": 0.02405,
     "end_time": "2023-07-31T10:36:29.075912",
     "exception": false,
     "start_time": "2023-07-31T10:36:29.051862",
     "status": "completed"
    },
    "tags": []
   },
   "source": [
    "Let's combine 'Normal' and 'Normal Weight'."
   ]
  },
  {
   "cell_type": "code",
   "execution_count": 16,
   "id": "11f6e3c3",
   "metadata": {
    "execution": {
     "iopub.execute_input": "2023-07-31T10:36:29.126959Z",
     "iopub.status.busy": "2023-07-31T10:36:29.126166Z",
     "iopub.status.idle": "2023-07-31T10:36:29.131927Z",
     "shell.execute_reply": "2023-07-31T10:36:29.130939Z"
    },
    "papermill": {
     "duration": 0.033723,
     "end_time": "2023-07-31T10:36:29.134039",
     "exception": false,
     "start_time": "2023-07-31T10:36:29.100316",
     "status": "completed"
    },
    "tags": []
   },
   "outputs": [],
   "source": [
    "# combining 'normal weight' and 'normal'\n",
    "to_combine = ['Normal', 'Normal Weight']\n",
    "df['BMI Category'] = df['BMI Category'].replace(to_combine, 'Normal')"
   ]
  },
  {
   "cell_type": "code",
   "execution_count": 17,
   "id": "c03edbc3",
   "metadata": {
    "execution": {
     "iopub.execute_input": "2023-07-31T10:36:29.186365Z",
     "iopub.status.busy": "2023-07-31T10:36:29.185317Z",
     "iopub.status.idle": "2023-07-31T10:36:29.192000Z",
     "shell.execute_reply": "2023-07-31T10:36:29.191065Z"
    },
    "papermill": {
     "duration": 0.035022,
     "end_time": "2023-07-31T10:36:29.194258",
     "exception": false,
     "start_time": "2023-07-31T10:36:29.159236",
     "status": "completed"
    },
    "tags": []
   },
   "outputs": [
    {
     "data": {
      "text/plain": [
       "array(['Overweight', 'Normal', 'Obese'], dtype=object)"
      ]
     },
     "execution_count": 17,
     "metadata": {},
     "output_type": "execute_result"
    }
   ],
   "source": [
    "df['BMI Category'].unique()"
   ]
  },
  {
   "cell_type": "code",
   "execution_count": 18,
   "id": "68070a97",
   "metadata": {
    "execution": {
     "iopub.execute_input": "2023-07-31T10:36:29.245810Z",
     "iopub.status.busy": "2023-07-31T10:36:29.245424Z",
     "iopub.status.idle": "2023-07-31T10:36:29.531601Z",
     "shell.execute_reply": "2023-07-31T10:36:29.530525Z"
    },
    "papermill": {
     "duration": 0.315005,
     "end_time": "2023-07-31T10:36:29.533948",
     "exception": false,
     "start_time": "2023-07-31T10:36:29.218943",
     "status": "completed"
    },
    "tags": []
   },
   "outputs": [
    {
     "data": {
      "image/png": "[encoded data removed]",
      "text/plain": [
       "<Figure size 640x480 with 1 Axes>"
      ]
     },
     "metadata": {},
     "output_type": "display_data"
    }
   ],
   "source": [
    "sns.countplot(x='BMI Category', data = df, hue='Sleep Disorder')\n",
    "plt.show()"
   ]
  },
  {
   "cell_type": "markdown",
   "id": "8ceba447",
   "metadata": {
    "papermill": {
     "duration": 0.024664,
     "end_time": "2023-07-31T10:36:29.583668",
     "exception": false,
     "start_time": "2023-07-31T10:36:29.559004",
     "status": "completed"
    },
    "tags": []
   },
   "source": [
    "All obese people have either sleep apnea or insomnia, most of the overweight people have a sleep disorder, and very few people with normal BMI have sleep disorders."
   ]
  },
  {
   "cell_type": "markdown",
   "id": "b2ca1eba",
   "metadata": {
    "papermill": {
     "duration": 0.02475,
     "end_time": "2023-07-31T10:36:29.633482",
     "exception": false,
     "start_time": "2023-07-31T10:36:29.608732",
     "status": "completed"
    },
    "tags": []
   },
   "source": [
    "# Data Preprocessing"
   ]
  },
  {
   "cell_type": "markdown",
   "id": "77008871",
   "metadata": {
    "papermill": {
     "duration": 0.024479,
     "end_time": "2023-07-31T10:36:29.683255",
     "exception": false,
     "start_time": "2023-07-31T10:36:29.658776",
     "status": "completed"
    },
    "tags": []
   },
   "source": [
    "Let's start by splitting the 'Blood Pressure' into 'bp_lower' and 'bp_upper'.  "
   ]
  },
  {
   "cell_type": "code",
   "execution_count": 19,
   "id": "0211325c",
   "metadata": {
    "execution": {
     "iopub.execute_input": "2023-07-31T10:36:29.735010Z",
     "iopub.status.busy": "2023-07-31T10:36:29.734623Z",
     "iopub.status.idle": "2023-07-31T10:36:29.754656Z",
     "shell.execute_reply": "2023-07-31T10:36:29.753496Z"
    },
    "papermill": {
     "duration": 0.048749,
     "end_time": "2023-07-31T10:36:29.756859",
     "exception": false,
     "start_time": "2023-07-31T10:36:29.708110",
     "status": "completed"
    },
    "tags": []
   },
   "outputs": [
    {
     "data": {
      "text/html": [
       "<div>\n",
       "<style scoped>\n",
       "    .dataframe tbody tr th:only-of-type {\n",
       "        vertical-align: middle;\n",
       "    }\n",
       "\n",
       "    .dataframe tbody tr th {\n",
       "        vertical-align: top;\n",
       "    }\n",
       "\n",
       "    .dataframe thead th {\n",
       "        text-align: right;\n",
       "    }\n",
       "</style>\n",
       "<table border=\"1\" class=\"dataframe\">\n",
       "  <thead>\n",
       "    <tr style=\"text-align: right;\">\n",
       "      <th></th>\n",
       "      <th>Person ID</th>\n",
       "      <th>Gender</th>\n",
       "      <th>Age</th>\n",
       "      <th>Occupation</th>\n",
       "      <th>Sleep Duration</th>\n",
       "      <th>Quality of Sleep</th>\n",
       "      <th>Physical Activity Level</th>\n",
       "      <th>Stress Level</th>\n",
       "      <th>BMI Category</th>\n",
       "      <th>Heart Rate</th>\n",
       "      <th>Daily Steps</th>\n",
       "      <th>Sleep Disorder</th>\n",
       "      <th>0</th>\n",
       "      <th>1</th>\n",
       "    </tr>\n",
       "  </thead>\n",
       "  <tbody>\n",
       "    <tr>\n",
       "      <th>0</th>\n",
       "      <td>1</td>\n",
       "      <td>Male</td>\n",
       "      <td>27</td>\n",
       "      <td>Other</td>\n",
       "      <td>6.1</td>\n",
       "      <td>6</td>\n",
       "      <td>42</td>\n",
       "      <td>6</td>\n",
       "      <td>Overweight</td>\n",
       "      <td>77</td>\n",
       "      <td>4200</td>\n",
       "      <td>None</td>\n",
       "      <td>126</td>\n",
       "      <td>83</td>\n",
       "    </tr>\n",
       "    <tr>\n",
       "      <th>1</th>\n",
       "      <td>2</td>\n",
       "      <td>Male</td>\n",
       "      <td>28</td>\n",
       "      <td>Doctor</td>\n",
       "      <td>6.2</td>\n",
       "      <td>6</td>\n",
       "      <td>60</td>\n",
       "      <td>8</td>\n",
       "      <td>Normal</td>\n",
       "      <td>75</td>\n",
       "      <td>10000</td>\n",
       "      <td>None</td>\n",
       "      <td>125</td>\n",
       "      <td>80</td>\n",
       "    </tr>\n",
       "    <tr>\n",
       "      <th>2</th>\n",
       "      <td>3</td>\n",
       "      <td>Male</td>\n",
       "      <td>28</td>\n",
       "      <td>Doctor</td>\n",
       "      <td>6.2</td>\n",
       "      <td>6</td>\n",
       "      <td>60</td>\n",
       "      <td>8</td>\n",
       "      <td>Normal</td>\n",
       "      <td>75</td>\n",
       "      <td>10000</td>\n",
       "      <td>None</td>\n",
       "      <td>125</td>\n",
       "      <td>80</td>\n",
       "    </tr>\n",
       "    <tr>\n",
       "      <th>3</th>\n",
       "      <td>4</td>\n",
       "      <td>Male</td>\n",
       "      <td>28</td>\n",
       "      <td>Other</td>\n",
       "      <td>5.9</td>\n",
       "      <td>4</td>\n",
       "      <td>30</td>\n",
       "      <td>8</td>\n",
       "      <td>Obese</td>\n",
       "      <td>85</td>\n",
       "      <td>3000</td>\n",
       "      <td>Sleep Apnea</td>\n",
       "      <td>140</td>\n",
       "      <td>90</td>\n",
       "    </tr>\n",
       "    <tr>\n",
       "      <th>4</th>\n",
       "      <td>5</td>\n",
       "      <td>Male</td>\n",
       "      <td>28</td>\n",
       "      <td>Other</td>\n",
       "      <td>5.9</td>\n",
       "      <td>4</td>\n",
       "      <td>30</td>\n",
       "      <td>8</td>\n",
       "      <td>Obese</td>\n",
       "      <td>85</td>\n",
       "      <td>3000</td>\n",
       "      <td>Sleep Apnea</td>\n",
       "      <td>140</td>\n",
       "      <td>90</td>\n",
       "    </tr>\n",
       "  </tbody>\n",
       "</table>\n",
       "</div>"
      ],
      "text/plain": [
       "   Person ID Gender  Age Occupation  Sleep Duration  Quality of Sleep  \\\n",
       "0          1   Male   27      Other             6.1                 6   \n",
       "1          2   Male   28     Doctor             6.2                 6   \n",
       "2          3   Male   28     Doctor             6.2                 6   \n",
       "3          4   Male   28      Other             5.9                 4   \n",
       "4          5   Male   28      Other             5.9                 4   \n",
       "\n",
       "   Physical Activity Level  Stress Level BMI Category  Heart Rate  \\\n",
       "0                       42             6   Overweight          77   \n",
       "1                       60             8       Normal          75   \n",
       "2                       60             8       Normal          75   \n",
       "3                       30             8        Obese          85   \n",
       "4                       30             8        Obese          85   \n",
       "\n",
       "   Daily Steps Sleep Disorder    0   1  \n",
       "0         4200           None  126  83  \n",
       "1        10000           None  125  80  \n",
       "2        10000           None  125  80  \n",
       "3         3000    Sleep Apnea  140  90  \n",
       "4         3000    Sleep Apnea  140  90  "
      ]
     },
     "execution_count": 19,
     "metadata": {},
     "output_type": "execute_result"
    }
   ],
   "source": [
    "df_bp_split = pd.concat([df, df['Blood Pressure'].str.split('/', expand=True)], axis=1).drop('Blood Pressure', axis=1)\n",
    "df_bp_split.head()"
   ]
  },
  {
   "cell_type": "code",
   "execution_count": 20,
   "id": "dc93891b",
   "metadata": {
    "execution": {
     "iopub.execute_input": "2023-07-31T10:36:29.809120Z",
     "iopub.status.busy": "2023-07-31T10:36:29.808742Z",
     "iopub.status.idle": "2023-07-31T10:36:29.827489Z",
     "shell.execute_reply": "2023-07-31T10:36:29.826651Z"
    },
    "papermill": {
     "duration": 0.047252,
     "end_time": "2023-07-31T10:36:29.829488",
     "exception": false,
     "start_time": "2023-07-31T10:36:29.782236",
     "status": "completed"
    },
    "tags": []
   },
   "outputs": [
    {
     "data": {
      "text/html": [
       "<div>\n",
       "<style scoped>\n",
       "    .dataframe tbody tr th:only-of-type {\n",
       "        vertical-align: middle;\n",
       "    }\n",
       "\n",
       "    .dataframe tbody tr th {\n",
       "        vertical-align: top;\n",
       "    }\n",
       "\n",
       "    .dataframe thead th {\n",
       "        text-align: right;\n",
       "    }\n",
       "</style>\n",
       "<table border=\"1\" class=\"dataframe\">\n",
       "  <thead>\n",
       "    <tr style=\"text-align: right;\">\n",
       "      <th></th>\n",
       "      <th>Person ID</th>\n",
       "      <th>Gender</th>\n",
       "      <th>Age</th>\n",
       "      <th>Occupation</th>\n",
       "      <th>Sleep Duration</th>\n",
       "      <th>Quality of Sleep</th>\n",
       "      <th>Physical Activity Level</th>\n",
       "      <th>Stress Level</th>\n",
       "      <th>BMI Category</th>\n",
       "      <th>Heart Rate</th>\n",
       "      <th>Daily Steps</th>\n",
       "      <th>Sleep Disorder</th>\n",
       "      <th>bp_upper</th>\n",
       "      <th>bp_lower</th>\n",
       "    </tr>\n",
       "  </thead>\n",
       "  <tbody>\n",
       "    <tr>\n",
       "      <th>0</th>\n",
       "      <td>1</td>\n",
       "      <td>Male</td>\n",
       "      <td>27</td>\n",
       "      <td>Other</td>\n",
       "      <td>6.1</td>\n",
       "      <td>6</td>\n",
       "      <td>42</td>\n",
       "      <td>6</td>\n",
       "      <td>Overweight</td>\n",
       "      <td>77</td>\n",
       "      <td>4200</td>\n",
       "      <td>None</td>\n",
       "      <td>126</td>\n",
       "      <td>83</td>\n",
       "    </tr>\n",
       "    <tr>\n",
       "      <th>1</th>\n",
       "      <td>2</td>\n",
       "      <td>Male</td>\n",
       "      <td>28</td>\n",
       "      <td>Doctor</td>\n",
       "      <td>6.2</td>\n",
       "      <td>6</td>\n",
       "      <td>60</td>\n",
       "      <td>8</td>\n",
       "      <td>Normal</td>\n",
       "      <td>75</td>\n",
       "      <td>10000</td>\n",
       "      <td>None</td>\n",
       "      <td>125</td>\n",
       "      <td>80</td>\n",
       "    </tr>\n",
       "    <tr>\n",
       "      <th>2</th>\n",
       "      <td>3</td>\n",
       "      <td>Male</td>\n",
       "      <td>28</td>\n",
       "      <td>Doctor</td>\n",
       "      <td>6.2</td>\n",
       "      <td>6</td>\n",
       "      <td>60</td>\n",
       "      <td>8</td>\n",
       "      <td>Normal</td>\n",
       "      <td>75</td>\n",
       "      <td>10000</td>\n",
       "      <td>None</td>\n",
       "      <td>125</td>\n",
       "      <td>80</td>\n",
       "    </tr>\n",
       "    <tr>\n",
       "      <th>3</th>\n",
       "      <td>4</td>\n",
       "      <td>Male</td>\n",
       "      <td>28</td>\n",
       "      <td>Other</td>\n",
       "      <td>5.9</td>\n",
       "      <td>4</td>\n",
       "      <td>30</td>\n",
       "      <td>8</td>\n",
       "      <td>Obese</td>\n",
       "      <td>85</td>\n",
       "      <td>3000</td>\n",
       "      <td>Sleep Apnea</td>\n",
       "      <td>140</td>\n",
       "      <td>90</td>\n",
       "    </tr>\n",
       "    <tr>\n",
       "      <th>4</th>\n",
       "      <td>5</td>\n",
       "      <td>Male</td>\n",
       "      <td>28</td>\n",
       "      <td>Other</td>\n",
       "      <td>5.9</td>\n",
       "      <td>4</td>\n",
       "      <td>30</td>\n",
       "      <td>8</td>\n",
       "      <td>Obese</td>\n",
       "      <td>85</td>\n",
       "      <td>3000</td>\n",
       "      <td>Sleep Apnea</td>\n",
       "      <td>140</td>\n",
       "      <td>90</td>\n",
       "    </tr>\n",
       "  </tbody>\n",
       "</table>\n",
       "</div>"
      ],
      "text/plain": [
       "   Person ID Gender  Age Occupation  Sleep Duration  Quality of Sleep  \\\n",
       "0          1   Male   27      Other             6.1                 6   \n",
       "1          2   Male   28     Doctor             6.2                 6   \n",
       "2          3   Male   28     Doctor             6.2                 6   \n",
       "3          4   Male   28      Other             5.9                 4   \n",
       "4          5   Male   28      Other             5.9                 4   \n",
       "\n",
       "   Physical Activity Level  Stress Level BMI Category  Heart Rate  \\\n",
       "0                       42             6   Overweight          77   \n",
       "1                       60             8       Normal          75   \n",
       "2                       60             8       Normal          75   \n",
       "3                       30             8        Obese          85   \n",
       "4                       30             8        Obese          85   \n",
       "\n",
       "   Daily Steps Sleep Disorder bp_upper bp_lower  \n",
       "0         4200           None      126       83  \n",
       "1        10000           None      125       80  \n",
       "2        10000           None      125       80  \n",
       "3         3000    Sleep Apnea      140       90  \n",
       "4         3000    Sleep Apnea      140       90  "
      ]
     },
     "execution_count": 20,
     "metadata": {},
     "output_type": "execute_result"
    }
   ],
   "source": [
    "df_bp_split = df_bp_split.rename(columns={0: 'bp_upper', 1: 'bp_lower'})\n",
    "df_bp_split.head()"
   ]
  },
  {
   "cell_type": "code",
   "execution_count": 21,
   "id": "a38c372f",
   "metadata": {
    "execution": {
     "iopub.execute_input": "2023-07-31T10:36:29.884628Z",
     "iopub.status.busy": "2023-07-31T10:36:29.883445Z",
     "iopub.status.idle": "2023-07-31T10:36:29.890232Z",
     "shell.execute_reply": "2023-07-31T10:36:29.889416Z"
    },
    "papermill": {
     "duration": 0.036847,
     "end_time": "2023-07-31T10:36:29.892466",
     "exception": false,
     "start_time": "2023-07-31T10:36:29.855619",
     "status": "completed"
    },
    "tags": []
   },
   "outputs": [],
   "source": [
    "df_bp_split['bp_upper'] = df_bp_split['bp_upper'].astype('int')\n",
    "df_bp_split['bp_lower'] = df_bp_split['bp_lower'].astype('int')"
   ]
  },
  {
   "cell_type": "code",
   "execution_count": 22,
   "id": "53050240",
   "metadata": {
    "execution": {
     "iopub.execute_input": "2023-07-31T10:36:29.945331Z",
     "iopub.status.busy": "2023-07-31T10:36:29.944928Z",
     "iopub.status.idle": "2023-07-31T10:36:29.957812Z",
     "shell.execute_reply": "2023-07-31T10:36:29.956928Z"
    },
    "papermill": {
     "duration": 0.042093,
     "end_time": "2023-07-31T10:36:29.960292",
     "exception": false,
     "start_time": "2023-07-31T10:36:29.918199",
     "status": "completed"
    },
    "tags": []
   },
   "outputs": [
    {
     "name": "stdout",
     "output_type": "stream",
     "text": [
      "<class 'pandas.core.frame.DataFrame'>\n",
      "RangeIndex: 374 entries, 0 to 373\n",
      "Data columns (total 14 columns):\n",
      " #   Column                   Non-Null Count  Dtype  \n",
      "---  ------                   --------------  -----  \n",
      " 0   Person ID                374 non-null    int64  \n",
      " 1   Gender                   374 non-null    object \n",
      " 2   Age                      374 non-null    int64  \n",
      " 3   Occupation               374 non-null    object \n",
      " 4   Sleep Duration           374 non-null    float64\n",
      " 5   Quality of Sleep         374 non-null    int64  \n",
      " 6   Physical Activity Level  374 non-null    int64  \n",
      " 7   Stress Level             374 non-null    int64  \n",
      " 8   BMI Category             374 non-null    object \n",
      " 9   Heart Rate               374 non-null    int64  \n",
      " 10  Daily Steps              374 non-null    int64  \n",
      " 11  Sleep Disorder           374 non-null    object \n",
      " 12  bp_upper                 374 non-null    int64  \n",
      " 13  bp_lower                 374 non-null    int64  \n",
      "dtypes: float64(1), int64(9), object(4)\n",
      "memory usage: 41.0+ KB\n"
     ]
    }
   ],
   "source": [
    "df_bp_split.info()"
   ]
  },
  {
   "cell_type": "markdown",
   "id": "d0c386b0",
   "metadata": {
    "papermill": {
     "duration": 0.025242,
     "end_time": "2023-07-31T10:36:30.011982",
     "exception": false,
     "start_time": "2023-07-31T10:36:29.986740",
     "status": "completed"
    },
    "tags": []
   },
   "source": [
    "We can drop 'Person ID' as it does not carry any information."
   ]
  },
  {
   "cell_type": "code",
   "execution_count": 23,
   "id": "486dbc72",
   "metadata": {
    "execution": {
     "iopub.execute_input": "2023-07-31T10:36:30.065694Z",
     "iopub.status.busy": "2023-07-31T10:36:30.064534Z",
     "iopub.status.idle": "2023-07-31T10:36:30.080714Z",
     "shell.execute_reply": "2023-07-31T10:36:30.079819Z"
    },
    "papermill": {
     "duration": 0.045263,
     "end_time": "2023-07-31T10:36:30.082754",
     "exception": false,
     "start_time": "2023-07-31T10:36:30.037491",
     "status": "completed"
    },
    "tags": []
   },
   "outputs": [
    {
     "data": {
      "text/html": [
       "<div>\n",
       "<style scoped>\n",
       "    .dataframe tbody tr th:only-of-type {\n",
       "        vertical-align: middle;\n",
       "    }\n",
       "\n",
       "    .dataframe tbody tr th {\n",
       "        vertical-align: top;\n",
       "    }\n",
       "\n",
       "    .dataframe thead th {\n",
       "        text-align: right;\n",
       "    }\n",
       "</style>\n",
       "<table border=\"1\" class=\"dataframe\">\n",
       "  <thead>\n",
       "    <tr style=\"text-align: right;\">\n",
       "      <th></th>\n",
       "      <th>Gender</th>\n",
       "      <th>Age</th>\n",
       "      <th>Occupation</th>\n",
       "      <th>Sleep Duration</th>\n",
       "      <th>Quality of Sleep</th>\n",
       "      <th>Physical Activity Level</th>\n",
       "      <th>Stress Level</th>\n",
       "      <th>BMI Category</th>\n",
       "      <th>Heart Rate</th>\n",
       "      <th>Daily Steps</th>\n",
       "      <th>Sleep Disorder</th>\n",
       "      <th>bp_upper</th>\n",
       "      <th>bp_lower</th>\n",
       "    </tr>\n",
       "  </thead>\n",
       "  <tbody>\n",
       "    <tr>\n",
       "      <th>0</th>\n",
       "      <td>Male</td>\n",
       "      <td>27</td>\n",
       "      <td>Other</td>\n",
       "      <td>6.1</td>\n",
       "      <td>6</td>\n",
       "      <td>42</td>\n",
       "      <td>6</td>\n",
       "      <td>Overweight</td>\n",
       "      <td>77</td>\n",
       "      <td>4200</td>\n",
       "      <td>None</td>\n",
       "      <td>126</td>\n",
       "      <td>83</td>\n",
       "    </tr>\n",
       "    <tr>\n",
       "      <th>1</th>\n",
       "      <td>Male</td>\n",
       "      <td>28</td>\n",
       "      <td>Doctor</td>\n",
       "      <td>6.2</td>\n",
       "      <td>6</td>\n",
       "      <td>60</td>\n",
       "      <td>8</td>\n",
       "      <td>Normal</td>\n",
       "      <td>75</td>\n",
       "      <td>10000</td>\n",
       "      <td>None</td>\n",
       "      <td>125</td>\n",
       "      <td>80</td>\n",
       "    </tr>\n",
       "    <tr>\n",
       "      <th>2</th>\n",
       "      <td>Male</td>\n",
       "      <td>28</td>\n",
       "      <td>Doctor</td>\n",
       "      <td>6.2</td>\n",
       "      <td>6</td>\n",
       "      <td>60</td>\n",
       "      <td>8</td>\n",
       "      <td>Normal</td>\n",
       "      <td>75</td>\n",
       "      <td>10000</td>\n",
       "      <td>None</td>\n",
       "      <td>125</td>\n",
       "      <td>80</td>\n",
       "    </tr>\n",
       "    <tr>\n",
       "      <th>3</th>\n",
       "      <td>Male</td>\n",
       "      <td>28</td>\n",
       "      <td>Other</td>\n",
       "      <td>5.9</td>\n",
       "      <td>4</td>\n",
       "      <td>30</td>\n",
       "      <td>8</td>\n",
       "      <td>Obese</td>\n",
       "      <td>85</td>\n",
       "      <td>3000</td>\n",
       "      <td>Sleep Apnea</td>\n",
       "      <td>140</td>\n",
       "      <td>90</td>\n",
       "    </tr>\n",
       "    <tr>\n",
       "      <th>4</th>\n",
       "      <td>Male</td>\n",
       "      <td>28</td>\n",
       "      <td>Other</td>\n",
       "      <td>5.9</td>\n",
       "      <td>4</td>\n",
       "      <td>30</td>\n",
       "      <td>8</td>\n",
       "      <td>Obese</td>\n",
       "      <td>85</td>\n",
       "      <td>3000</td>\n",
       "      <td>Sleep Apnea</td>\n",
       "      <td>140</td>\n",
       "      <td>90</td>\n",
       "    </tr>\n",
       "  </tbody>\n",
       "</table>\n",
       "</div>"
      ],
      "text/plain": [
       "  Gender  Age Occupation  Sleep Duration  Quality of Sleep  \\\n",
       "0   Male   27      Other             6.1                 6   \n",
       "1   Male   28     Doctor             6.2                 6   \n",
       "2   Male   28     Doctor             6.2                 6   \n",
       "3   Male   28      Other             5.9                 4   \n",
       "4   Male   28      Other             5.9                 4   \n",
       "\n",
       "   Physical Activity Level  Stress Level BMI Category  Heart Rate  \\\n",
       "0                       42             6   Overweight          77   \n",
       "1                       60             8       Normal          75   \n",
       "2                       60             8       Normal          75   \n",
       "3                       30             8        Obese          85   \n",
       "4                       30             8        Obese          85   \n",
       "\n",
       "   Daily Steps Sleep Disorder  bp_upper  bp_lower  \n",
       "0         4200           None       126        83  \n",
       "1        10000           None       125        80  \n",
       "2        10000           None       125        80  \n",
       "3         3000    Sleep Apnea       140        90  \n",
       "4         3000    Sleep Apnea       140        90  "
      ]
     },
     "execution_count": 23,
     "metadata": {},
     "output_type": "execute_result"
    }
   ],
   "source": [
    "# dropping person ID\n",
    "df_bp_split = df_bp_split.drop('Person ID', axis=1)\n",
    "df_bp_split.head()"
   ]
  },
  {
   "cell_type": "markdown",
   "id": "92624da6",
   "metadata": {
    "execution": {
     "iopub.execute_input": "2023-07-25T07:20:16.910037Z",
     "iopub.status.busy": "2023-07-25T07:20:16.909652Z",
     "iopub.status.idle": "2023-07-25T07:20:16.916818Z",
     "shell.execute_reply": "2023-07-25T07:20:16.915576Z",
     "shell.execute_reply.started": "2023-07-25T07:20:16.910008Z"
    },
    "papermill": {
     "duration": 0.025782,
     "end_time": "2023-07-31T10:36:30.135067",
     "exception": false,
     "start_time": "2023-07-31T10:36:30.109285",
     "status": "completed"
    },
    "tags": []
   },
   "source": [
    "As only few categories are present, we can apply one-hot encoding to get dummies."
   ]
  },
  {
   "cell_type": "code",
   "execution_count": 24,
   "id": "6100b9ce",
   "metadata": {
    "execution": {
     "iopub.execute_input": "2023-07-31T10:36:30.190031Z",
     "iopub.status.busy": "2023-07-31T10:36:30.188857Z",
     "iopub.status.idle": "2023-07-31T10:36:30.200842Z",
     "shell.execute_reply": "2023-07-31T10:36:30.199835Z"
    },
    "papermill": {
     "duration": 0.041574,
     "end_time": "2023-07-31T10:36:30.203270",
     "exception": false,
     "start_time": "2023-07-31T10:36:30.161696",
     "status": "completed"
    },
    "tags": []
   },
   "outputs": [],
   "source": [
    "#one-hot encoding \n",
    "dummies = pd.get_dummies(df_bp_split[['Gender', 'Occupation', 'BMI Category']])\n",
    "df_bp_split = pd.concat([df_bp_split, dummies], axis = 1)"
   ]
  },
  {
   "cell_type": "code",
   "execution_count": 25,
   "id": "4ced7a68",
   "metadata": {
    "execution": {
     "iopub.execute_input": "2023-07-31T10:36:30.257679Z",
     "iopub.status.busy": "2023-07-31T10:36:30.257263Z",
     "iopub.status.idle": "2023-07-31T10:36:30.263431Z",
     "shell.execute_reply": "2023-07-31T10:36:30.262300Z"
    },
    "papermill": {
     "duration": 0.035836,
     "end_time": "2023-07-31T10:36:30.265509",
     "exception": false,
     "start_time": "2023-07-31T10:36:30.229673",
     "status": "completed"
    },
    "tags": []
   },
   "outputs": [],
   "source": [
    "df_bp_split = df_bp_split.drop(['Gender', 'Occupation', 'BMI Category'], axis = 1)"
   ]
  },
  {
   "cell_type": "markdown",
   "id": "644b087a",
   "metadata": {
    "papermill": {
     "duration": 0.026107,
     "end_time": "2023-07-31T10:36:30.318267",
     "exception": false,
     "start_time": "2023-07-31T10:36:30.292160",
     "status": "completed"
    },
    "tags": []
   },
   "source": [
    "Let's make a copy of the data before scaling and transforming the inputs."
   ]
  },
  {
   "cell_type": "code",
   "execution_count": 26,
   "id": "8e82d44d",
   "metadata": {
    "execution": {
     "iopub.execute_input": "2023-07-31T10:36:30.372360Z",
     "iopub.status.busy": "2023-07-31T10:36:30.371983Z",
     "iopub.status.idle": "2023-07-31T10:36:30.390846Z",
     "shell.execute_reply": "2023-07-31T10:36:30.390042Z"
    },
    "papermill": {
     "duration": 0.048686,
     "end_time": "2023-07-31T10:36:30.392835",
     "exception": false,
     "start_time": "2023-07-31T10:36:30.344149",
     "status": "completed"
    },
    "tags": []
   },
   "outputs": [
    {
     "data": {
      "text/html": [
       "<div>\n",
       "<style scoped>\n",
       "    .dataframe tbody tr th:only-of-type {\n",
       "        vertical-align: middle;\n",
       "    }\n",
       "\n",
       "    .dataframe tbody tr th {\n",
       "        vertical-align: top;\n",
       "    }\n",
       "\n",
       "    .dataframe thead th {\n",
       "        text-align: right;\n",
       "    }\n",
       "</style>\n",
       "<table border=\"1\" class=\"dataframe\">\n",
       "  <thead>\n",
       "    <tr style=\"text-align: right;\">\n",
       "      <th></th>\n",
       "      <th>Age</th>\n",
       "      <th>Sleep Duration</th>\n",
       "      <th>Quality of Sleep</th>\n",
       "      <th>Physical Activity Level</th>\n",
       "      <th>Stress Level</th>\n",
       "      <th>Heart Rate</th>\n",
       "      <th>Daily Steps</th>\n",
       "      <th>Sleep Disorder</th>\n",
       "      <th>bp_upper</th>\n",
       "      <th>bp_lower</th>\n",
       "      <th>...</th>\n",
       "      <th>Occupation_Doctor</th>\n",
       "      <th>Occupation_Engineer</th>\n",
       "      <th>Occupation_Lawyer</th>\n",
       "      <th>Occupation_Nurse</th>\n",
       "      <th>Occupation_Other</th>\n",
       "      <th>Occupation_Salesperson</th>\n",
       "      <th>Occupation_Teacher</th>\n",
       "      <th>BMI Category_Normal</th>\n",
       "      <th>BMI Category_Obese</th>\n",
       "      <th>BMI Category_Overweight</th>\n",
       "    </tr>\n",
       "  </thead>\n",
       "  <tbody>\n",
       "    <tr>\n",
       "      <th>0</th>\n",
       "      <td>27</td>\n",
       "      <td>6.1</td>\n",
       "      <td>6</td>\n",
       "      <td>42</td>\n",
       "      <td>6</td>\n",
       "      <td>77</td>\n",
       "      <td>4200</td>\n",
       "      <td>None</td>\n",
       "      <td>126</td>\n",
       "      <td>83</td>\n",
       "      <td>...</td>\n",
       "      <td>0</td>\n",
       "      <td>0</td>\n",
       "      <td>0</td>\n",
       "      <td>0</td>\n",
       "      <td>1</td>\n",
       "      <td>0</td>\n",
       "      <td>0</td>\n",
       "      <td>0</td>\n",
       "      <td>0</td>\n",
       "      <td>1</td>\n",
       "    </tr>\n",
       "    <tr>\n",
       "      <th>1</th>\n",
       "      <td>28</td>\n",
       "      <td>6.2</td>\n",
       "      <td>6</td>\n",
       "      <td>60</td>\n",
       "      <td>8</td>\n",
       "      <td>75</td>\n",
       "      <td>10000</td>\n",
       "      <td>None</td>\n",
       "      <td>125</td>\n",
       "      <td>80</td>\n",
       "      <td>...</td>\n",
       "      <td>1</td>\n",
       "      <td>0</td>\n",
       "      <td>0</td>\n",
       "      <td>0</td>\n",
       "      <td>0</td>\n",
       "      <td>0</td>\n",
       "      <td>0</td>\n",
       "      <td>1</td>\n",
       "      <td>0</td>\n",
       "      <td>0</td>\n",
       "    </tr>\n",
       "    <tr>\n",
       "      <th>2</th>\n",
       "      <td>28</td>\n",
       "      <td>6.2</td>\n",
       "      <td>6</td>\n",
       "      <td>60</td>\n",
       "      <td>8</td>\n",
       "      <td>75</td>\n",
       "      <td>10000</td>\n",
       "      <td>None</td>\n",
       "      <td>125</td>\n",
       "      <td>80</td>\n",
       "      <td>...</td>\n",
       "      <td>1</td>\n",
       "      <td>0</td>\n",
       "      <td>0</td>\n",
       "      <td>0</td>\n",
       "      <td>0</td>\n",
       "      <td>0</td>\n",
       "      <td>0</td>\n",
       "      <td>1</td>\n",
       "      <td>0</td>\n",
       "      <td>0</td>\n",
       "    </tr>\n",
       "    <tr>\n",
       "      <th>3</th>\n",
       "      <td>28</td>\n",
       "      <td>5.9</td>\n",
       "      <td>4</td>\n",
       "      <td>30</td>\n",
       "      <td>8</td>\n",
       "      <td>85</td>\n",
       "      <td>3000</td>\n",
       "      <td>Sleep Apnea</td>\n",
       "      <td>140</td>\n",
       "      <td>90</td>\n",
       "      <td>...</td>\n",
       "      <td>0</td>\n",
       "      <td>0</td>\n",
       "      <td>0</td>\n",
       "      <td>0</td>\n",
       "      <td>1</td>\n",
       "      <td>0</td>\n",
       "      <td>0</td>\n",
       "      <td>0</td>\n",
       "      <td>1</td>\n",
       "      <td>0</td>\n",
       "    </tr>\n",
       "    <tr>\n",
       "      <th>4</th>\n",
       "      <td>28</td>\n",
       "      <td>5.9</td>\n",
       "      <td>4</td>\n",
       "      <td>30</td>\n",
       "      <td>8</td>\n",
       "      <td>85</td>\n",
       "      <td>3000</td>\n",
       "      <td>Sleep Apnea</td>\n",
       "      <td>140</td>\n",
       "      <td>90</td>\n",
       "      <td>...</td>\n",
       "      <td>0</td>\n",
       "      <td>0</td>\n",
       "      <td>0</td>\n",
       "      <td>0</td>\n",
       "      <td>1</td>\n",
       "      <td>0</td>\n",
       "      <td>0</td>\n",
       "      <td>0</td>\n",
       "      <td>1</td>\n",
       "      <td>0</td>\n",
       "    </tr>\n",
       "  </tbody>\n",
       "</table>\n",
       "<p>5 rows × 23 columns</p>\n",
       "</div>"
      ],
      "text/plain": [
       "   Age  Sleep Duration  Quality of Sleep  Physical Activity Level  \\\n",
       "0   27             6.1                 6                       42   \n",
       "1   28             6.2                 6                       60   \n",
       "2   28             6.2                 6                       60   \n",
       "3   28             5.9                 4                       30   \n",
       "4   28             5.9                 4                       30   \n",
       "\n",
       "   Stress Level  Heart Rate  Daily Steps Sleep Disorder  bp_upper  bp_lower  \\\n",
       "0             6          77         4200           None       126        83   \n",
       "1             8          75        10000           None       125        80   \n",
       "2             8          75        10000           None       125        80   \n",
       "3             8          85         3000    Sleep Apnea       140        90   \n",
       "4             8          85         3000    Sleep Apnea       140        90   \n",
       "\n",
       "   ...  Occupation_Doctor  Occupation_Engineer  Occupation_Lawyer  \\\n",
       "0  ...                  0                    0                  0   \n",
       "1  ...                  1                    0                  0   \n",
       "2  ...                  1                    0                  0   \n",
       "3  ...                  0                    0                  0   \n",
       "4  ...                  0                    0                  0   \n",
       "\n",
       "   Occupation_Nurse  Occupation_Other  Occupation_Salesperson  \\\n",
       "0                 0                 1                       0   \n",
       "1                 0                 0                       0   \n",
       "2                 0                 0                       0   \n",
       "3                 0                 1                       0   \n",
       "4                 0                 1                       0   \n",
       "\n",
       "   Occupation_Teacher  BMI Category_Normal  BMI Category_Obese  \\\n",
       "0                   0                    0                   0   \n",
       "1                   0                    1                   0   \n",
       "2                   0                    1                   0   \n",
       "3                   0                    0                   1   \n",
       "4                   0                    0                   1   \n",
       "\n",
       "   BMI Category_Overweight  \n",
       "0                        1  \n",
       "1                        0  \n",
       "2                        0  \n",
       "3                        0  \n",
       "4                        0  \n",
       "\n",
       "[5 rows x 23 columns]"
      ]
     },
     "execution_count": 26,
     "metadata": {},
     "output_type": "execute_result"
    }
   ],
   "source": [
    "unscaled = df_bp_split.copy()\n",
    "unscaled.head()"
   ]
  },
  {
   "cell_type": "code",
   "execution_count": 27,
   "id": "a65f619b",
   "metadata": {
    "execution": {
     "iopub.execute_input": "2023-07-31T10:36:30.448882Z",
     "iopub.status.busy": "2023-07-31T10:36:30.448268Z",
     "iopub.status.idle": "2023-07-31T10:36:30.622043Z",
     "shell.execute_reply": "2023-07-31T10:36:30.620890Z"
    },
    "papermill": {
     "duration": 0.204155,
     "end_time": "2023-07-31T10:36:30.624531",
     "exception": false,
     "start_time": "2023-07-31T10:36:30.420376",
     "status": "completed"
    },
    "tags": []
   },
   "outputs": [],
   "source": [
    "from sklearn.base import BaseEstimator, TransformerMixin\n",
    "from sklearn.preprocessing import StandardScaler\n",
    "\n",
    "class CustomScaler(BaseEstimator, TransformerMixin):\n",
    "\n",
    "    def __init__(self, columns, copy=True, with_mean=True, with_std=True):\n",
    "        self.columns = columns\n",
    "        self.copy = copy\n",
    "        self.with_mean = with_mean\n",
    "        self.with_std = with_std\n",
    "\n",
    "    def fit(self, X, y=None):\n",
    "        self.scaler = StandardScaler(copy=self.copy, with_mean=self.with_mean, with_std=self.with_std)\n",
    "        self.scaler.fit(X[self.columns], y)\n",
    "        self.mean_ = np.mean(X[self.columns])\n",
    "        self.var_ = np.var(X[self.columns])\n",
    "        return self\n",
    "\n",
    "    def transform(self, X, y=None, copy=None):\n",
    "        init_col_order = X.columns\n",
    "        X_scaled = pd.DataFrame(self.scaler.transform(X[self.columns]), columns=self.columns)\n",
    "        X_not_scaled = X.loc[:, ~X.columns.isin(self.columns)]\n",
    "        return pd.concat([X_not_scaled, X_scaled], axis = 1)[init_col_order]\n"
   ]
  },
  {
   "cell_type": "code",
   "execution_count": 28,
   "id": "74358f6c",
   "metadata": {
    "execution": {
     "iopub.execute_input": "2023-07-31T10:36:30.678851Z",
     "iopub.status.busy": "2023-07-31T10:36:30.678446Z",
     "iopub.status.idle": "2023-07-31T10:36:30.683913Z",
     "shell.execute_reply": "2023-07-31T10:36:30.682827Z"
    },
    "papermill": {
     "duration": 0.035162,
     "end_time": "2023-07-31T10:36:30.685906",
     "exception": false,
     "start_time": "2023-07-31T10:36:30.650744",
     "status": "completed"
    },
    "tags": []
   },
   "outputs": [],
   "source": [
    "columns_reordered = ['Age', 'Sleep Duration', 'Quality of Sleep',\n",
    "       'Physical Activity Level', 'Stress Level', 'Heart Rate',\n",
    "       'Daily Steps', 'bp_upper', 'bp_lower',\n",
    "       'Gender_Female', 'Gender_Male', 'Occupation_Accountant',\n",
    "       'Occupation_Doctor', 'Occupation_Engineer', 'Occupation_Lawyer',\n",
    "       'Occupation_Nurse', 'Occupation_Other', 'Occupation_Salesperson',\n",
    "       'Occupation_Teacher', 'BMI Category_Normal', 'BMI Category_Obese',\n",
    "       'BMI Category_Overweight','Sleep Disorder']"
   ]
  },
  {
   "cell_type": "code",
   "execution_count": 29,
   "id": "6b4575ce",
   "metadata": {
    "execution": {
     "iopub.execute_input": "2023-07-31T10:36:30.742204Z",
     "iopub.status.busy": "2023-07-31T10:36:30.741555Z",
     "iopub.status.idle": "2023-07-31T10:36:30.760580Z",
     "shell.execute_reply": "2023-07-31T10:36:30.759700Z"
    },
    "papermill": {
     "duration": 0.049574,
     "end_time": "2023-07-31T10:36:30.762768",
     "exception": false,
     "start_time": "2023-07-31T10:36:30.713194",
     "status": "completed"
    },
    "tags": []
   },
   "outputs": [
    {
     "data": {
      "text/html": [
       "<div>\n",
       "<style scoped>\n",
       "    .dataframe tbody tr th:only-of-type {\n",
       "        vertical-align: middle;\n",
       "    }\n",
       "\n",
       "    .dataframe tbody tr th {\n",
       "        vertical-align: top;\n",
       "    }\n",
       "\n",
       "    .dataframe thead th {\n",
       "        text-align: right;\n",
       "    }\n",
       "</style>\n",
       "<table border=\"1\" class=\"dataframe\">\n",
       "  <thead>\n",
       "    <tr style=\"text-align: right;\">\n",
       "      <th></th>\n",
       "      <th>Age</th>\n",
       "      <th>Sleep Duration</th>\n",
       "      <th>Quality of Sleep</th>\n",
       "      <th>Physical Activity Level</th>\n",
       "      <th>Stress Level</th>\n",
       "      <th>Heart Rate</th>\n",
       "      <th>Daily Steps</th>\n",
       "      <th>bp_upper</th>\n",
       "      <th>bp_lower</th>\n",
       "      <th>Gender_Female</th>\n",
       "      <th>...</th>\n",
       "      <th>Occupation_Engineer</th>\n",
       "      <th>Occupation_Lawyer</th>\n",
       "      <th>Occupation_Nurse</th>\n",
       "      <th>Occupation_Other</th>\n",
       "      <th>Occupation_Salesperson</th>\n",
       "      <th>Occupation_Teacher</th>\n",
       "      <th>BMI Category_Normal</th>\n",
       "      <th>BMI Category_Obese</th>\n",
       "      <th>BMI Category_Overweight</th>\n",
       "      <th>Sleep Disorder</th>\n",
       "    </tr>\n",
       "  </thead>\n",
       "  <tbody>\n",
       "    <tr>\n",
       "      <th>0</th>\n",
       "      <td>27</td>\n",
       "      <td>6.1</td>\n",
       "      <td>6</td>\n",
       "      <td>42</td>\n",
       "      <td>6</td>\n",
       "      <td>77</td>\n",
       "      <td>4200</td>\n",
       "      <td>126</td>\n",
       "      <td>83</td>\n",
       "      <td>0</td>\n",
       "      <td>...</td>\n",
       "      <td>0</td>\n",
       "      <td>0</td>\n",
       "      <td>0</td>\n",
       "      <td>1</td>\n",
       "      <td>0</td>\n",
       "      <td>0</td>\n",
       "      <td>0</td>\n",
       "      <td>0</td>\n",
       "      <td>1</td>\n",
       "      <td>None</td>\n",
       "    </tr>\n",
       "    <tr>\n",
       "      <th>1</th>\n",
       "      <td>28</td>\n",
       "      <td>6.2</td>\n",
       "      <td>6</td>\n",
       "      <td>60</td>\n",
       "      <td>8</td>\n",
       "      <td>75</td>\n",
       "      <td>10000</td>\n",
       "      <td>125</td>\n",
       "      <td>80</td>\n",
       "      <td>0</td>\n",
       "      <td>...</td>\n",
       "      <td>0</td>\n",
       "      <td>0</td>\n",
       "      <td>0</td>\n",
       "      <td>0</td>\n",
       "      <td>0</td>\n",
       "      <td>0</td>\n",
       "      <td>1</td>\n",
       "      <td>0</td>\n",
       "      <td>0</td>\n",
       "      <td>None</td>\n",
       "    </tr>\n",
       "    <tr>\n",
       "      <th>2</th>\n",
       "      <td>28</td>\n",
       "      <td>6.2</td>\n",
       "      <td>6</td>\n",
       "      <td>60</td>\n",
       "      <td>8</td>\n",
       "      <td>75</td>\n",
       "      <td>10000</td>\n",
       "      <td>125</td>\n",
       "      <td>80</td>\n",
       "      <td>0</td>\n",
       "      <td>...</td>\n",
       "      <td>0</td>\n",
       "      <td>0</td>\n",
       "      <td>0</td>\n",
       "      <td>0</td>\n",
       "      <td>0</td>\n",
       "      <td>0</td>\n",
       "      <td>1</td>\n",
       "      <td>0</td>\n",
       "      <td>0</td>\n",
       "      <td>None</td>\n",
       "    </tr>\n",
       "    <tr>\n",
       "      <th>3</th>\n",
       "      <td>28</td>\n",
       "      <td>5.9</td>\n",
       "      <td>4</td>\n",
       "      <td>30</td>\n",
       "      <td>8</td>\n",
       "      <td>85</td>\n",
       "      <td>3000</td>\n",
       "      <td>140</td>\n",
       "      <td>90</td>\n",
       "      <td>0</td>\n",
       "      <td>...</td>\n",
       "      <td>0</td>\n",
       "      <td>0</td>\n",
       "      <td>0</td>\n",
       "      <td>1</td>\n",
       "      <td>0</td>\n",
       "      <td>0</td>\n",
       "      <td>0</td>\n",
       "      <td>1</td>\n",
       "      <td>0</td>\n",
       "      <td>Sleep Apnea</td>\n",
       "    </tr>\n",
       "    <tr>\n",
       "      <th>4</th>\n",
       "      <td>28</td>\n",
       "      <td>5.9</td>\n",
       "      <td>4</td>\n",
       "      <td>30</td>\n",
       "      <td>8</td>\n",
       "      <td>85</td>\n",
       "      <td>3000</td>\n",
       "      <td>140</td>\n",
       "      <td>90</td>\n",
       "      <td>0</td>\n",
       "      <td>...</td>\n",
       "      <td>0</td>\n",
       "      <td>0</td>\n",
       "      <td>0</td>\n",
       "      <td>1</td>\n",
       "      <td>0</td>\n",
       "      <td>0</td>\n",
       "      <td>0</td>\n",
       "      <td>1</td>\n",
       "      <td>0</td>\n",
       "      <td>Sleep Apnea</td>\n",
       "    </tr>\n",
       "  </tbody>\n",
       "</table>\n",
       "<p>5 rows × 23 columns</p>\n",
       "</div>"
      ],
      "text/plain": [
       "   Age  Sleep Duration  Quality of Sleep  Physical Activity Level  \\\n",
       "0   27             6.1                 6                       42   \n",
       "1   28             6.2                 6                       60   \n",
       "2   28             6.2                 6                       60   \n",
       "3   28             5.9                 4                       30   \n",
       "4   28             5.9                 4                       30   \n",
       "\n",
       "   Stress Level  Heart Rate  Daily Steps  bp_upper  bp_lower  Gender_Female  \\\n",
       "0             6          77         4200       126        83              0   \n",
       "1             8          75        10000       125        80              0   \n",
       "2             8          75        10000       125        80              0   \n",
       "3             8          85         3000       140        90              0   \n",
       "4             8          85         3000       140        90              0   \n",
       "\n",
       "   ...  Occupation_Engineer  Occupation_Lawyer  Occupation_Nurse  \\\n",
       "0  ...                    0                  0                 0   \n",
       "1  ...                    0                  0                 0   \n",
       "2  ...                    0                  0                 0   \n",
       "3  ...                    0                  0                 0   \n",
       "4  ...                    0                  0                 0   \n",
       "\n",
       "   Occupation_Other  Occupation_Salesperson  Occupation_Teacher  \\\n",
       "0                 1                       0                   0   \n",
       "1                 0                       0                   0   \n",
       "2                 0                       0                   0   \n",
       "3                 1                       0                   0   \n",
       "4                 1                       0                   0   \n",
       "\n",
       "   BMI Category_Normal  BMI Category_Obese  BMI Category_Overweight  \\\n",
       "0                    0                   0                        1   \n",
       "1                    1                   0                        0   \n",
       "2                    1                   0                        0   \n",
       "3                    0                   1                        0   \n",
       "4                    0                   1                        0   \n",
       "\n",
       "   Sleep Disorder  \n",
       "0            None  \n",
       "1            None  \n",
       "2            None  \n",
       "3     Sleep Apnea  \n",
       "4     Sleep Apnea  \n",
       "\n",
       "[5 rows x 23 columns]"
      ]
     },
     "execution_count": 29,
     "metadata": {},
     "output_type": "execute_result"
    }
   ],
   "source": [
    "unscaled = unscaled[columns_reordered]\n",
    "unscaled.head()"
   ]
  },
  {
   "cell_type": "code",
   "execution_count": 30,
   "id": "1ef7d148",
   "metadata": {
    "execution": {
     "iopub.execute_input": "2023-07-31T10:36:30.819107Z",
     "iopub.status.busy": "2023-07-31T10:36:30.818191Z",
     "iopub.status.idle": "2023-07-31T10:36:30.823809Z",
     "shell.execute_reply": "2023-07-31T10:36:30.822693Z"
    },
    "papermill": {
     "duration": 0.036696,
     "end_time": "2023-07-31T10:36:30.826276",
     "exception": false,
     "start_time": "2023-07-31T10:36:30.789580",
     "status": "completed"
    },
    "tags": []
   },
   "outputs": [],
   "source": [
    "unscaled_inputs = unscaled.iloc[:,:-1]"
   ]
  },
  {
   "cell_type": "code",
   "execution_count": 31,
   "id": "5bb875c9",
   "metadata": {
    "execution": {
     "iopub.execute_input": "2023-07-31T10:36:30.881602Z",
     "iopub.status.busy": "2023-07-31T10:36:30.881189Z",
     "iopub.status.idle": "2023-07-31T10:36:30.886580Z",
     "shell.execute_reply": "2023-07-31T10:36:30.885279Z"
    },
    "papermill": {
     "duration": 0.035966,
     "end_time": "2023-07-31T10:36:30.888967",
     "exception": false,
     "start_time": "2023-07-31T10:36:30.853001",
     "status": "completed"
    },
    "tags": []
   },
   "outputs": [],
   "source": [
    "columns_to_omit = ['Gender_Female',\n",
    "       'Gender_Male', 'Occupation_Accountant', 'Occupation_Doctor',\n",
    "       'Occupation_Engineer', 'Occupation_Lawyer', 'Occupation_Nurse',\n",
    "       'Occupation_Other', 'Occupation_Salesperson', 'Occupation_Teacher',\n",
    "       'BMI Category_Normal', 'BMI Category_Obese',\n",
    "       'BMI Category_Overweight']"
   ]
  },
  {
   "cell_type": "code",
   "execution_count": 32,
   "id": "8701b24f",
   "metadata": {
    "execution": {
     "iopub.execute_input": "2023-07-31T10:36:30.945801Z",
     "iopub.status.busy": "2023-07-31T10:36:30.944612Z",
     "iopub.status.idle": "2023-07-31T10:36:30.950223Z",
     "shell.execute_reply": "2023-07-31T10:36:30.949462Z"
    },
    "papermill": {
     "duration": 0.036088,
     "end_time": "2023-07-31T10:36:30.952582",
     "exception": false,
     "start_time": "2023-07-31T10:36:30.916494",
     "status": "completed"
    },
    "tags": []
   },
   "outputs": [],
   "source": [
    "columns_to_scale = [x for x in unscaled_inputs.columns.values if x not in columns_to_omit]"
   ]
  },
  {
   "cell_type": "code",
   "execution_count": 33,
   "id": "0b99ec42",
   "metadata": {
    "execution": {
     "iopub.execute_input": "2023-07-31T10:36:31.008284Z",
     "iopub.status.busy": "2023-07-31T10:36:31.007903Z",
     "iopub.status.idle": "2023-07-31T10:36:31.012231Z",
     "shell.execute_reply": "2023-07-31T10:36:31.010996Z"
    },
    "papermill": {
     "duration": 0.03506,
     "end_time": "2023-07-31T10:36:31.014266",
     "exception": false,
     "start_time": "2023-07-31T10:36:30.979206",
     "status": "completed"
    },
    "tags": []
   },
   "outputs": [],
   "source": [
    "sleep_scaler = CustomScaler(columns_to_scale)"
   ]
  },
  {
   "cell_type": "code",
   "execution_count": 34,
   "id": "d95dfd0c",
   "metadata": {
    "execution": {
     "iopub.execute_input": "2023-07-31T10:36:31.070166Z",
     "iopub.status.busy": "2023-07-31T10:36:31.069792Z",
     "iopub.status.idle": "2023-07-31T10:36:31.094103Z",
     "shell.execute_reply": "2023-07-31T10:36:31.092784Z"
    },
    "papermill": {
     "duration": 0.055338,
     "end_time": "2023-07-31T10:36:31.096563",
     "exception": false,
     "start_time": "2023-07-31T10:36:31.041225",
     "status": "completed"
    },
    "tags": []
   },
   "outputs": [
    {
     "name": "stderr",
     "output_type": "stream",
     "text": [
      "/opt/conda/lib/python3.10/site-packages/numpy/core/fromnumeric.py:3430: FutureWarning: In a future version, DataFrame.mean(axis=None) will return a scalar mean over the entire DataFrame. To retain the old behavior, use 'frame.mean(axis=0)' or just 'frame.mean()'\n",
      "  return mean(axis=axis, dtype=dtype, out=out, **kwargs)\n"
     ]
    },
    {
     "data": {
      "text/html": [
       "<style>#sk-container-id-1 {color: black;background-color: white;}#sk-container-id-1 pre{padding: 0;}#sk-container-id-1 div.sk-toggleable {background-color: white;}#sk-container-id-1 label.sk-toggleable__label {cursor: pointer;display: block;width: 100%;margin-bottom: 0;padding: 0.3em;box-sizing: border-box;text-align: center;}#sk-container-id-1 label.sk-toggleable__label-arrow:before {content: \"▸\";float: left;margin-right: 0.25em;color: #696969;}#sk-container-id-1 label.sk-toggleable__label-arrow:hover:before {color: black;}#sk-container-id-1 div.sk-estimator:hover label.sk-toggleable__label-arrow:before {color: black;}#sk-container-id-1 div.sk-toggleable__content {max-height: 0;max-width: 0;overflow: hidden;text-align: left;background-color: #f0f8ff;}#sk-container-id-1 div.sk-toggleable__content pre {margin: 0.2em;color: black;border-radius: 0.25em;background-color: #f0f8ff;}#sk-container-id-1 input.sk-toggleable__control:checked~div.sk-toggleable__content {max-height: 200px;max-width: 100%;overflow: auto;}#sk-container-id-1 input.sk-toggleable__control:checked~label.sk-toggleable__label-arrow:before {content: \"▾\";}#sk-container-id-1 div.sk-estimator input.sk-toggleable__control:checked~label.sk-toggleable__label {background-color: #d4ebff;}#sk-container-id-1 div.sk-label input.sk-toggleable__control:checked~label.sk-toggleable__label {background-color: #d4ebff;}#sk-container-id-1 input.sk-hidden--visually {border: 0;clip: rect(1px 1px 1px 1px);clip: rect(1px, 1px, 1px, 1px);height: 1px;margin: -1px;overflow: hidden;padding: 0;position: absolute;width: 1px;}#sk-container-id-1 div.sk-estimator {font-family: monospace;background-color: #f0f8ff;border: 1px dotted black;border-radius: 0.25em;box-sizing: border-box;margin-bottom: 0.5em;}#sk-container-id-1 div.sk-estimator:hover {background-color: #d4ebff;}#sk-container-id-1 div.sk-parallel-item::after {content: \"\";width: 100%;border-bottom: 1px solid gray;flex-grow: 1;}#sk-container-id-1 div.sk-label:hover label.sk-toggleable__label {background-color: #d4ebff;}#sk-container-id-1 div.sk-serial::before {content: \"\";position: absolute;border-left: 1px solid gray;box-sizing: border-box;top: 0;bottom: 0;left: 50%;z-index: 0;}#sk-container-id-1 div.sk-serial {display: flex;flex-direction: column;align-items: center;background-color: white;padding-right: 0.2em;padding-left: 0.2em;position: relative;}#sk-container-id-1 div.sk-item {position: relative;z-index: 1;}#sk-container-id-1 div.sk-parallel {display: flex;align-items: stretch;justify-content: center;background-color: white;position: relative;}#sk-container-id-1 div.sk-item::before, #sk-container-id-1 div.sk-parallel-item::before {content: \"\";position: absolute;border-left: 1px solid gray;box-sizing: border-box;top: 0;bottom: 0;left: 50%;z-index: -1;}#sk-container-id-1 div.sk-parallel-item {display: flex;flex-direction: column;z-index: 1;position: relative;background-color: white;}#sk-container-id-1 div.sk-parallel-item:first-child::after {align-self: flex-end;width: 50%;}#sk-container-id-1 div.sk-parallel-item:last-child::after {align-self: flex-start;width: 50%;}#sk-container-id-1 div.sk-parallel-item:only-child::after {width: 0;}#sk-container-id-1 div.sk-dashed-wrapped {border: 1px dashed gray;margin: 0 0.4em 0.5em 0.4em;box-sizing: border-box;padding-bottom: 0.4em;background-color: white;}#sk-container-id-1 div.sk-label label {font-family: monospace;font-weight: bold;display: inline-block;line-height: 1.2em;}#sk-container-id-1 div.sk-label-container {text-align: center;}#sk-container-id-1 div.sk-container {/* jupyter's `normalize.less` sets `[hidden] { display: none; }` but bootstrap.min.css set `[hidden] { display: none !important; }` so we also need the `!important` here to be able to override the default hidden behavior on the sphinx rendered scikit-learn.org. See: https://github.com/scikit-learn/scikit-learn/issues/21755 */display: inline-block !important;position: relative;}#sk-container-id-1 div.sk-text-repr-fallback {display: none;}</style><div id=\"sk-container-id-1\" class=\"sk-top-container\"><div class=\"sk-text-repr-fallback\"><pre>CustomScaler(columns=[&#x27;Age&#x27;, &#x27;Sleep Duration&#x27;, &#x27;Quality of Sleep&#x27;,\n",
       "                      &#x27;Physical Activity Level&#x27;, &#x27;Stress Level&#x27;, &#x27;Heart Rate&#x27;,\n",
       "                      &#x27;Daily Steps&#x27;, &#x27;bp_upper&#x27;, &#x27;bp_lower&#x27;])</pre><b>In a Jupyter environment, please rerun this cell to show the HTML representation or trust the notebook. <br />On GitHub, the HTML representation is unable to render, please try loading this page with nbviewer.org.</b></div><div class=\"sk-container\" hidden><div class=\"sk-item\"><div class=\"sk-estimator sk-toggleable\"><input class=\"sk-toggleable__control sk-hidden--visually\" id=\"sk-estimator-id-1\" type=\"checkbox\" checked><label for=\"sk-estimator-id-1\" class=\"sk-toggleable__label sk-toggleable__label-arrow\">CustomScaler</label><div class=\"sk-toggleable__content\"><pre>CustomScaler(columns=[&#x27;Age&#x27;, &#x27;Sleep Duration&#x27;, &#x27;Quality of Sleep&#x27;,\n",
       "                      &#x27;Physical Activity Level&#x27;, &#x27;Stress Level&#x27;, &#x27;Heart Rate&#x27;,\n",
       "                      &#x27;Daily Steps&#x27;, &#x27;bp_upper&#x27;, &#x27;bp_lower&#x27;])</pre></div></div></div></div></div>"
      ],
      "text/plain": [
       "CustomScaler(columns=['Age', 'Sleep Duration', 'Quality of Sleep',\n",
       "                      'Physical Activity Level', 'Stress Level', 'Heart Rate',\n",
       "                      'Daily Steps', 'bp_upper', 'bp_lower'])"
      ]
     },
     "execution_count": 34,
     "metadata": {},
     "output_type": "execute_result"
    }
   ],
   "source": [
    "sleep_scaler.fit(unscaled_inputs)"
   ]
  },
  {
   "cell_type": "code",
   "execution_count": 35,
   "id": "08845384",
   "metadata": {
    "execution": {
     "iopub.execute_input": "2023-07-31T10:36:31.152976Z",
     "iopub.status.busy": "2023-07-31T10:36:31.152591Z",
     "iopub.status.idle": "2023-07-31T10:36:31.162537Z",
     "shell.execute_reply": "2023-07-31T10:36:31.161540Z"
    },
    "papermill": {
     "duration": 0.04076,
     "end_time": "2023-07-31T10:36:31.164660",
     "exception": false,
     "start_time": "2023-07-31T10:36:31.123900",
     "status": "completed"
    },
    "tags": []
   },
   "outputs": [],
   "source": [
    "scaled_inputs = sleep_scaler.transform(unscaled_inputs)"
   ]
  },
  {
   "cell_type": "code",
   "execution_count": 36,
   "id": "2785b473",
   "metadata": {
    "execution": {
     "iopub.execute_input": "2023-07-31T10:36:31.220916Z",
     "iopub.status.busy": "2023-07-31T10:36:31.220538Z",
     "iopub.status.idle": "2023-07-31T10:36:31.245028Z",
     "shell.execute_reply": "2023-07-31T10:36:31.244219Z"
    },
    "papermill": {
     "duration": 0.055204,
     "end_time": "2023-07-31T10:36:31.247103",
     "exception": false,
     "start_time": "2023-07-31T10:36:31.191899",
     "status": "completed"
    },
    "tags": []
   },
   "outputs": [
    {
     "data": {
      "text/html": [
       "<div>\n",
       "<style scoped>\n",
       "    .dataframe tbody tr th:only-of-type {\n",
       "        vertical-align: middle;\n",
       "    }\n",
       "\n",
       "    .dataframe tbody tr th {\n",
       "        vertical-align: top;\n",
       "    }\n",
       "\n",
       "    .dataframe thead th {\n",
       "        text-align: right;\n",
       "    }\n",
       "</style>\n",
       "<table border=\"1\" class=\"dataframe\">\n",
       "  <thead>\n",
       "    <tr style=\"text-align: right;\">\n",
       "      <th></th>\n",
       "      <th>Age</th>\n",
       "      <th>Sleep Duration</th>\n",
       "      <th>Quality of Sleep</th>\n",
       "      <th>Physical Activity Level</th>\n",
       "      <th>Stress Level</th>\n",
       "      <th>Heart Rate</th>\n",
       "      <th>Daily Steps</th>\n",
       "      <th>bp_upper</th>\n",
       "      <th>bp_lower</th>\n",
       "      <th>Gender_Female</th>\n",
       "      <th>...</th>\n",
       "      <th>Occupation_Doctor</th>\n",
       "      <th>Occupation_Engineer</th>\n",
       "      <th>Occupation_Lawyer</th>\n",
       "      <th>Occupation_Nurse</th>\n",
       "      <th>Occupation_Other</th>\n",
       "      <th>Occupation_Salesperson</th>\n",
       "      <th>Occupation_Teacher</th>\n",
       "      <th>BMI Category_Normal</th>\n",
       "      <th>BMI Category_Obese</th>\n",
       "      <th>BMI Category_Overweight</th>\n",
       "    </tr>\n",
       "  </thead>\n",
       "  <tbody>\n",
       "    <tr>\n",
       "      <th>0</th>\n",
       "      <td>-1.753096</td>\n",
       "      <td>-1.298887</td>\n",
       "      <td>-1.098280</td>\n",
       "      <td>-0.825418</td>\n",
       "      <td>0.347021</td>\n",
       "      <td>1.654719</td>\n",
       "      <td>-1.619584</td>\n",
       "      <td>-0.330002</td>\n",
       "      <td>-0.268102</td>\n",
       "      <td>0</td>\n",
       "      <td>...</td>\n",
       "      <td>0</td>\n",
       "      <td>0</td>\n",
       "      <td>0</td>\n",
       "      <td>0</td>\n",
       "      <td>1</td>\n",
       "      <td>0</td>\n",
       "      <td>0</td>\n",
       "      <td>0</td>\n",
       "      <td>0</td>\n",
       "      <td>1</td>\n",
       "    </tr>\n",
       "    <tr>\n",
       "      <th>1</th>\n",
       "      <td>-1.637643</td>\n",
       "      <td>-1.173036</td>\n",
       "      <td>-1.098280</td>\n",
       "      <td>0.039844</td>\n",
       "      <td>1.475592</td>\n",
       "      <td>1.170474</td>\n",
       "      <td>1.970077</td>\n",
       "      <td>-0.459239</td>\n",
       "      <td>-0.755640</td>\n",
       "      <td>0</td>\n",
       "      <td>...</td>\n",
       "      <td>1</td>\n",
       "      <td>0</td>\n",
       "      <td>0</td>\n",
       "      <td>0</td>\n",
       "      <td>0</td>\n",
       "      <td>0</td>\n",
       "      <td>0</td>\n",
       "      <td>1</td>\n",
       "      <td>0</td>\n",
       "      <td>0</td>\n",
       "    </tr>\n",
       "    <tr>\n",
       "      <th>2</th>\n",
       "      <td>-1.637643</td>\n",
       "      <td>-1.173036</td>\n",
       "      <td>-1.098280</td>\n",
       "      <td>0.039844</td>\n",
       "      <td>1.475592</td>\n",
       "      <td>1.170474</td>\n",
       "      <td>1.970077</td>\n",
       "      <td>-0.459239</td>\n",
       "      <td>-0.755640</td>\n",
       "      <td>0</td>\n",
       "      <td>...</td>\n",
       "      <td>1</td>\n",
       "      <td>0</td>\n",
       "      <td>0</td>\n",
       "      <td>0</td>\n",
       "      <td>0</td>\n",
       "      <td>0</td>\n",
       "      <td>0</td>\n",
       "      <td>1</td>\n",
       "      <td>0</td>\n",
       "      <td>0</td>\n",
       "    </tr>\n",
       "    <tr>\n",
       "      <th>3</th>\n",
       "      <td>-1.637643</td>\n",
       "      <td>-1.550588</td>\n",
       "      <td>-2.771424</td>\n",
       "      <td>-1.402260</td>\n",
       "      <td>1.475592</td>\n",
       "      <td>3.591698</td>\n",
       "      <td>-2.362273</td>\n",
       "      <td>1.479309</td>\n",
       "      <td>0.869486</td>\n",
       "      <td>0</td>\n",
       "      <td>...</td>\n",
       "      <td>0</td>\n",
       "      <td>0</td>\n",
       "      <td>0</td>\n",
       "      <td>0</td>\n",
       "      <td>1</td>\n",
       "      <td>0</td>\n",
       "      <td>0</td>\n",
       "      <td>0</td>\n",
       "      <td>1</td>\n",
       "      <td>0</td>\n",
       "    </tr>\n",
       "    <tr>\n",
       "      <th>4</th>\n",
       "      <td>-1.637643</td>\n",
       "      <td>-1.550588</td>\n",
       "      <td>-2.771424</td>\n",
       "      <td>-1.402260</td>\n",
       "      <td>1.475592</td>\n",
       "      <td>3.591698</td>\n",
       "      <td>-2.362273</td>\n",
       "      <td>1.479309</td>\n",
       "      <td>0.869486</td>\n",
       "      <td>0</td>\n",
       "      <td>...</td>\n",
       "      <td>0</td>\n",
       "      <td>0</td>\n",
       "      <td>0</td>\n",
       "      <td>0</td>\n",
       "      <td>1</td>\n",
       "      <td>0</td>\n",
       "      <td>0</td>\n",
       "      <td>0</td>\n",
       "      <td>1</td>\n",
       "      <td>0</td>\n",
       "    </tr>\n",
       "    <tr>\n",
       "      <th>...</th>\n",
       "      <td>...</td>\n",
       "      <td>...</td>\n",
       "      <td>...</td>\n",
       "      <td>...</td>\n",
       "      <td>...</td>\n",
       "      <td>...</td>\n",
       "      <td>...</td>\n",
       "      <td>...</td>\n",
       "      <td>...</td>\n",
       "      <td>...</td>\n",
       "      <td>...</td>\n",
       "      <td>...</td>\n",
       "      <td>...</td>\n",
       "      <td>...</td>\n",
       "      <td>...</td>\n",
       "      <td>...</td>\n",
       "      <td>...</td>\n",
       "      <td>...</td>\n",
       "      <td>...</td>\n",
       "      <td>...</td>\n",
       "      <td>...</td>\n",
       "    </tr>\n",
       "    <tr>\n",
       "      <th>369</th>\n",
       "      <td>1.941401</td>\n",
       "      <td>1.218127</td>\n",
       "      <td>1.411435</td>\n",
       "      <td>0.760896</td>\n",
       "      <td>-1.345836</td>\n",
       "      <td>-0.524383</td>\n",
       "      <td>0.113356</td>\n",
       "      <td>1.479309</td>\n",
       "      <td>1.682049</td>\n",
       "      <td>1</td>\n",
       "      <td>...</td>\n",
       "      <td>0</td>\n",
       "      <td>0</td>\n",
       "      <td>0</td>\n",
       "      <td>1</td>\n",
       "      <td>0</td>\n",
       "      <td>0</td>\n",
       "      <td>0</td>\n",
       "      <td>0</td>\n",
       "      <td>0</td>\n",
       "      <td>1</td>\n",
       "    </tr>\n",
       "    <tr>\n",
       "      <th>370</th>\n",
       "      <td>1.941401</td>\n",
       "      <td>1.092276</td>\n",
       "      <td>1.411435</td>\n",
       "      <td>0.760896</td>\n",
       "      <td>-1.345836</td>\n",
       "      <td>-0.524383</td>\n",
       "      <td>0.113356</td>\n",
       "      <td>1.479309</td>\n",
       "      <td>1.682049</td>\n",
       "      <td>1</td>\n",
       "      <td>...</td>\n",
       "      <td>0</td>\n",
       "      <td>0</td>\n",
       "      <td>0</td>\n",
       "      <td>1</td>\n",
       "      <td>0</td>\n",
       "      <td>0</td>\n",
       "      <td>0</td>\n",
       "      <td>0</td>\n",
       "      <td>0</td>\n",
       "      <td>1</td>\n",
       "    </tr>\n",
       "    <tr>\n",
       "      <th>371</th>\n",
       "      <td>1.941401</td>\n",
       "      <td>1.218127</td>\n",
       "      <td>1.411435</td>\n",
       "      <td>0.760896</td>\n",
       "      <td>-1.345836</td>\n",
       "      <td>-0.524383</td>\n",
       "      <td>0.113356</td>\n",
       "      <td>1.479309</td>\n",
       "      <td>1.682049</td>\n",
       "      <td>1</td>\n",
       "      <td>...</td>\n",
       "      <td>0</td>\n",
       "      <td>0</td>\n",
       "      <td>0</td>\n",
       "      <td>1</td>\n",
       "      <td>0</td>\n",
       "      <td>0</td>\n",
       "      <td>0</td>\n",
       "      <td>0</td>\n",
       "      <td>0</td>\n",
       "      <td>1</td>\n",
       "    </tr>\n",
       "    <tr>\n",
       "      <th>372</th>\n",
       "      <td>1.941401</td>\n",
       "      <td>1.218127</td>\n",
       "      <td>1.411435</td>\n",
       "      <td>0.760896</td>\n",
       "      <td>-1.345836</td>\n",
       "      <td>-0.524383</td>\n",
       "      <td>0.113356</td>\n",
       "      <td>1.479309</td>\n",
       "      <td>1.682049</td>\n",
       "      <td>1</td>\n",
       "      <td>...</td>\n",
       "      <td>0</td>\n",
       "      <td>0</td>\n",
       "      <td>0</td>\n",
       "      <td>1</td>\n",
       "      <td>0</td>\n",
       "      <td>0</td>\n",
       "      <td>0</td>\n",
       "      <td>0</td>\n",
       "      <td>0</td>\n",
       "      <td>1</td>\n",
       "    </tr>\n",
       "    <tr>\n",
       "      <th>373</th>\n",
       "      <td>1.941401</td>\n",
       "      <td>1.218127</td>\n",
       "      <td>1.411435</td>\n",
       "      <td>0.760896</td>\n",
       "      <td>-1.345836</td>\n",
       "      <td>-0.524383</td>\n",
       "      <td>0.113356</td>\n",
       "      <td>1.479309</td>\n",
       "      <td>1.682049</td>\n",
       "      <td>1</td>\n",
       "      <td>...</td>\n",
       "      <td>0</td>\n",
       "      <td>0</td>\n",
       "      <td>0</td>\n",
       "      <td>1</td>\n",
       "      <td>0</td>\n",
       "      <td>0</td>\n",
       "      <td>0</td>\n",
       "      <td>0</td>\n",
       "      <td>0</td>\n",
       "      <td>1</td>\n",
       "    </tr>\n",
       "  </tbody>\n",
       "</table>\n",
       "<p>374 rows × 22 columns</p>\n",
       "</div>"
      ],
      "text/plain": [
       "          Age  Sleep Duration  Quality of Sleep  Physical Activity Level  \\\n",
       "0   -1.753096       -1.298887         -1.098280                -0.825418   \n",
       "1   -1.637643       -1.173036         -1.098280                 0.039844   \n",
       "2   -1.637643       -1.173036         -1.098280                 0.039844   \n",
       "3   -1.637643       -1.550588         -2.771424                -1.402260   \n",
       "4   -1.637643       -1.550588         -2.771424                -1.402260   \n",
       "..        ...             ...               ...                      ...   \n",
       "369  1.941401        1.218127          1.411435                 0.760896   \n",
       "370  1.941401        1.092276          1.411435                 0.760896   \n",
       "371  1.941401        1.218127          1.411435                 0.760896   \n",
       "372  1.941401        1.218127          1.411435                 0.760896   \n",
       "373  1.941401        1.218127          1.411435                 0.760896   \n",
       "\n",
       "     Stress Level  Heart Rate  Daily Steps  bp_upper  bp_lower  Gender_Female  \\\n",
       "0        0.347021    1.654719    -1.619584 -0.330002 -0.268102              0   \n",
       "1        1.475592    1.170474     1.970077 -0.459239 -0.755640              0   \n",
       "2        1.475592    1.170474     1.970077 -0.459239 -0.755640              0   \n",
       "3        1.475592    3.591698    -2.362273  1.479309  0.869486              0   \n",
       "4        1.475592    3.591698    -2.362273  1.479309  0.869486              0   \n",
       "..            ...         ...          ...       ...       ...            ...   \n",
       "369     -1.345836   -0.524383     0.113356  1.479309  1.682049              1   \n",
       "370     -1.345836   -0.524383     0.113356  1.479309  1.682049              1   \n",
       "371     -1.345836   -0.524383     0.113356  1.479309  1.682049              1   \n",
       "372     -1.345836   -0.524383     0.113356  1.479309  1.682049              1   \n",
       "373     -1.345836   -0.524383     0.113356  1.479309  1.682049              1   \n",
       "\n",
       "     ...  Occupation_Doctor  Occupation_Engineer  Occupation_Lawyer  \\\n",
       "0    ...                  0                    0                  0   \n",
       "1    ...                  1                    0                  0   \n",
       "2    ...                  1                    0                  0   \n",
       "3    ...                  0                    0                  0   \n",
       "4    ...                  0                    0                  0   \n",
       "..   ...                ...                  ...                ...   \n",
       "369  ...                  0                    0                  0   \n",
       "370  ...                  0                    0                  0   \n",
       "371  ...                  0                    0                  0   \n",
       "372  ...                  0                    0                  0   \n",
       "373  ...                  0                    0                  0   \n",
       "\n",
       "     Occupation_Nurse  Occupation_Other  Occupation_Salesperson  \\\n",
       "0                   0                 1                       0   \n",
       "1                   0                 0                       0   \n",
       "2                   0                 0                       0   \n",
       "3                   0                 1                       0   \n",
       "4                   0                 1                       0   \n",
       "..                ...               ...                     ...   \n",
       "369                 1                 0                       0   \n",
       "370                 1                 0                       0   \n",
       "371                 1                 0                       0   \n",
       "372                 1                 0                       0   \n",
       "373                 1                 0                       0   \n",
       "\n",
       "     Occupation_Teacher  BMI Category_Normal  BMI Category_Obese  \\\n",
       "0                     0                    0                   0   \n",
       "1                     0                    1                   0   \n",
       "2                     0                    1                   0   \n",
       "3                     0                    0                   1   \n",
       "4                     0                    0                   1   \n",
       "..                  ...                  ...                 ...   \n",
       "369                   0                    0                   0   \n",
       "370                   0                    0                   0   \n",
       "371                   0                    0                   0   \n",
       "372                   0                    0                   0   \n",
       "373                   0                    0                   0   \n",
       "\n",
       "     BMI Category_Overweight  \n",
       "0                          1  \n",
       "1                          0  \n",
       "2                          0  \n",
       "3                          0  \n",
       "4                          0  \n",
       "..                       ...  \n",
       "369                        1  \n",
       "370                        1  \n",
       "371                        1  \n",
       "372                        1  \n",
       "373                        1  \n",
       "\n",
       "[374 rows x 22 columns]"
      ]
     },
     "execution_count": 36,
     "metadata": {},
     "output_type": "execute_result"
    }
   ],
   "source": [
    "scaled_inputs"
   ]
  },
  {
   "cell_type": "code",
   "execution_count": 37,
   "id": "a08f5941",
   "metadata": {
    "execution": {
     "iopub.execute_input": "2023-07-31T10:36:31.305354Z",
     "iopub.status.busy": "2023-07-31T10:36:31.304620Z",
     "iopub.status.idle": "2023-07-31T10:36:31.310949Z",
     "shell.execute_reply": "2023-07-31T10:36:31.309895Z"
    },
    "papermill": {
     "duration": 0.0378,
     "end_time": "2023-07-31T10:36:31.313125",
     "exception": false,
     "start_time": "2023-07-31T10:36:31.275325",
     "status": "completed"
    },
    "tags": []
   },
   "outputs": [
    {
     "data": {
      "text/plain": [
       "(374, 22)"
      ]
     },
     "execution_count": 37,
     "metadata": {},
     "output_type": "execute_result"
    }
   ],
   "source": [
    "scaled_inputs.shape"
   ]
  },
  {
   "cell_type": "code",
   "execution_count": 38,
   "id": "c32d5d46",
   "metadata": {
    "execution": {
     "iopub.execute_input": "2023-07-31T10:36:31.371964Z",
     "iopub.status.busy": "2023-07-31T10:36:31.371556Z",
     "iopub.status.idle": "2023-07-31T10:36:31.376522Z",
     "shell.execute_reply": "2023-07-31T10:36:31.375417Z"
    },
    "papermill": {
     "duration": 0.037237,
     "end_time": "2023-07-31T10:36:31.378619",
     "exception": false,
     "start_time": "2023-07-31T10:36:31.341382",
     "status": "completed"
    },
    "tags": []
   },
   "outputs": [],
   "source": [
    "targets = unscaled['Sleep Disorder']"
   ]
  },
  {
   "cell_type": "code",
   "execution_count": 39,
   "id": "684badf1",
   "metadata": {
    "execution": {
     "iopub.execute_input": "2023-07-31T10:36:31.437311Z",
     "iopub.status.busy": "2023-07-31T10:36:31.436910Z",
     "iopub.status.idle": "2023-07-31T10:36:31.443313Z",
     "shell.execute_reply": "2023-07-31T10:36:31.442331Z"
    },
    "papermill": {
     "duration": 0.038478,
     "end_time": "2023-07-31T10:36:31.445384",
     "exception": false,
     "start_time": "2023-07-31T10:36:31.406906",
     "status": "completed"
    },
    "tags": []
   },
   "outputs": [
    {
     "data": {
      "text/plain": [
       "(374,)"
      ]
     },
     "execution_count": 39,
     "metadata": {},
     "output_type": "execute_result"
    }
   ],
   "source": [
    "targets.shape"
   ]
  },
  {
   "cell_type": "markdown",
   "id": "5763b2ce",
   "metadata": {
    "papermill": {
     "duration": 0.027898,
     "end_time": "2023-07-31T10:36:31.501478",
     "exception": false,
     "start_time": "2023-07-31T10:36:31.473580",
     "status": "completed"
    },
    "tags": []
   },
   "source": [
    "# Splitting the Dataset"
   ]
  },
  {
   "cell_type": "code",
   "execution_count": 40,
   "id": "61d017fb",
   "metadata": {
    "execution": {
     "iopub.execute_input": "2023-07-31T10:36:31.559542Z",
     "iopub.status.busy": "2023-07-31T10:36:31.559106Z",
     "iopub.status.idle": "2023-07-31T10:36:31.678707Z",
     "shell.execute_reply": "2023-07-31T10:36:31.677561Z"
    },
    "papermill": {
     "duration": 0.151729,
     "end_time": "2023-07-31T10:36:31.681322",
     "exception": false,
     "start_time": "2023-07-31T10:36:31.529593",
     "status": "completed"
    },
    "tags": []
   },
   "outputs": [],
   "source": [
    "from sklearn.model_selection import train_test_split"
   ]
  },
  {
   "cell_type": "markdown",
   "id": "f768ac74",
   "metadata": {
    "papermill": {
     "duration": 0.027656,
     "end_time": "2023-07-31T10:36:31.737453",
     "exception": false,
     "start_time": "2023-07-31T10:36:31.709797",
     "status": "completed"
    },
    "tags": []
   },
   "source": [
    "performing a 80-20 train-test split"
   ]
  },
  {
   "cell_type": "code",
   "execution_count": 41,
   "id": "f302ee43",
   "metadata": {
    "execution": {
     "iopub.execute_input": "2023-07-31T10:36:31.801751Z",
     "iopub.status.busy": "2023-07-31T10:36:31.800800Z",
     "iopub.status.idle": "2023-07-31T10:36:31.820580Z",
     "shell.execute_reply": "2023-07-31T10:36:31.809255Z"
    },
    "papermill": {
     "duration": 0.057099,
     "end_time": "2023-07-31T10:36:31.824020",
     "exception": false,
     "start_time": "2023-07-31T10:36:31.766921",
     "status": "completed"
    },
    "tags": []
   },
   "outputs": [],
   "source": [
    "x_train, x_test, y_train, y_test = train_test_split(scaled_inputs, targets, #train_size = 0.8, \n",
    "                                                                            test_size = 0.2, random_state = 20)"
   ]
  },
  {
   "cell_type": "code",
   "execution_count": 42,
   "id": "406bf68d",
   "metadata": {
    "execution": {
     "iopub.execute_input": "2023-07-31T10:36:31.884182Z",
     "iopub.status.busy": "2023-07-31T10:36:31.883043Z",
     "iopub.status.idle": "2023-07-31T10:36:31.889524Z",
     "shell.execute_reply": "2023-07-31T10:36:31.888491Z"
    },
    "papermill": {
     "duration": 0.038405,
     "end_time": "2023-07-31T10:36:31.892001",
     "exception": false,
     "start_time": "2023-07-31T10:36:31.853596",
     "status": "completed"
    },
    "tags": []
   },
   "outputs": [
    {
     "name": "stdout",
     "output_type": "stream",
     "text": [
      "(299, 22) (299,)\n"
     ]
    }
   ],
   "source": [
    "print (x_train.shape, y_train.shape)"
   ]
  },
  {
   "cell_type": "code",
   "execution_count": 43,
   "id": "8e2eb317",
   "metadata": {
    "execution": {
     "iopub.execute_input": "2023-07-31T10:36:31.957497Z",
     "iopub.status.busy": "2023-07-31T10:36:31.956544Z",
     "iopub.status.idle": "2023-07-31T10:36:31.962768Z",
     "shell.execute_reply": "2023-07-31T10:36:31.961757Z"
    },
    "papermill": {
     "duration": 0.043082,
     "end_time": "2023-07-31T10:36:31.964798",
     "exception": false,
     "start_time": "2023-07-31T10:36:31.921716",
     "status": "completed"
    },
    "tags": []
   },
   "outputs": [
    {
     "name": "stdout",
     "output_type": "stream",
     "text": [
      "(75, 22) (75,)\n"
     ]
    }
   ],
   "source": [
    "print (x_test.shape, y_test.shape)"
   ]
  },
  {
   "cell_type": "markdown",
   "id": "97ca208f",
   "metadata": {
    "papermill": {
     "duration": 0.028024,
     "end_time": "2023-07-31T10:36:32.021622",
     "exception": false,
     "start_time": "2023-07-31T10:36:31.993598",
     "status": "completed"
    },
    "tags": []
   },
   "source": [
    "# Logistic Regression"
   ]
  },
  {
   "cell_type": "code",
   "execution_count": 44,
   "id": "e5e30216",
   "metadata": {
    "execution": {
     "iopub.execute_input": "2023-07-31T10:36:32.086553Z",
     "iopub.status.busy": "2023-07-31T10:36:32.085650Z",
     "iopub.status.idle": "2023-07-31T10:36:32.192921Z",
     "shell.execute_reply": "2023-07-31T10:36:32.191921Z"
    },
    "papermill": {
     "duration": 0.145496,
     "end_time": "2023-07-31T10:36:32.195556",
     "exception": false,
     "start_time": "2023-07-31T10:36:32.050060",
     "status": "completed"
    },
    "tags": []
   },
   "outputs": [],
   "source": [
    "from sklearn.linear_model import LogisticRegression\n",
    "from sklearn import metrics"
   ]
  },
  {
   "cell_type": "code",
   "execution_count": 45,
   "id": "adde86a0",
   "metadata": {
    "execution": {
     "iopub.execute_input": "2023-07-31T10:36:32.257586Z",
     "iopub.status.busy": "2023-07-31T10:36:32.257164Z",
     "iopub.status.idle": "2023-07-31T10:36:32.262318Z",
     "shell.execute_reply": "2023-07-31T10:36:32.261159Z"
    },
    "papermill": {
     "duration": 0.037181,
     "end_time": "2023-07-31T10:36:32.264590",
     "exception": false,
     "start_time": "2023-07-31T10:36:32.227409",
     "status": "completed"
    },
    "tags": []
   },
   "outputs": [],
   "source": [
    "from sklearn.metrics import accuracy_score, confusion_matrix, classification_report"
   ]
  },
  {
   "cell_type": "code",
   "execution_count": 46,
   "id": "4ab61cbc",
   "metadata": {
    "execution": {
     "iopub.execute_input": "2023-07-31T10:36:32.323053Z",
     "iopub.status.busy": "2023-07-31T10:36:32.322269Z",
     "iopub.status.idle": "2023-07-31T10:36:32.327335Z",
     "shell.execute_reply": "2023-07-31T10:36:32.326488Z"
    },
    "papermill": {
     "duration": 0.036419,
     "end_time": "2023-07-31T10:36:32.329425",
     "exception": false,
     "start_time": "2023-07-31T10:36:32.293006",
     "status": "completed"
    },
    "tags": []
   },
   "outputs": [],
   "source": [
    "reg = LogisticRegression()"
   ]
  },
  {
   "cell_type": "code",
   "execution_count": 47,
   "id": "4959a9a3",
   "metadata": {
    "execution": {
     "iopub.execute_input": "2023-07-31T10:36:32.388650Z",
     "iopub.status.busy": "2023-07-31T10:36:32.387123Z",
     "iopub.status.idle": "2023-07-31T10:36:32.419916Z",
     "shell.execute_reply": "2023-07-31T10:36:32.418689Z"
    },
    "papermill": {
     "duration": 0.064941,
     "end_time": "2023-07-31T10:36:32.422543",
     "exception": false,
     "start_time": "2023-07-31T10:36:32.357602",
     "status": "completed"
    },
    "tags": []
   },
   "outputs": [
    {
     "data": {
      "text/html": [
       "<style>#sk-container-id-2 {color: black;background-color: white;}#sk-container-id-2 pre{padding: 0;}#sk-container-id-2 div.sk-toggleable {background-color: white;}#sk-container-id-2 label.sk-toggleable__label {cursor: pointer;display: block;width: 100%;margin-bottom: 0;padding: 0.3em;box-sizing: border-box;text-align: center;}#sk-container-id-2 label.sk-toggleable__label-arrow:before {content: \"▸\";float: left;margin-right: 0.25em;color: #696969;}#sk-container-id-2 label.sk-toggleable__label-arrow:hover:before {color: black;}#sk-container-id-2 div.sk-estimator:hover label.sk-toggleable__label-arrow:before {color: black;}#sk-container-id-2 div.sk-toggleable__content {max-height: 0;max-width: 0;overflow: hidden;text-align: left;background-color: #f0f8ff;}#sk-container-id-2 div.sk-toggleable__content pre {margin: 0.2em;color: black;border-radius: 0.25em;background-color: #f0f8ff;}#sk-container-id-2 input.sk-toggleable__control:checked~div.sk-toggleable__content {max-height: 200px;max-width: 100%;overflow: auto;}#sk-container-id-2 input.sk-toggleable__control:checked~label.sk-toggleable__label-arrow:before {content: \"▾\";}#sk-container-id-2 div.sk-estimator input.sk-toggleable__control:checked~label.sk-toggleable__label {background-color: #d4ebff;}#sk-container-id-2 div.sk-label input.sk-toggleable__control:checked~label.sk-toggleable__label {background-color: #d4ebff;}#sk-container-id-2 input.sk-hidden--visually {border: 0;clip: rect(1px 1px 1px 1px);clip: rect(1px, 1px, 1px, 1px);height: 1px;margin: -1px;overflow: hidden;padding: 0;position: absolute;width: 1px;}#sk-container-id-2 div.sk-estimator {font-family: monospace;background-color: #f0f8ff;border: 1px dotted black;border-radius: 0.25em;box-sizing: border-box;margin-bottom: 0.5em;}#sk-container-id-2 div.sk-estimator:hover {background-color: #d4ebff;}#sk-container-id-2 div.sk-parallel-item::after {content: \"\";width: 100%;border-bottom: 1px solid gray;flex-grow: 1;}#sk-container-id-2 div.sk-label:hover label.sk-toggleable__label {background-color: #d4ebff;}#sk-container-id-2 div.sk-serial::before {content: \"\";position: absolute;border-left: 1px solid gray;box-sizing: border-box;top: 0;bottom: 0;left: 50%;z-index: 0;}#sk-container-id-2 div.sk-serial {display: flex;flex-direction: column;align-items: center;background-color: white;padding-right: 0.2em;padding-left: 0.2em;position: relative;}#sk-container-id-2 div.sk-item {position: relative;z-index: 1;}#sk-container-id-2 div.sk-parallel {display: flex;align-items: stretch;justify-content: center;background-color: white;position: relative;}#sk-container-id-2 div.sk-item::before, #sk-container-id-2 div.sk-parallel-item::before {content: \"\";position: absolute;border-left: 1px solid gray;box-sizing: border-box;top: 0;bottom: 0;left: 50%;z-index: -1;}#sk-container-id-2 div.sk-parallel-item {display: flex;flex-direction: column;z-index: 1;position: relative;background-color: white;}#sk-container-id-2 div.sk-parallel-item:first-child::after {align-self: flex-end;width: 50%;}#sk-container-id-2 div.sk-parallel-item:last-child::after {align-self: flex-start;width: 50%;}#sk-container-id-2 div.sk-parallel-item:only-child::after {width: 0;}#sk-container-id-2 div.sk-dashed-wrapped {border: 1px dashed gray;margin: 0 0.4em 0.5em 0.4em;box-sizing: border-box;padding-bottom: 0.4em;background-color: white;}#sk-container-id-2 div.sk-label label {font-family: monospace;font-weight: bold;display: inline-block;line-height: 1.2em;}#sk-container-id-2 div.sk-label-container {text-align: center;}#sk-container-id-2 div.sk-container {/* jupyter's `normalize.less` sets `[hidden] { display: none; }` but bootstrap.min.css set `[hidden] { display: none !important; }` so we also need the `!important` here to be able to override the default hidden behavior on the sphinx rendered scikit-learn.org. See: https://github.com/scikit-learn/scikit-learn/issues/21755 */display: inline-block !important;position: relative;}#sk-container-id-2 div.sk-text-repr-fallback {display: none;}</style><div id=\"sk-container-id-2\" class=\"sk-top-container\"><div class=\"sk-text-repr-fallback\"><pre>LogisticRegression()</pre><b>In a Jupyter environment, please rerun this cell to show the HTML representation or trust the notebook. <br />On GitHub, the HTML representation is unable to render, please try loading this page with nbviewer.org.</b></div><div class=\"sk-container\" hidden><div class=\"sk-item\"><div class=\"sk-estimator sk-toggleable\"><input class=\"sk-toggleable__control sk-hidden--visually\" id=\"sk-estimator-id-2\" type=\"checkbox\" checked><label for=\"sk-estimator-id-2\" class=\"sk-toggleable__label sk-toggleable__label-arrow\">LogisticRegression</label><div class=\"sk-toggleable__content\"><pre>LogisticRegression()</pre></div></div></div></div></div>"
      ],
      "text/plain": [
       "LogisticRegression()"
      ]
     },
     "execution_count": 47,
     "metadata": {},
     "output_type": "execute_result"
    }
   ],
   "source": [
    "reg.fit(x_train,y_train)"
   ]
  },
  {
   "cell_type": "code",
   "execution_count": 48,
   "id": "ef5b8c21",
   "metadata": {
    "execution": {
     "iopub.execute_input": "2023-07-31T10:36:32.484296Z",
     "iopub.status.busy": "2023-07-31T10:36:32.483551Z",
     "iopub.status.idle": "2023-07-31T10:36:32.493387Z",
     "shell.execute_reply": "2023-07-31T10:36:32.492464Z"
    },
    "papermill": {
     "duration": 0.042255,
     "end_time": "2023-07-31T10:36:32.495578",
     "exception": false,
     "start_time": "2023-07-31T10:36:32.453323",
     "status": "completed"
    },
    "tags": []
   },
   "outputs": [
    {
     "data": {
      "text/plain": [
       "0.9230769230769231"
      ]
     },
     "execution_count": 48,
     "metadata": {},
     "output_type": "execute_result"
    }
   ],
   "source": [
    "reg.score(x_train,y_train)"
   ]
  },
  {
   "cell_type": "markdown",
   "id": "db7893f8",
   "metadata": {
    "papermill": {
     "duration": 0.028705,
     "end_time": "2023-07-31T10:36:32.553358",
     "exception": false,
     "start_time": "2023-07-31T10:36:32.524653",
     "status": "completed"
    },
    "tags": []
   },
   "source": [
    "We get a training accuracy of 92.3%"
   ]
  },
  {
   "cell_type": "code",
   "execution_count": 49,
   "id": "72c3abd4",
   "metadata": {
    "execution": {
     "iopub.execute_input": "2023-07-31T10:36:32.612332Z",
     "iopub.status.busy": "2023-07-31T10:36:32.611551Z",
     "iopub.status.idle": "2023-07-31T10:36:32.872893Z",
     "shell.execute_reply": "2023-07-31T10:36:32.871720Z"
    },
    "papermill": {
     "duration": 0.293439,
     "end_time": "2023-07-31T10:36:32.875203",
     "exception": false,
     "start_time": "2023-07-31T10:36:32.581764",
     "status": "completed"
    },
    "tags": []
   },
   "outputs": [
    {
     "name": "stdout",
     "output_type": "stream",
     "text": [
      "0.91 accuracy with a standard deviation of 0.06\n"
     ]
    }
   ],
   "source": [
    " from sklearn.model_selection import cross_val_score\n",
    "    \n",
    "scores = cross_val_score(reg, x_train, y_train, cv=13)\n",
    "\n",
    "print(\"%0.2f accuracy with a standard deviation of %0.2f\" % (scores.mean(), scores.std()))"
   ]
  },
  {
   "cell_type": "markdown",
   "id": "6e6db746",
   "metadata": {
    "papermill": {
     "duration": 0.028223,
     "end_time": "2023-07-31T10:36:32.932136",
     "exception": false,
     "start_time": "2023-07-31T10:36:32.903913",
     "status": "completed"
    },
    "tags": []
   },
   "source": [
    "Finding intercept and coefficient of regression:"
   ]
  },
  {
   "cell_type": "code",
   "execution_count": 50,
   "id": "0fa3a550",
   "metadata": {
    "execution": {
     "iopub.execute_input": "2023-07-31T10:36:32.991982Z",
     "iopub.status.busy": "2023-07-31T10:36:32.991170Z",
     "iopub.status.idle": "2023-07-31T10:36:32.998749Z",
     "shell.execute_reply": "2023-07-31T10:36:32.997781Z"
    },
    "papermill": {
     "duration": 0.039551,
     "end_time": "2023-07-31T10:36:33.000870",
     "exception": false,
     "start_time": "2023-07-31T10:36:32.961319",
     "status": "completed"
    },
    "tags": []
   },
   "outputs": [
    {
     "data": {
      "text/plain": [
       "array([-0.53657107,  1.36131909, -0.82474802])"
      ]
     },
     "execution_count": 50,
     "metadata": {},
     "output_type": "execute_result"
    }
   ],
   "source": [
    "reg.intercept_"
   ]
  },
  {
   "cell_type": "code",
   "execution_count": 51,
   "id": "b99e9d16",
   "metadata": {
    "execution": {
     "iopub.execute_input": "2023-07-31T10:36:33.061650Z",
     "iopub.status.busy": "2023-07-31T10:36:33.060829Z",
     "iopub.status.idle": "2023-07-31T10:36:33.068503Z",
     "shell.execute_reply": "2023-07-31T10:36:33.067448Z"
    },
    "papermill": {
     "duration": 0.040902,
     "end_time": "2023-07-31T10:36:33.070816",
     "exception": false,
     "start_time": "2023-07-31T10:36:33.029914",
     "status": "completed"
    },
    "tags": []
   },
   "outputs": [
    {
     "data": {
      "text/plain": [
       "array([[ 0.38187427, -0.88190804, -0.35893091,  0.18633912, -0.1496886 ,\n",
       "        -0.36168693, -0.78908438,  0.67195241,  0.3442498 , -0.30763789,\n",
       "         0.30747997,  1.05330648, -0.38842322,  0.53752688, -0.12586432,\n",
       "        -1.1419508 , -1.04399547,  0.77734665,  0.33189588,  0.23257444,\n",
       "         0.02927655, -0.26200891],\n",
       "       [-0.17033143, -0.48704888,  0.72338732, -0.00167972,  0.0054025 ,\n",
       "        -0.41477777,  0.2868578 , -0.8886248 , -0.97269807,  0.18115195,\n",
       "        -0.18088491, -0.79900964,  0.64021348, -0.11604205,  0.33467623,\n",
       "         0.48373681,  0.56353207, -0.5763175 , -0.53052238,  0.19483971,\n",
       "        -0.0689627 , -0.12560998],\n",
       "       [-0.21154284,  1.36895692, -0.36445642, -0.1846594 ,  0.1442861 ,\n",
       "         0.7764647 ,  0.50222659,  0.21667239,  0.62844827,  0.12648594,\n",
       "        -0.12659506, -0.25429684, -0.25179026, -0.42148483, -0.20881191,\n",
       "         0.65821399,  0.4804634 , -0.20102915,  0.1986265 , -0.42741415,\n",
       "         0.03968614,  0.38761889]])"
      ]
     },
     "execution_count": 51,
     "metadata": {},
     "output_type": "execute_result"
    }
   ],
   "source": [
    "reg.coef_"
   ]
  },
  {
   "cell_type": "markdown",
   "id": "6fef05e0",
   "metadata": {
    "papermill": {
     "duration": 0.028907,
     "end_time": "2023-07-31T10:36:33.129568",
     "exception": false,
     "start_time": "2023-07-31T10:36:33.100661",
     "status": "completed"
    },
    "tags": []
   },
   "source": [
    "Testing model"
   ]
  },
  {
   "cell_type": "code",
   "execution_count": 52,
   "id": "f0b34ce5",
   "metadata": {
    "execution": {
     "iopub.execute_input": "2023-07-31T10:36:33.188935Z",
     "iopub.status.busy": "2023-07-31T10:36:33.188533Z",
     "iopub.status.idle": "2023-07-31T10:36:33.195588Z",
     "shell.execute_reply": "2023-07-31T10:36:33.194309Z"
    },
    "papermill": {
     "duration": 0.039921,
     "end_time": "2023-07-31T10:36:33.197990",
     "exception": false,
     "start_time": "2023-07-31T10:36:33.158069",
     "status": "completed"
    },
    "tags": []
   },
   "outputs": [],
   "source": [
    "pred = reg.predict(x_test)"
   ]
  },
  {
   "cell_type": "markdown",
   "id": "c5d527f1",
   "metadata": {
    "papermill": {
     "duration": 0.028387,
     "end_time": "2023-07-31T10:36:33.255740",
     "exception": false,
     "start_time": "2023-07-31T10:36:33.227353",
     "status": "completed"
    },
    "tags": []
   },
   "source": [
    "Confusion matrix:"
   ]
  },
  {
   "cell_type": "code",
   "execution_count": 53,
   "id": "6fe6d93d",
   "metadata": {
    "execution": {
     "iopub.execute_input": "2023-07-31T10:36:33.316538Z",
     "iopub.status.busy": "2023-07-31T10:36:33.315261Z",
     "iopub.status.idle": "2023-07-31T10:36:33.325514Z",
     "shell.execute_reply": "2023-07-31T10:36:33.324448Z"
    },
    "papermill": {
     "duration": 0.04313,
     "end_time": "2023-07-31T10:36:33.327814",
     "exception": false,
     "start_time": "2023-07-31T10:36:33.284684",
     "status": "completed"
    },
    "tags": []
   },
   "outputs": [
    {
     "data": {
      "text/plain": [
       "array([[14,  2,  0],\n",
       "       [ 0, 47,  1],\n",
       "       [ 0,  2,  9]])"
      ]
     },
     "execution_count": 53,
     "metadata": {},
     "output_type": "execute_result"
    }
   ],
   "source": [
    "c = confusion_matrix(y_test, pred)\n",
    "c"
   ]
  },
  {
   "cell_type": "code",
   "execution_count": 54,
   "id": "dd6f1107",
   "metadata": {
    "execution": {
     "iopub.execute_input": "2023-07-31T10:36:33.387545Z",
     "iopub.status.busy": "2023-07-31T10:36:33.386468Z",
     "iopub.status.idle": "2023-07-31T10:36:33.391177Z",
     "shell.execute_reply": "2023-07-31T10:36:33.390380Z"
    },
    "papermill": {
     "duration": 0.036675,
     "end_time": "2023-07-31T10:36:33.393302",
     "exception": false,
     "start_time": "2023-07-31T10:36:33.356627",
     "status": "completed"
    },
    "tags": []
   },
   "outputs": [],
   "source": [
    "from sklearn.metrics import accuracy_score, precision_score, recall_score, f1_score"
   ]
  },
  {
   "cell_type": "code",
   "execution_count": 55,
   "id": "90677ebb",
   "metadata": {
    "execution": {
     "iopub.execute_input": "2023-07-31T10:36:33.455675Z",
     "iopub.status.busy": "2023-07-31T10:36:33.454954Z",
     "iopub.status.idle": "2023-07-31T10:36:33.489319Z",
     "shell.execute_reply": "2023-07-31T10:36:33.487716Z"
    },
    "papermill": {
     "duration": 0.069373,
     "end_time": "2023-07-31T10:36:33.491652",
     "exception": false,
     "start_time": "2023-07-31T10:36:33.422279",
     "status": "completed"
    },
    "tags": []
   },
   "outputs": [
    {
     "name": "stdout",
     "output_type": "stream",
     "text": [
      "\n",
      "Accuracy: 0.9333\n",
      "\n",
      "Micro Precision: 0.93\n",
      "Micro Recall: 0.93\n",
      "Micro F1-score: 0.93\n",
      "\n",
      "Macro Precision: 0.94\n",
      "Macro Recall: 0.89\n",
      "Macro F1-score: 0.91\n",
      "\n",
      "Weighted Precision: 0.94\n",
      "Weighted Recall: 0.93\n",
      "Weighted F1-score: 0.93\n",
      "\n",
      "Classification Report\n",
      "\n",
      "              precision    recall  f1-score   support\n",
      "\n",
      "    Insomnia       1.00      0.88      0.93        16\n",
      "        None       0.92      0.98      0.95        48\n",
      " Sleep Apnea       0.90      0.82      0.86        11\n",
      "\n",
      "    accuracy                           0.93        75\n",
      "   macro avg       0.94      0.89      0.91        75\n",
      "weighted avg       0.94      0.93      0.93        75\n",
      "\n"
     ]
    }
   ],
   "source": [
    "print('\\nAccuracy: {:.4f}\\n'.format(accuracy_score(y_test, pred)))\n",
    "\n",
    "print('Micro Precision: {:.2f}'.format(precision_score(y_test, pred, average='micro')))\n",
    "print('Micro Recall: {:.2f}'.format(recall_score(y_test, pred, average='micro')))\n",
    "print('Micro F1-score: {:.2f}\\n'.format(f1_score(y_test, pred, average='micro')))\n",
    "\n",
    "print('Macro Precision: {:.2f}'.format(precision_score(y_test, pred, average='macro')))\n",
    "print('Macro Recall: {:.2f}'.format(recall_score(y_test, pred, average='macro')))\n",
    "print('Macro F1-score: {:.2f}\\n'.format(f1_score(y_test, pred, average='macro')))\n",
    "\n",
    "print('Weighted Precision: {:.2f}'.format(precision_score(y_test, pred, average='weighted')))\n",
    "print('Weighted Recall: {:.2f}'.format(recall_score(y_test, pred, average='weighted')))\n",
    "print('Weighted F1-score: {:.2f}'.format(f1_score(y_test, pred, average='weighted')))\n",
    "\n",
    "from sklearn.metrics import classification_report\n",
    "print('\\nClassification Report\\n')\n",
    "print(classification_report(y_test, pred, target_names=['Insomnia', 'None', 'Sleep Apnea']))"
   ]
  },
  {
   "cell_type": "markdown",
   "id": "4109af4d",
   "metadata": {
    "papermill": {
     "duration": 0.029014,
     "end_time": "2023-07-31T10:36:33.549596",
     "exception": false,
     "start_time": "2023-07-31T10:36:33.520582",
     "status": "completed"
    },
    "tags": []
   },
   "source": [
    "We get test accuracy and weighted F1-score of 93% when using Logistic Regression."
   ]
  },
  {
   "cell_type": "markdown",
   "id": "3bbe27bc",
   "metadata": {
    "papermill": {
     "duration": 0.028473,
     "end_time": "2023-07-31T10:36:33.607625",
     "exception": false,
     "start_time": "2023-07-31T10:36:33.579152",
     "status": "completed"
    },
    "tags": []
   },
   "source": [
    "# K-nearest Neighbours"
   ]
  },
  {
   "cell_type": "code",
   "execution_count": 56,
   "id": "4d09798a",
   "metadata": {
    "execution": {
     "iopub.execute_input": "2023-07-31T10:36:33.668011Z",
     "iopub.status.busy": "2023-07-31T10:36:33.666728Z",
     "iopub.status.idle": "2023-07-31T10:36:33.794287Z",
     "shell.execute_reply": "2023-07-31T10:36:33.793159Z"
    },
    "papermill": {
     "duration": 0.161154,
     "end_time": "2023-07-31T10:36:33.797734",
     "exception": false,
     "start_time": "2023-07-31T10:36:33.636580",
     "status": "completed"
    },
    "tags": []
   },
   "outputs": [],
   "source": [
    "from sklearn.neighbors import KNeighborsClassifier\n",
    "from sklearn import metrics"
   ]
  },
  {
   "cell_type": "code",
   "execution_count": 57,
   "id": "2126eefa",
   "metadata": {
    "execution": {
     "iopub.execute_input": "2023-07-31T10:36:33.857706Z",
     "iopub.status.busy": "2023-07-31T10:36:33.857305Z",
     "iopub.status.idle": "2023-07-31T10:36:34.132140Z",
     "shell.execute_reply": "2023-07-31T10:36:34.130698Z"
    },
    "papermill": {
     "duration": 0.307769,
     "end_time": "2023-07-31T10:36:34.134794",
     "exception": false,
     "start_time": "2023-07-31T10:36:33.827025",
     "status": "completed"
    },
    "tags": []
   },
   "outputs": [],
   "source": [
    "k_range = range(1,26)\n",
    "scores = {}\n",
    "scores_list = []\n",
    "\n",
    "for k in k_range:\n",
    "    knn = KNeighborsClassifier(n_neighbors=k)\n",
    "    knn.fit(x_train, y_train)\n",
    "    y_pred = knn.predict(x_test)\n",
    "    scores[k] = metrics.accuracy_score(y_test,y_pred)\n",
    "    scores_list.append(metrics.accuracy_score(y_test,y_pred))"
   ]
  },
  {
   "cell_type": "markdown",
   "id": "fdda185b",
   "metadata": {
    "papermill": {
     "duration": 0.029098,
     "end_time": "2023-07-31T10:36:34.194449",
     "exception": false,
     "start_time": "2023-07-31T10:36:34.165351",
     "status": "completed"
    },
    "tags": []
   },
   "source": [
    "Finding the optimum value for K:"
   ]
  },
  {
   "cell_type": "code",
   "execution_count": 58,
   "id": "1fb04170",
   "metadata": {
    "execution": {
     "iopub.execute_input": "2023-07-31T10:36:34.254269Z",
     "iopub.status.busy": "2023-07-31T10:36:34.253855Z",
     "iopub.status.idle": "2023-07-31T10:36:34.607368Z",
     "shell.execute_reply": "2023-07-31T10:36:34.606491Z"
    },
    "papermill": {
     "duration": 0.38604,
     "end_time": "2023-07-31T10:36:34.609536",
     "exception": false,
     "start_time": "2023-07-31T10:36:34.223496",
     "status": "completed"
    },
    "tags": []
   },
   "outputs": [
    {
     "data": {
      "text/plain": [
       "Text(0, 0.5, 'Testing accuracy')"
      ]
     },
     "execution_count": 58,
     "metadata": {},
     "output_type": "execute_result"
    },
    {
     "data": {
      "image/png": "[encoded data removed]",
      "text/plain": [
       "<Figure size 640x480 with 1 Axes>"
      ]
     },
     "metadata": {},
     "output_type": "display_data"
    }
   ],
   "source": [
    "plt.plot(k_range, scores_list)\n",
    "plt.xlabel('value of K for KNN')\n",
    "plt.ylabel('Testing accuracy')"
   ]
  },
  {
   "cell_type": "markdown",
   "id": "a6f3ee04",
   "metadata": {
    "papermill": {
     "duration": 0.029457,
     "end_time": "2023-07-31T10:36:34.668765",
     "exception": false,
     "start_time": "2023-07-31T10:36:34.639308",
     "status": "completed"
    },
    "tags": []
   },
   "source": [
    "For the final model, we can choose the optimal value of K as 10 (which falls between 9 and 20."
   ]
  },
  {
   "cell_type": "code",
   "execution_count": 59,
   "id": "c46e49af",
   "metadata": {
    "execution": {
     "iopub.execute_input": "2023-07-31T10:36:34.730368Z",
     "iopub.status.busy": "2023-07-31T10:36:34.729611Z",
     "iopub.status.idle": "2023-07-31T10:36:34.865339Z",
     "shell.execute_reply": "2023-07-31T10:36:34.863927Z"
    },
    "papermill": {
     "duration": 0.169008,
     "end_time": "2023-07-31T10:36:34.867561",
     "exception": false,
     "start_time": "2023-07-31T10:36:34.698553",
     "status": "completed"
    },
    "tags": []
   },
   "outputs": [
    {
     "name": "stdout",
     "output_type": "stream",
     "text": [
      "0.88 accuracy with a standard deviation of 0.06\n"
     ]
    }
   ],
   "source": [
    "knn = KNeighborsClassifier(n_neighbors = 10)\n",
    "\n",
    "\n",
    "scores = cross_val_score(knn, x_train, y_train, cv=13)\n",
    "\n",
    "print(\"%0.2f accuracy with a standard deviation of %0.2f\" % (scores.mean(), scores.std()))"
   ]
  },
  {
   "cell_type": "code",
   "execution_count": 60,
   "id": "9261f9ff",
   "metadata": {
    "execution": {
     "iopub.execute_input": "2023-07-31T10:36:34.936720Z",
     "iopub.status.busy": "2023-07-31T10:36:34.935543Z",
     "iopub.status.idle": "2023-07-31T10:36:34.947439Z",
     "shell.execute_reply": "2023-07-31T10:36:34.946296Z"
    },
    "papermill": {
     "duration": 0.050836,
     "end_time": "2023-07-31T10:36:34.949837",
     "exception": false,
     "start_time": "2023-07-31T10:36:34.899001",
     "status": "completed"
    },
    "tags": []
   },
   "outputs": [
    {
     "data": {
      "text/html": [
       "<style>#sk-container-id-3 {color: black;background-color: white;}#sk-container-id-3 pre{padding: 0;}#sk-container-id-3 div.sk-toggleable {background-color: white;}#sk-container-id-3 label.sk-toggleable__label {cursor: pointer;display: block;width: 100%;margin-bottom: 0;padding: 0.3em;box-sizing: border-box;text-align: center;}#sk-container-id-3 label.sk-toggleable__label-arrow:before {content: \"▸\";float: left;margin-right: 0.25em;color: #696969;}#sk-container-id-3 label.sk-toggleable__label-arrow:hover:before {color: black;}#sk-container-id-3 div.sk-estimator:hover label.sk-toggleable__label-arrow:before {color: black;}#sk-container-id-3 div.sk-toggleable__content {max-height: 0;max-width: 0;overflow: hidden;text-align: left;background-color: #f0f8ff;}#sk-container-id-3 div.sk-toggleable__content pre {margin: 0.2em;color: black;border-radius: 0.25em;background-color: #f0f8ff;}#sk-container-id-3 input.sk-toggleable__control:checked~div.sk-toggleable__content {max-height: 200px;max-width: 100%;overflow: auto;}#sk-container-id-3 input.sk-toggleable__control:checked~label.sk-toggleable__label-arrow:before {content: \"▾\";}#sk-container-id-3 div.sk-estimator input.sk-toggleable__control:checked~label.sk-toggleable__label {background-color: #d4ebff;}#sk-container-id-3 div.sk-label input.sk-toggleable__control:checked~label.sk-toggleable__label {background-color: #d4ebff;}#sk-container-id-3 input.sk-hidden--visually {border: 0;clip: rect(1px 1px 1px 1px);clip: rect(1px, 1px, 1px, 1px);height: 1px;margin: -1px;overflow: hidden;padding: 0;position: absolute;width: 1px;}#sk-container-id-3 div.sk-estimator {font-family: monospace;background-color: #f0f8ff;border: 1px dotted black;border-radius: 0.25em;box-sizing: border-box;margin-bottom: 0.5em;}#sk-container-id-3 div.sk-estimator:hover {background-color: #d4ebff;}#sk-container-id-3 div.sk-parallel-item::after {content: \"\";width: 100%;border-bottom: 1px solid gray;flex-grow: 1;}#sk-container-id-3 div.sk-label:hover label.sk-toggleable__label {background-color: #d4ebff;}#sk-container-id-3 div.sk-serial::before {content: \"\";position: absolute;border-left: 1px solid gray;box-sizing: border-box;top: 0;bottom: 0;left: 50%;z-index: 0;}#sk-container-id-3 div.sk-serial {display: flex;flex-direction: column;align-items: center;background-color: white;padding-right: 0.2em;padding-left: 0.2em;position: relative;}#sk-container-id-3 div.sk-item {position: relative;z-index: 1;}#sk-container-id-3 div.sk-parallel {display: flex;align-items: stretch;justify-content: center;background-color: white;position: relative;}#sk-container-id-3 div.sk-item::before, #sk-container-id-3 div.sk-parallel-item::before {content: \"\";position: absolute;border-left: 1px solid gray;box-sizing: border-box;top: 0;bottom: 0;left: 50%;z-index: -1;}#sk-container-id-3 div.sk-parallel-item {display: flex;flex-direction: column;z-index: 1;position: relative;background-color: white;}#sk-container-id-3 div.sk-parallel-item:first-child::after {align-self: flex-end;width: 50%;}#sk-container-id-3 div.sk-parallel-item:last-child::after {align-self: flex-start;width: 50%;}#sk-container-id-3 div.sk-parallel-item:only-child::after {width: 0;}#sk-container-id-3 div.sk-dashed-wrapped {border: 1px dashed gray;margin: 0 0.4em 0.5em 0.4em;box-sizing: border-box;padding-bottom: 0.4em;background-color: white;}#sk-container-id-3 div.sk-label label {font-family: monospace;font-weight: bold;display: inline-block;line-height: 1.2em;}#sk-container-id-3 div.sk-label-container {text-align: center;}#sk-container-id-3 div.sk-container {/* jupyter's `normalize.less` sets `[hidden] { display: none; }` but bootstrap.min.css set `[hidden] { display: none !important; }` so we also need the `!important` here to be able to override the default hidden behavior on the sphinx rendered scikit-learn.org. See: https://github.com/scikit-learn/scikit-learn/issues/21755 */display: inline-block !important;position: relative;}#sk-container-id-3 div.sk-text-repr-fallback {display: none;}</style><div id=\"sk-container-id-3\" class=\"sk-top-container\"><div class=\"sk-text-repr-fallback\"><pre>KNeighborsClassifier(n_neighbors=10)</pre><b>In a Jupyter environment, please rerun this cell to show the HTML representation or trust the notebook. <br />On GitHub, the HTML representation is unable to render, please try loading this page with nbviewer.org.</b></div><div class=\"sk-container\" hidden><div class=\"sk-item\"><div class=\"sk-estimator sk-toggleable\"><input class=\"sk-toggleable__control sk-hidden--visually\" id=\"sk-estimator-id-3\" type=\"checkbox\" checked><label for=\"sk-estimator-id-3\" class=\"sk-toggleable__label sk-toggleable__label-arrow\">KNeighborsClassifier</label><div class=\"sk-toggleable__content\"><pre>KNeighborsClassifier(n_neighbors=10)</pre></div></div></div></div></div>"
      ],
      "text/plain": [
       "KNeighborsClassifier(n_neighbors=10)"
      ]
     },
     "execution_count": 60,
     "metadata": {},
     "output_type": "execute_result"
    }
   ],
   "source": [
    "knn.fit(x_train, y_train)"
   ]
  },
  {
   "cell_type": "code",
   "execution_count": 61,
   "id": "3fdb6813",
   "metadata": {
    "execution": {
     "iopub.execute_input": "2023-07-31T10:36:35.013382Z",
     "iopub.status.busy": "2023-07-31T10:36:35.012641Z",
     "iopub.status.idle": "2023-07-31T10:36:35.023247Z",
     "shell.execute_reply": "2023-07-31T10:36:35.022376Z"
    },
    "papermill": {
     "duration": 0.044914,
     "end_time": "2023-07-31T10:36:35.025383",
     "exception": false,
     "start_time": "2023-07-31T10:36:34.980469",
     "status": "completed"
    },
    "tags": []
   },
   "outputs": [],
   "source": [
    "y_pred = knn.predict(x_test)"
   ]
  },
  {
   "cell_type": "code",
   "execution_count": 62,
   "id": "fe7e1d21",
   "metadata": {
    "execution": {
     "iopub.execute_input": "2023-07-31T10:36:35.088583Z",
     "iopub.status.busy": "2023-07-31T10:36:35.087738Z",
     "iopub.status.idle": "2023-07-31T10:36:35.095907Z",
     "shell.execute_reply": "2023-07-31T10:36:35.094794Z"
    },
    "papermill": {
     "duration": 0.042216,
     "end_time": "2023-07-31T10:36:35.097975",
     "exception": false,
     "start_time": "2023-07-31T10:36:35.055759",
     "status": "completed"
    },
    "tags": []
   },
   "outputs": [
    {
     "data": {
      "text/plain": [
       "array([[14,  2,  0],\n",
       "       [ 1, 46,  1],\n",
       "       [ 0,  2,  9]])"
      ]
     },
     "execution_count": 62,
     "metadata": {},
     "output_type": "execute_result"
    }
   ],
   "source": [
    "confusion_matrix(y_test, y_pred)"
   ]
  },
  {
   "cell_type": "code",
   "execution_count": 63,
   "id": "d3d9b871",
   "metadata": {
    "execution": {
     "iopub.execute_input": "2023-07-31T10:36:35.160102Z",
     "iopub.status.busy": "2023-07-31T10:36:35.159450Z",
     "iopub.status.idle": "2023-07-31T10:36:35.163750Z",
     "shell.execute_reply": "2023-07-31T10:36:35.162972Z"
    },
    "papermill": {
     "duration": 0.037452,
     "end_time": "2023-07-31T10:36:35.165707",
     "exception": false,
     "start_time": "2023-07-31T10:36:35.128255",
     "status": "completed"
    },
    "tags": []
   },
   "outputs": [],
   "source": [
    "from sklearn.metrics import accuracy_score, precision_score, recall_score, f1_score"
   ]
  },
  {
   "cell_type": "code",
   "execution_count": 64,
   "id": "36b8e267",
   "metadata": {
    "execution": {
     "iopub.execute_input": "2023-07-31T10:36:35.227452Z",
     "iopub.status.busy": "2023-07-31T10:36:35.227037Z",
     "iopub.status.idle": "2023-07-31T10:36:35.261468Z",
     "shell.execute_reply": "2023-07-31T10:36:35.259762Z"
    },
    "papermill": {
     "duration": 0.068324,
     "end_time": "2023-07-31T10:36:35.263875",
     "exception": false,
     "start_time": "2023-07-31T10:36:35.195551",
     "status": "completed"
    },
    "tags": []
   },
   "outputs": [
    {
     "name": "stdout",
     "output_type": "stream",
     "text": [
      "\n",
      "Accuracy: 0.9200\n",
      "\n",
      "Micro Precision: 0.92\n",
      "Micro Recall: 0.92\n",
      "Micro F1-score: 0.92\n",
      "\n",
      "Macro Precision: 0.92\n",
      "Macro Recall: 0.88\n",
      "Macro F1-score: 0.90\n",
      "\n",
      "Weighted Precision: 0.92\n",
      "Weighted Recall: 0.92\n",
      "Weighted F1-score: 0.92\n",
      "\n",
      "Classification Report\n",
      "\n",
      "              precision    recall  f1-score   support\n",
      "\n",
      "    Insomnia       0.93      0.88      0.90        16\n",
      "        None       0.92      0.96      0.94        48\n",
      " Sleep Apnea       0.90      0.82      0.86        11\n",
      "\n",
      "    accuracy                           0.92        75\n",
      "   macro avg       0.92      0.88      0.90        75\n",
      "weighted avg       0.92      0.92      0.92        75\n",
      "\n"
     ]
    }
   ],
   "source": [
    "print('\\nAccuracy: {:.4f}\\n'.format(accuracy_score(y_test, y_pred)))\n",
    "\n",
    "print('Micro Precision: {:.2f}'.format(precision_score(y_test, y_pred, average='micro')))\n",
    "print('Micro Recall: {:.2f}'.format(recall_score(y_test, y_pred, average='micro')))\n",
    "print('Micro F1-score: {:.2f}\\n'.format(f1_score(y_test, y_pred, average='micro')))\n",
    "\n",
    "print('Macro Precision: {:.2f}'.format(precision_score(y_test, y_pred, average='macro')))\n",
    "print('Macro Recall: {:.2f}'.format(recall_score(y_test, y_pred, average='macro')))\n",
    "print('Macro F1-score: {:.2f}\\n'.format(f1_score(y_test, y_pred, average='macro')))\n",
    "\n",
    "print('Weighted Precision: {:.2f}'.format(precision_score(y_test, y_pred, average='weighted')))\n",
    "print('Weighted Recall: {:.2f}'.format(recall_score(y_test, y_pred, average='weighted')))\n",
    "print('Weighted F1-score: {:.2f}'.format(f1_score(y_test, y_pred, average='weighted')))\n",
    "\n",
    "from sklearn.metrics import classification_report\n",
    "print('\\nClassification Report\\n')\n",
    "print(classification_report(y_test, y_pred, target_names=['Insomnia', 'None', 'Sleep Apnea']))"
   ]
  },
  {
   "cell_type": "markdown",
   "id": "2d993f88",
   "metadata": {
    "papermill": {
     "duration": 0.029926,
     "end_time": "2023-07-31T10:36:35.324656",
     "exception": false,
     "start_time": "2023-07-31T10:36:35.294730",
     "status": "completed"
    },
    "tags": []
   },
   "source": [
    "The accuracy and F1-score achieved using K-Nearest neighbours is 92%, which is slightly worse than when using Logistic Regression."
   ]
  },
  {
   "cell_type": "markdown",
   "id": "f4f5a7f8",
   "metadata": {
    "papermill": {
     "duration": 0.031558,
     "end_time": "2023-07-31T10:36:35.386619",
     "exception": false,
     "start_time": "2023-07-31T10:36:35.355061",
     "status": "completed"
    },
    "tags": []
   },
   "source": [
    "# Naive Bayes Classifier"
   ]
  },
  {
   "cell_type": "code",
   "execution_count": 65,
   "id": "7bb5123b",
   "metadata": {
    "execution": {
     "iopub.execute_input": "2023-07-31T10:36:35.451867Z",
     "iopub.status.busy": "2023-07-31T10:36:35.450856Z",
     "iopub.status.idle": "2023-07-31T10:36:35.466242Z",
     "shell.execute_reply": "2023-07-31T10:36:35.465112Z"
    },
    "papermill": {
     "duration": 0.052984,
     "end_time": "2023-07-31T10:36:35.469621",
     "exception": false,
     "start_time": "2023-07-31T10:36:35.416637",
     "status": "completed"
    },
    "tags": []
   },
   "outputs": [],
   "source": [
    "from sklearn.naive_bayes import GaussianNB"
   ]
  },
  {
   "cell_type": "code",
   "execution_count": 66,
   "id": "3298998a",
   "metadata": {
    "execution": {
     "iopub.execute_input": "2023-07-31T10:36:35.549634Z",
     "iopub.status.busy": "2023-07-31T10:36:35.548878Z",
     "iopub.status.idle": "2023-07-31T10:36:35.630963Z",
     "shell.execute_reply": "2023-07-31T10:36:35.629781Z"
    },
    "papermill": {
     "duration": 0.122761,
     "end_time": "2023-07-31T10:36:35.633638",
     "exception": false,
     "start_time": "2023-07-31T10:36:35.510877",
     "status": "completed"
    },
    "tags": []
   },
   "outputs": [
    {
     "name": "stdout",
     "output_type": "stream",
     "text": [
      "0.87 accuracy with a standard deviation of 0.09\n"
     ]
    }
   ],
   "source": [
    "gnb = GaussianNB()\n",
    "\n",
    "scores = cross_val_score(gnb, x_train, y_train, cv=13)\n",
    "\n",
    "print(\"%0.2f accuracy with a standard deviation of %0.2f\" % (scores.mean(), scores.std()))"
   ]
  },
  {
   "cell_type": "code",
   "execution_count": 67,
   "id": "2f4592fc",
   "metadata": {
    "execution": {
     "iopub.execute_input": "2023-07-31T10:36:35.696247Z",
     "iopub.status.busy": "2023-07-31T10:36:35.695495Z",
     "iopub.status.idle": "2023-07-31T10:36:35.705855Z",
     "shell.execute_reply": "2023-07-31T10:36:35.704867Z"
    },
    "papermill": {
     "duration": 0.044231,
     "end_time": "2023-07-31T10:36:35.707976",
     "exception": false,
     "start_time": "2023-07-31T10:36:35.663745",
     "status": "completed"
    },
    "tags": []
   },
   "outputs": [
    {
     "data": {
      "text/html": [
       "<style>#sk-container-id-4 {color: black;background-color: white;}#sk-container-id-4 pre{padding: 0;}#sk-container-id-4 div.sk-toggleable {background-color: white;}#sk-container-id-4 label.sk-toggleable__label {cursor: pointer;display: block;width: 100%;margin-bottom: 0;padding: 0.3em;box-sizing: border-box;text-align: center;}#sk-container-id-4 label.sk-toggleable__label-arrow:before {content: \"▸\";float: left;margin-right: 0.25em;color: #696969;}#sk-container-id-4 label.sk-toggleable__label-arrow:hover:before {color: black;}#sk-container-id-4 div.sk-estimator:hover label.sk-toggleable__label-arrow:before {color: black;}#sk-container-id-4 div.sk-toggleable__content {max-height: 0;max-width: 0;overflow: hidden;text-align: left;background-color: #f0f8ff;}#sk-container-id-4 div.sk-toggleable__content pre {margin: 0.2em;color: black;border-radius: 0.25em;background-color: #f0f8ff;}#sk-container-id-4 input.sk-toggleable__control:checked~div.sk-toggleable__content {max-height: 200px;max-width: 100%;overflow: auto;}#sk-container-id-4 input.sk-toggleable__control:checked~label.sk-toggleable__label-arrow:before {content: \"▾\";}#sk-container-id-4 div.sk-estimator input.sk-toggleable__control:checked~label.sk-toggleable__label {background-color: #d4ebff;}#sk-container-id-4 div.sk-label input.sk-toggleable__control:checked~label.sk-toggleable__label {background-color: #d4ebff;}#sk-container-id-4 input.sk-hidden--visually {border: 0;clip: rect(1px 1px 1px 1px);clip: rect(1px, 1px, 1px, 1px);height: 1px;margin: -1px;overflow: hidden;padding: 0;position: absolute;width: 1px;}#sk-container-id-4 div.sk-estimator {font-family: monospace;background-color: #f0f8ff;border: 1px dotted black;border-radius: 0.25em;box-sizing: border-box;margin-bottom: 0.5em;}#sk-container-id-4 div.sk-estimator:hover {background-color: #d4ebff;}#sk-container-id-4 div.sk-parallel-item::after {content: \"\";width: 100%;border-bottom: 1px solid gray;flex-grow: 1;}#sk-container-id-4 div.sk-label:hover label.sk-toggleable__label {background-color: #d4ebff;}#sk-container-id-4 div.sk-serial::before {content: \"\";position: absolute;border-left: 1px solid gray;box-sizing: border-box;top: 0;bottom: 0;left: 50%;z-index: 0;}#sk-container-id-4 div.sk-serial {display: flex;flex-direction: column;align-items: center;background-color: white;padding-right: 0.2em;padding-left: 0.2em;position: relative;}#sk-container-id-4 div.sk-item {position: relative;z-index: 1;}#sk-container-id-4 div.sk-parallel {display: flex;align-items: stretch;justify-content: center;background-color: white;position: relative;}#sk-container-id-4 div.sk-item::before, #sk-container-id-4 div.sk-parallel-item::before {content: \"\";position: absolute;border-left: 1px solid gray;box-sizing: border-box;top: 0;bottom: 0;left: 50%;z-index: -1;}#sk-container-id-4 div.sk-parallel-item {display: flex;flex-direction: column;z-index: 1;position: relative;background-color: white;}#sk-container-id-4 div.sk-parallel-item:first-child::after {align-self: flex-end;width: 50%;}#sk-container-id-4 div.sk-parallel-item:last-child::after {align-self: flex-start;width: 50%;}#sk-container-id-4 div.sk-parallel-item:only-child::after {width: 0;}#sk-container-id-4 div.sk-dashed-wrapped {border: 1px dashed gray;margin: 0 0.4em 0.5em 0.4em;box-sizing: border-box;padding-bottom: 0.4em;background-color: white;}#sk-container-id-4 div.sk-label label {font-family: monospace;font-weight: bold;display: inline-block;line-height: 1.2em;}#sk-container-id-4 div.sk-label-container {text-align: center;}#sk-container-id-4 div.sk-container {/* jupyter's `normalize.less` sets `[hidden] { display: none; }` but bootstrap.min.css set `[hidden] { display: none !important; }` so we also need the `!important` here to be able to override the default hidden behavior on the sphinx rendered scikit-learn.org. See: https://github.com/scikit-learn/scikit-learn/issues/21755 */display: inline-block !important;position: relative;}#sk-container-id-4 div.sk-text-repr-fallback {display: none;}</style><div id=\"sk-container-id-4\" class=\"sk-top-container\"><div class=\"sk-text-repr-fallback\"><pre>GaussianNB()</pre><b>In a Jupyter environment, please rerun this cell to show the HTML representation or trust the notebook. <br />On GitHub, the HTML representation is unable to render, please try loading this page with nbviewer.org.</b></div><div class=\"sk-container\" hidden><div class=\"sk-item\"><div class=\"sk-estimator sk-toggleable\"><input class=\"sk-toggleable__control sk-hidden--visually\" id=\"sk-estimator-id-4\" type=\"checkbox\" checked><label for=\"sk-estimator-id-4\" class=\"sk-toggleable__label sk-toggleable__label-arrow\">GaussianNB</label><div class=\"sk-toggleable__content\"><pre>GaussianNB()</pre></div></div></div></div></div>"
      ],
      "text/plain": [
       "GaussianNB()"
      ]
     },
     "execution_count": 67,
     "metadata": {},
     "output_type": "execute_result"
    }
   ],
   "source": [
    "gnb.fit(x_train, y_train)"
   ]
  },
  {
   "cell_type": "code",
   "execution_count": 68,
   "id": "4fd6797a",
   "metadata": {
    "execution": {
     "iopub.execute_input": "2023-07-31T10:36:35.770368Z",
     "iopub.status.busy": "2023-07-31T10:36:35.769749Z",
     "iopub.status.idle": "2023-07-31T10:36:35.776385Z",
     "shell.execute_reply": "2023-07-31T10:36:35.775460Z"
    },
    "papermill": {
     "duration": 0.040217,
     "end_time": "2023-07-31T10:36:35.778375",
     "exception": false,
     "start_time": "2023-07-31T10:36:35.738158",
     "status": "completed"
    },
    "tags": []
   },
   "outputs": [],
   "source": [
    "y_pred = gnb.predict(x_test)"
   ]
  },
  {
   "cell_type": "code",
   "execution_count": 69,
   "id": "5ee764c8",
   "metadata": {
    "execution": {
     "iopub.execute_input": "2023-07-31T10:36:35.841505Z",
     "iopub.status.busy": "2023-07-31T10:36:35.840838Z",
     "iopub.status.idle": "2023-07-31T10:36:35.849010Z",
     "shell.execute_reply": "2023-07-31T10:36:35.847951Z"
    },
    "papermill": {
     "duration": 0.042912,
     "end_time": "2023-07-31T10:36:35.851382",
     "exception": false,
     "start_time": "2023-07-31T10:36:35.808470",
     "status": "completed"
    },
    "tags": []
   },
   "outputs": [
    {
     "data": {
      "text/plain": [
       "array([[14,  2,  0],\n",
       "       [ 1, 45,  2],\n",
       "       [ 0,  2,  9]])"
      ]
     },
     "execution_count": 69,
     "metadata": {},
     "output_type": "execute_result"
    }
   ],
   "source": [
    "confusion_matrix(y_test, y_pred)"
   ]
  },
  {
   "cell_type": "code",
   "execution_count": 70,
   "id": "2519fd38",
   "metadata": {
    "execution": {
     "iopub.execute_input": "2023-07-31T10:36:35.914777Z",
     "iopub.status.busy": "2023-07-31T10:36:35.914360Z",
     "iopub.status.idle": "2023-07-31T10:36:35.950453Z",
     "shell.execute_reply": "2023-07-31T10:36:35.949246Z"
    },
    "papermill": {
     "duration": 0.070349,
     "end_time": "2023-07-31T10:36:35.952860",
     "exception": false,
     "start_time": "2023-07-31T10:36:35.882511",
     "status": "completed"
    },
    "tags": []
   },
   "outputs": [
    {
     "name": "stdout",
     "output_type": "stream",
     "text": [
      "\n",
      "Accuracy: 0.9067\n",
      "\n",
      "Micro Precision: 0.91\n",
      "Micro Recall: 0.91\n",
      "Micro F1-score: 0.91\n",
      "\n",
      "Macro Precision: 0.89\n",
      "Macro Recall: 0.88\n",
      "Macro F1-score: 0.88\n",
      "\n",
      "Weighted Precision: 0.91\n",
      "Weighted Recall: 0.91\n",
      "Weighted F1-score: 0.91\n",
      "\n",
      "Classification Report\n",
      "\n",
      "              precision    recall  f1-score   support\n",
      "\n",
      "    Insomnia       0.93      0.88      0.90        16\n",
      "        None       0.92      0.94      0.93        48\n",
      " Sleep Apnea       0.82      0.82      0.82        11\n",
      "\n",
      "    accuracy                           0.91        75\n",
      "   macro avg       0.89      0.88      0.88        75\n",
      "weighted avg       0.91      0.91      0.91        75\n",
      "\n"
     ]
    }
   ],
   "source": [
    "print('\\nAccuracy: {:.4f}\\n'.format(accuracy_score(y_test, y_pred)))\n",
    "\n",
    "print('Micro Precision: {:.2f}'.format(precision_score(y_test, y_pred, average='micro')))\n",
    "print('Micro Recall: {:.2f}'.format(recall_score(y_test, y_pred, average='micro')))\n",
    "print('Micro F1-score: {:.2f}\\n'.format(f1_score(y_test, y_pred, average='micro')))\n",
    "\n",
    "print('Macro Precision: {:.2f}'.format(precision_score(y_test, y_pred, average='macro')))\n",
    "print('Macro Recall: {:.2f}'.format(recall_score(y_test, y_pred, average='macro')))\n",
    "print('Macro F1-score: {:.2f}\\n'.format(f1_score(y_test, y_pred, average='macro')))\n",
    "\n",
    "print('Weighted Precision: {:.2f}'.format(precision_score(y_test, y_pred, average='weighted')))\n",
    "print('Weighted Recall: {:.2f}'.format(recall_score(y_test, y_pred, average='weighted')))\n",
    "print('Weighted F1-score: {:.2f}'.format(f1_score(y_test, y_pred, average='weighted')))\n",
    "\n",
    "from sklearn.metrics import classification_report\n",
    "print('\\nClassification Report\\n')\n",
    "print(classification_report(y_test, y_pred, target_names=['Insomnia', 'None', 'Sleep Apnea']))"
   ]
  },
  {
   "cell_type": "markdown",
   "id": "fbcfb957",
   "metadata": {
    "papermill": {
     "duration": 0.030559,
     "end_time": "2023-07-31T10:36:36.014363",
     "exception": false,
     "start_time": "2023-07-31T10:36:35.983804",
     "status": "completed"
    },
    "tags": []
   },
   "source": [
    "The accuracy is 90.67% whereas the weighted F1-score is 91%. Therefore, this model performs slightly worse than the previous models."
   ]
  },
  {
   "cell_type": "markdown",
   "id": "15f60283",
   "metadata": {
    "papermill": {
     "duration": 0.030906,
     "end_time": "2023-07-31T10:36:36.076596",
     "exception": false,
     "start_time": "2023-07-31T10:36:36.045690",
     "status": "completed"
    },
    "tags": []
   },
   "source": [
    "# Random Forest"
   ]
  },
  {
   "cell_type": "code",
   "execution_count": 71,
   "id": "33ce20be",
   "metadata": {
    "execution": {
     "iopub.execute_input": "2023-07-31T10:36:36.140747Z",
     "iopub.status.busy": "2023-07-31T10:36:36.140318Z",
     "iopub.status.idle": "2023-07-31T10:36:36.317544Z",
     "shell.execute_reply": "2023-07-31T10:36:36.316376Z"
    },
    "papermill": {
     "duration": 0.212925,
     "end_time": "2023-07-31T10:36:36.320469",
     "exception": false,
     "start_time": "2023-07-31T10:36:36.107544",
     "status": "completed"
    },
    "tags": []
   },
   "outputs": [],
   "source": [
    "from sklearn.ensemble import RandomForestClassifier"
   ]
  },
  {
   "cell_type": "code",
   "execution_count": 72,
   "id": "23e25a73",
   "metadata": {
    "execution": {
     "iopub.execute_input": "2023-07-31T10:36:36.383580Z",
     "iopub.status.busy": "2023-07-31T10:36:36.383169Z",
     "iopub.status.idle": "2023-07-31T10:36:38.850287Z",
     "shell.execute_reply": "2023-07-31T10:36:38.849193Z"
    },
    "papermill": {
     "duration": 2.501533,
     "end_time": "2023-07-31T10:36:38.852771",
     "exception": false,
     "start_time": "2023-07-31T10:36:36.351238",
     "status": "completed"
    },
    "tags": []
   },
   "outputs": [
    {
     "name": "stdout",
     "output_type": "stream",
     "text": [
      "0.89 accuracy with a standard deviation of 0.07\n"
     ]
    }
   ],
   "source": [
    "rf = RandomForestClassifier(n_estimators=100)\n",
    "\n",
    "scores = cross_val_score(rf, x_train, y_train, cv=13)\n",
    "\n",
    "print(\"%0.2f accuracy with a standard deviation of %0.2f\" % (scores.mean(), scores.std()))"
   ]
  },
  {
   "cell_type": "code",
   "execution_count": 73,
   "id": "f00affca",
   "metadata": {
    "execution": {
     "iopub.execute_input": "2023-07-31T10:36:38.917602Z",
     "iopub.status.busy": "2023-07-31T10:36:38.917190Z",
     "iopub.status.idle": "2023-07-31T10:36:39.104410Z",
     "shell.execute_reply": "2023-07-31T10:36:39.103347Z"
    },
    "papermill": {
     "duration": 0.22228,
     "end_time": "2023-07-31T10:36:39.106754",
     "exception": false,
     "start_time": "2023-07-31T10:36:38.884474",
     "status": "completed"
    },
    "tags": []
   },
   "outputs": [
    {
     "data": {
      "text/html": [
       "<style>#sk-container-id-5 {color: black;background-color: white;}#sk-container-id-5 pre{padding: 0;}#sk-container-id-5 div.sk-toggleable {background-color: white;}#sk-container-id-5 label.sk-toggleable__label {cursor: pointer;display: block;width: 100%;margin-bottom: 0;padding: 0.3em;box-sizing: border-box;text-align: center;}#sk-container-id-5 label.sk-toggleable__label-arrow:before {content: \"▸\";float: left;margin-right: 0.25em;color: #696969;}#sk-container-id-5 label.sk-toggleable__label-arrow:hover:before {color: black;}#sk-container-id-5 div.sk-estimator:hover label.sk-toggleable__label-arrow:before {color: black;}#sk-container-id-5 div.sk-toggleable__content {max-height: 0;max-width: 0;overflow: hidden;text-align: left;background-color: #f0f8ff;}#sk-container-id-5 div.sk-toggleable__content pre {margin: 0.2em;color: black;border-radius: 0.25em;background-color: #f0f8ff;}#sk-container-id-5 input.sk-toggleable__control:checked~div.sk-toggleable__content {max-height: 200px;max-width: 100%;overflow: auto;}#sk-container-id-5 input.sk-toggleable__control:checked~label.sk-toggleable__label-arrow:before {content: \"▾\";}#sk-container-id-5 div.sk-estimator input.sk-toggleable__control:checked~label.sk-toggleable__label {background-color: #d4ebff;}#sk-container-id-5 div.sk-label input.sk-toggleable__control:checked~label.sk-toggleable__label {background-color: #d4ebff;}#sk-container-id-5 input.sk-hidden--visually {border: 0;clip: rect(1px 1px 1px 1px);clip: rect(1px, 1px, 1px, 1px);height: 1px;margin: -1px;overflow: hidden;padding: 0;position: absolute;width: 1px;}#sk-container-id-5 div.sk-estimator {font-family: monospace;background-color: #f0f8ff;border: 1px dotted black;border-radius: 0.25em;box-sizing: border-box;margin-bottom: 0.5em;}#sk-container-id-5 div.sk-estimator:hover {background-color: #d4ebff;}#sk-container-id-5 div.sk-parallel-item::after {content: \"\";width: 100%;border-bottom: 1px solid gray;flex-grow: 1;}#sk-container-id-5 div.sk-label:hover label.sk-toggleable__label {background-color: #d4ebff;}#sk-container-id-5 div.sk-serial::before {content: \"\";position: absolute;border-left: 1px solid gray;box-sizing: border-box;top: 0;bottom: 0;left: 50%;z-index: 0;}#sk-container-id-5 div.sk-serial {display: flex;flex-direction: column;align-items: center;background-color: white;padding-right: 0.2em;padding-left: 0.2em;position: relative;}#sk-container-id-5 div.sk-item {position: relative;z-index: 1;}#sk-container-id-5 div.sk-parallel {display: flex;align-items: stretch;justify-content: center;background-color: white;position: relative;}#sk-container-id-5 div.sk-item::before, #sk-container-id-5 div.sk-parallel-item::before {content: \"\";position: absolute;border-left: 1px solid gray;box-sizing: border-box;top: 0;bottom: 0;left: 50%;z-index: -1;}#sk-container-id-5 div.sk-parallel-item {display: flex;flex-direction: column;z-index: 1;position: relative;background-color: white;}#sk-container-id-5 div.sk-parallel-item:first-child::after {align-self: flex-end;width: 50%;}#sk-container-id-5 div.sk-parallel-item:last-child::after {align-self: flex-start;width: 50%;}#sk-container-id-5 div.sk-parallel-item:only-child::after {width: 0;}#sk-container-id-5 div.sk-dashed-wrapped {border: 1px dashed gray;margin: 0 0.4em 0.5em 0.4em;box-sizing: border-box;padding-bottom: 0.4em;background-color: white;}#sk-container-id-5 div.sk-label label {font-family: monospace;font-weight: bold;display: inline-block;line-height: 1.2em;}#sk-container-id-5 div.sk-label-container {text-align: center;}#sk-container-id-5 div.sk-container {/* jupyter's `normalize.less` sets `[hidden] { display: none; }` but bootstrap.min.css set `[hidden] { display: none !important; }` so we also need the `!important` here to be able to override the default hidden behavior on the sphinx rendered scikit-learn.org. See: https://github.com/scikit-learn/scikit-learn/issues/21755 */display: inline-block !important;position: relative;}#sk-container-id-5 div.sk-text-repr-fallback {display: none;}</style><div id=\"sk-container-id-5\" class=\"sk-top-container\"><div class=\"sk-text-repr-fallback\"><pre>RandomForestClassifier()</pre><b>In a Jupyter environment, please rerun this cell to show the HTML representation or trust the notebook. <br />On GitHub, the HTML representation is unable to render, please try loading this page with nbviewer.org.</b></div><div class=\"sk-container\" hidden><div class=\"sk-item\"><div class=\"sk-estimator sk-toggleable\"><input class=\"sk-toggleable__control sk-hidden--visually\" id=\"sk-estimator-id-5\" type=\"checkbox\" checked><label for=\"sk-estimator-id-5\" class=\"sk-toggleable__label sk-toggleable__label-arrow\">RandomForestClassifier</label><div class=\"sk-toggleable__content\"><pre>RandomForestClassifier()</pre></div></div></div></div></div>"
      ],
      "text/plain": [
       "RandomForestClassifier()"
      ]
     },
     "execution_count": 73,
     "metadata": {},
     "output_type": "execute_result"
    }
   ],
   "source": [
    "rf.fit(x_train,y_train)"
   ]
  },
  {
   "cell_type": "code",
   "execution_count": 74,
   "id": "d1a2f1af",
   "metadata": {
    "execution": {
     "iopub.execute_input": "2023-07-31T10:36:39.170943Z",
     "iopub.status.busy": "2023-07-31T10:36:39.170542Z",
     "iopub.status.idle": "2023-07-31T10:36:39.190915Z",
     "shell.execute_reply": "2023-07-31T10:36:39.189851Z"
    },
    "papermill": {
     "duration": 0.055166,
     "end_time": "2023-07-31T10:36:39.193311",
     "exception": false,
     "start_time": "2023-07-31T10:36:39.138145",
     "status": "completed"
    },
    "tags": []
   },
   "outputs": [],
   "source": [
    "y_pred = rf.predict(x_test)"
   ]
  },
  {
   "cell_type": "code",
   "execution_count": 75,
   "id": "470cd5e4",
   "metadata": {
    "execution": {
     "iopub.execute_input": "2023-07-31T10:36:39.259355Z",
     "iopub.status.busy": "2023-07-31T10:36:39.258231Z",
     "iopub.status.idle": "2023-07-31T10:36:39.295613Z",
     "shell.execute_reply": "2023-07-31T10:36:39.294381Z"
    },
    "papermill": {
     "duration": 0.071932,
     "end_time": "2023-07-31T10:36:39.298177",
     "exception": false,
     "start_time": "2023-07-31T10:36:39.226245",
     "status": "completed"
    },
    "tags": []
   },
   "outputs": [
    {
     "name": "stdout",
     "output_type": "stream",
     "text": [
      "\n",
      "Accuracy: 0.933\n",
      "\n",
      "Micro Precision: 0.93\n",
      "Micro Recall: 0.93\n",
      "Micro F1-score: 0.93\n",
      "\n",
      "Macro Precision: 0.94\n",
      "Macro Recall: 0.89\n",
      "Macro F1-score: 0.91\n",
      "\n",
      "Weighted Precision: 0.94\n",
      "Weighted Recall: 0.93\n",
      "Weighted F1-score: 0.93\n",
      "\n",
      "Classification Report\n",
      "\n",
      "              precision    recall  f1-score   support\n",
      "\n",
      "    Insomnia       1.00      0.88      0.93        16\n",
      "        None       0.92      0.98      0.95        48\n",
      " Sleep Apnea       0.90      0.82      0.86        11\n",
      "\n",
      "    accuracy                           0.93        75\n",
      "   macro avg       0.94      0.89      0.91        75\n",
      "weighted avg       0.94      0.93      0.93        75\n",
      "\n"
     ]
    }
   ],
   "source": [
    "print('\\nAccuracy: {:.3f}\\n'.format(accuracy_score(y_test, y_pred)))\n",
    "\n",
    "print('Micro Precision: {:.2f}'.format(precision_score(y_test, y_pred, average='micro')))\n",
    "print('Micro Recall: {:.2f}'.format(recall_score(y_test, y_pred, average='micro')))\n",
    "print('Micro F1-score: {:.2f}\\n'.format(f1_score(y_test, y_pred, average='micro')))\n",
    "\n",
    "print('Macro Precision: {:.2f}'.format(precision_score(y_test, y_pred, average='macro')))\n",
    "print('Macro Recall: {:.2f}'.format(recall_score(y_test, y_pred, average='macro')))\n",
    "print('Macro F1-score: {:.2f}\\n'.format(f1_score(y_test, y_pred, average='macro')))\n",
    "\n",
    "print('Weighted Precision: {:.2f}'.format(precision_score(y_test, y_pred, average='weighted')))\n",
    "print('Weighted Recall: {:.2f}'.format(recall_score(y_test, y_pred, average='weighted')))\n",
    "print('Weighted F1-score: {:.2f}'.format(f1_score(y_test, y_pred, average='weighted')))\n",
    "\n",
    "from sklearn.metrics import classification_report\n",
    "print('\\nClassification Report\\n')\n",
    "print(classification_report(y_test, y_pred, target_names=['Insomnia', 'None', 'Sleep Apnea']))"
   ]
  },
  {
   "cell_type": "markdown",
   "id": "b080a07f",
   "metadata": {
    "papermill": {
     "duration": 0.030568,
     "end_time": "2023-07-31T10:36:39.359717",
     "exception": false,
     "start_time": "2023-07-31T10:36:39.329149",
     "status": "completed"
    },
    "tags": []
   },
   "source": [
    "The accuracy and the F1-score achieved is 93%. "
   ]
  },
  {
   "cell_type": "markdown",
   "id": "ce521be1",
   "metadata": {
    "papermill": {
     "duration": 0.030513,
     "end_time": "2023-07-31T10:36:39.420872",
     "exception": false,
     "start_time": "2023-07-31T10:36:39.390359",
     "status": "completed"
    },
    "tags": []
   },
   "source": [
    "# SVM"
   ]
  },
  {
   "cell_type": "code",
   "execution_count": 76,
   "id": "fc93e5e6",
   "metadata": {
    "execution": {
     "iopub.execute_input": "2023-07-31T10:36:39.484617Z",
     "iopub.status.busy": "2023-07-31T10:36:39.484225Z",
     "iopub.status.idle": "2023-07-31T10:36:39.488842Z",
     "shell.execute_reply": "2023-07-31T10:36:39.487858Z"
    },
    "papermill": {
     "duration": 0.039276,
     "end_time": "2023-07-31T10:36:39.490874",
     "exception": false,
     "start_time": "2023-07-31T10:36:39.451598",
     "status": "completed"
    },
    "tags": []
   },
   "outputs": [],
   "source": [
    "from sklearn.svm import SVC"
   ]
  },
  {
   "cell_type": "code",
   "execution_count": 77,
   "id": "2a660828",
   "metadata": {
    "execution": {
     "iopub.execute_input": "2023-07-31T10:36:39.554560Z",
     "iopub.status.busy": "2023-07-31T10:36:39.554156Z",
     "iopub.status.idle": "2023-07-31T10:36:39.670628Z",
     "shell.execute_reply": "2023-07-31T10:36:39.669176Z"
    },
    "papermill": {
     "duration": 0.151286,
     "end_time": "2023-07-31T10:36:39.673140",
     "exception": false,
     "start_time": "2023-07-31T10:36:39.521854",
     "status": "completed"
    },
    "tags": []
   },
   "outputs": [
    {
     "name": "stdout",
     "output_type": "stream",
     "text": [
      "0.88 accuracy with a standard deviation of 0.06\n"
     ]
    }
   ],
   "source": [
    "svm = SVC(kernel=\"rbf\", gamma=0.5, C=1.0)\n",
    "\n",
    "scores = cross_val_score(svm, x_train, y_train, cv=13)\n",
    "\n",
    "print(\"%0.2f accuracy with a standard deviation of %0.2f\" % (scores.mean(), scores.std()))"
   ]
  },
  {
   "cell_type": "code",
   "execution_count": 78,
   "id": "f93ca8a8",
   "metadata": {
    "execution": {
     "iopub.execute_input": "2023-07-31T10:36:39.737532Z",
     "iopub.status.busy": "2023-07-31T10:36:39.737129Z",
     "iopub.status.idle": "2023-07-31T10:36:39.750987Z",
     "shell.execute_reply": "2023-07-31T10:36:39.749957Z"
    },
    "papermill": {
     "duration": 0.048563,
     "end_time": "2023-07-31T10:36:39.753187",
     "exception": false,
     "start_time": "2023-07-31T10:36:39.704624",
     "status": "completed"
    },
    "tags": []
   },
   "outputs": [
    {
     "data": {
      "text/html": [
       "<style>#sk-container-id-6 {color: black;background-color: white;}#sk-container-id-6 pre{padding: 0;}#sk-container-id-6 div.sk-toggleable {background-color: white;}#sk-container-id-6 label.sk-toggleable__label {cursor: pointer;display: block;width: 100%;margin-bottom: 0;padding: 0.3em;box-sizing: border-box;text-align: center;}#sk-container-id-6 label.sk-toggleable__label-arrow:before {content: \"▸\";float: left;margin-right: 0.25em;color: #696969;}#sk-container-id-6 label.sk-toggleable__label-arrow:hover:before {color: black;}#sk-container-id-6 div.sk-estimator:hover label.sk-toggleable__label-arrow:before {color: black;}#sk-container-id-6 div.sk-toggleable__content {max-height: 0;max-width: 0;overflow: hidden;text-align: left;background-color: #f0f8ff;}#sk-container-id-6 div.sk-toggleable__content pre {margin: 0.2em;color: black;border-radius: 0.25em;background-color: #f0f8ff;}#sk-container-id-6 input.sk-toggleable__control:checked~div.sk-toggleable__content {max-height: 200px;max-width: 100%;overflow: auto;}#sk-container-id-6 input.sk-toggleable__control:checked~label.sk-toggleable__label-arrow:before {content: \"▾\";}#sk-container-id-6 div.sk-estimator input.sk-toggleable__control:checked~label.sk-toggleable__label {background-color: #d4ebff;}#sk-container-id-6 div.sk-label input.sk-toggleable__control:checked~label.sk-toggleable__label {background-color: #d4ebff;}#sk-container-id-6 input.sk-hidden--visually {border: 0;clip: rect(1px 1px 1px 1px);clip: rect(1px, 1px, 1px, 1px);height: 1px;margin: -1px;overflow: hidden;padding: 0;position: absolute;width: 1px;}#sk-container-id-6 div.sk-estimator {font-family: monospace;background-color: #f0f8ff;border: 1px dotted black;border-radius: 0.25em;box-sizing: border-box;margin-bottom: 0.5em;}#sk-container-id-6 div.sk-estimator:hover {background-color: #d4ebff;}#sk-container-id-6 div.sk-parallel-item::after {content: \"\";width: 100%;border-bottom: 1px solid gray;flex-grow: 1;}#sk-container-id-6 div.sk-label:hover label.sk-toggleable__label {background-color: #d4ebff;}#sk-container-id-6 div.sk-serial::before {content: \"\";position: absolute;border-left: 1px solid gray;box-sizing: border-box;top: 0;bottom: 0;left: 50%;z-index: 0;}#sk-container-id-6 div.sk-serial {display: flex;flex-direction: column;align-items: center;background-color: white;padding-right: 0.2em;padding-left: 0.2em;position: relative;}#sk-container-id-6 div.sk-item {position: relative;z-index: 1;}#sk-container-id-6 div.sk-parallel {display: flex;align-items: stretch;justify-content: center;background-color: white;position: relative;}#sk-container-id-6 div.sk-item::before, #sk-container-id-6 div.sk-parallel-item::before {content: \"\";position: absolute;border-left: 1px solid gray;box-sizing: border-box;top: 0;bottom: 0;left: 50%;z-index: -1;}#sk-container-id-6 div.sk-parallel-item {display: flex;flex-direction: column;z-index: 1;position: relative;background-color: white;}#sk-container-id-6 div.sk-parallel-item:first-child::after {align-self: flex-end;width: 50%;}#sk-container-id-6 div.sk-parallel-item:last-child::after {align-self: flex-start;width: 50%;}#sk-container-id-6 div.sk-parallel-item:only-child::after {width: 0;}#sk-container-id-6 div.sk-dashed-wrapped {border: 1px dashed gray;margin: 0 0.4em 0.5em 0.4em;box-sizing: border-box;padding-bottom: 0.4em;background-color: white;}#sk-container-id-6 div.sk-label label {font-family: monospace;font-weight: bold;display: inline-block;line-height: 1.2em;}#sk-container-id-6 div.sk-label-container {text-align: center;}#sk-container-id-6 div.sk-container {/* jupyter's `normalize.less` sets `[hidden] { display: none; }` but bootstrap.min.css set `[hidden] { display: none !important; }` so we also need the `!important` here to be able to override the default hidden behavior on the sphinx rendered scikit-learn.org. See: https://github.com/scikit-learn/scikit-learn/issues/21755 */display: inline-block !important;position: relative;}#sk-container-id-6 div.sk-text-repr-fallback {display: none;}</style><div id=\"sk-container-id-6\" class=\"sk-top-container\"><div class=\"sk-text-repr-fallback\"><pre>SVC(gamma=0.5)</pre><b>In a Jupyter environment, please rerun this cell to show the HTML representation or trust the notebook. <br />On GitHub, the HTML representation is unable to render, please try loading this page with nbviewer.org.</b></div><div class=\"sk-container\" hidden><div class=\"sk-item\"><div class=\"sk-estimator sk-toggleable\"><input class=\"sk-toggleable__control sk-hidden--visually\" id=\"sk-estimator-id-6\" type=\"checkbox\" checked><label for=\"sk-estimator-id-6\" class=\"sk-toggleable__label sk-toggleable__label-arrow\">SVC</label><div class=\"sk-toggleable__content\"><pre>SVC(gamma=0.5)</pre></div></div></div></div></div>"
      ],
      "text/plain": [
       "SVC(gamma=0.5)"
      ]
     },
     "execution_count": 78,
     "metadata": {},
     "output_type": "execute_result"
    }
   ],
   "source": [
    "svm.fit(x_train,y_train)"
   ]
  },
  {
   "cell_type": "code",
   "execution_count": 79,
   "id": "f53842a1",
   "metadata": {
    "execution": {
     "iopub.execute_input": "2023-07-31T10:36:39.818014Z",
     "iopub.status.busy": "2023-07-31T10:36:39.817649Z",
     "iopub.status.idle": "2023-07-31T10:36:39.825060Z",
     "shell.execute_reply": "2023-07-31T10:36:39.823834Z"
    },
    "papermill": {
     "duration": 0.042792,
     "end_time": "2023-07-31T10:36:39.827385",
     "exception": false,
     "start_time": "2023-07-31T10:36:39.784593",
     "status": "completed"
    },
    "tags": []
   },
   "outputs": [],
   "source": [
    "y_pred = svm.predict(x_test)"
   ]
  },
  {
   "cell_type": "code",
   "execution_count": 80,
   "id": "9d49b86a",
   "metadata": {
    "execution": {
     "iopub.execute_input": "2023-07-31T10:36:39.893217Z",
     "iopub.status.busy": "2023-07-31T10:36:39.892836Z",
     "iopub.status.idle": "2023-07-31T10:36:39.929793Z",
     "shell.execute_reply": "2023-07-31T10:36:39.928475Z"
    },
    "papermill": {
     "duration": 0.073141,
     "end_time": "2023-07-31T10:36:39.932143",
     "exception": false,
     "start_time": "2023-07-31T10:36:39.859002",
     "status": "completed"
    },
    "tags": []
   },
   "outputs": [
    {
     "name": "stdout",
     "output_type": "stream",
     "text": [
      "\n",
      "Accuracy: 0.933\n",
      "\n",
      "Micro Precision: 0.93\n",
      "Micro Recall: 0.93\n",
      "Micro F1-score: 0.93\n",
      "\n",
      "Macro Precision: 0.94\n",
      "Macro Recall: 0.89\n",
      "Macro F1-score: 0.91\n",
      "\n",
      "Weighted Precision: 0.94\n",
      "Weighted Recall: 0.93\n",
      "Weighted F1-score: 0.93\n",
      "\n",
      "Classification Report\n",
      "\n",
      "              precision    recall  f1-score   support\n",
      "\n",
      "    Insomnia       1.00      0.88      0.93        16\n",
      "        None       0.92      0.98      0.95        48\n",
      " Sleep Apnea       0.90      0.82      0.86        11\n",
      "\n",
      "    accuracy                           0.93        75\n",
      "   macro avg       0.94      0.89      0.91        75\n",
      "weighted avg       0.94      0.93      0.93        75\n",
      "\n"
     ]
    }
   ],
   "source": [
    "print('\\nAccuracy: {:.3f}\\n'.format(accuracy_score(y_test, y_pred)))\n",
    "\n",
    "print('Micro Precision: {:.2f}'.format(precision_score(y_test, y_pred, average='micro')))\n",
    "print('Micro Recall: {:.2f}'.format(recall_score(y_test, y_pred, average='micro')))\n",
    "print('Micro F1-score: {:.2f}\\n'.format(f1_score(y_test, y_pred, average='micro')))\n",
    "\n",
    "print('Macro Precision: {:.2f}'.format(precision_score(y_test, y_pred, average='macro')))\n",
    "print('Macro Recall: {:.2f}'.format(recall_score(y_test, y_pred, average='macro')))\n",
    "print('Macro F1-score: {:.2f}\\n'.format(f1_score(y_test, y_pred, average='macro')))\n",
    "\n",
    "print('Weighted Precision: {:.2f}'.format(precision_score(y_test, y_pred, average='weighted')))\n",
    "print('Weighted Recall: {:.2f}'.format(recall_score(y_test, y_pred, average='weighted')))\n",
    "print('Weighted F1-score: {:.2f}'.format(f1_score(y_test, y_pred, average='weighted')))\n",
    "\n",
    "from sklearn.metrics import classification_report\n",
    "print('\\nClassification Report\\n')\n",
    "print(classification_report(y_test, y_pred, target_names=['Insomnia', 'None', 'Sleep Apnea']))"
   ]
  },
  {
   "cell_type": "markdown",
   "id": "63a618bd",
   "metadata": {
    "papermill": {
     "duration": 0.034374,
     "end_time": "2023-07-31T10:36:39.998363",
     "exception": false,
     "start_time": "2023-07-31T10:36:39.963989",
     "status": "completed"
    },
    "tags": []
   },
   "source": [
    "The accuracy and F1-score obtained is 93%"
   ]
  },
  {
   "cell_type": "markdown",
   "id": "31b5d861",
   "metadata": {
    "papermill": {
     "duration": 0.031025,
     "end_time": "2023-07-31T10:36:40.061608",
     "exception": false,
     "start_time": "2023-07-31T10:36:40.030583",
     "status": "completed"
    },
    "tags": []
   },
   "source": [
    "# Inference"
   ]
  },
  {
   "cell_type": "markdown",
   "id": "e6c5b7c4",
   "metadata": {
    "papermill": {
     "duration": 0.031053,
     "end_time": "2023-07-31T10:36:40.124280",
     "exception": false,
     "start_time": "2023-07-31T10:36:40.093227",
     "status": "completed"
    },
    "tags": []
   },
   "source": [
    "After using K-fold cross validation, we can observe that Logistic Regression performs the best giving an accuracy of 91% with a standard deviation of 0.06. Since, the dataset has been balanced, the accuracy is almost to equal to F1-score for all the models.   "
   ]
  }
 ],
 "metadata": {
  "kernelspec": {
   "display_name": "Python 3",
   "language": "python",
   "name": "python3"
  },
  "language_info": {
   "codemirror_mode": {
    "name": "ipython",
    "version": 3
   },
   "file_extension": ".py",
   "mimetype": "text/x-python",
   "name": "python",
   "nbconvert_exporter": "python",
   "pygments_lexer": "ipython3",
   "version": "3.10.12"
  },
  "papermill": {
   "default_parameters": {},
   "duration": 25.811882,
   "end_time": "2023-07-31T10:36:41.178325",
   "environment_variables": {},
   "exception": null,
   "input_path": "__notebook__.ipynb",
   "output_path": "__notebook__.ipynb",
   "parameters": {},
   "start_time": "2023-07-31T10:36:15.366443",
   "version": "2.4.0"
  }
 },
 "nbformat": 4,
 "nbformat_minor": 5
}
